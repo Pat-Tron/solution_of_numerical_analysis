{
 "cells": [
  {
   "cell_type": "code",
   "execution_count": 2,
   "metadata": {},
   "outputs": [],
   "source": [
    "import numpy as np"
   ]
  },
  {
   "cell_type": "markdown",
   "metadata": {},
   "source": [
    "1. 用`nest`函数估计 $P(x)=1+x+\\dots+x^{50}$ 当 $x=1.00001$ 时的值，并和**等价表达式** $Q(x)=(x^{51}-1)/(x-1)$ 进行比较，找出误差。"
   ]
  },
  {
   "cell_type": "code",
   "execution_count": 3,
   "metadata": {},
   "outputs": [
    {
     "name": "stdout",
     "output_type": "stream",
     "text": [
      "P(1.00001):  51.01275208274999\n",
      "Q(1.00001):  51.01275208274523\n",
      "Error:  4.760636329592671e-12\n"
     ]
    }
   ],
   "source": [
    "P = np.polynomial.Polynomial(np.ones(51))\n",
    "Q = lambda x: (x**51 - 1.) / (x - 1.)\n",
    "x = 1.00001\n",
    "print(\"P(1.00001): \", P(x))\n",
    "print(\"Q(1.00001): \", Q(x))\n",
    "print(\"Error: \", P(x) - Q(x))"
   ]
  },
  {
   "cell_type": "markdown",
   "metadata": {},
   "source": [
    "2. 使用`nest`计算多项式 $P(x)=1-x+x^2-x^3+\\dots+x^{98}-x^{99}$ 当 $x=1.00001$ 时的值。寻找更简单的等价表达式并估计误差。"
   ]
  },
  {
   "cell_type": "code",
   "execution_count": 6,
   "metadata": {},
   "outputs": [
    {
     "name": "stdout",
     "output_type": "stream",
     "text": [
      "P(1.00001):  -0.0005002450796476321\n",
      "Q(1.00001):  -0.0005002450796474608\n",
      "Error:  -1.713039432527097e-16\n"
     ]
    }
   ],
   "source": [
    "# 构造偶正奇负的项系数\n",
    "coefs = (np.arange(100) % 2 == 0).astype(np.float64) * 2. - 1.\n",
    "P = np.polynomial.Polynomial(coefs)\n",
    "Q = lambda x: (1 - x**100) / (1 + x) # 由P*x+P可得\n",
    "print(\"P(1.00001): \", P(x))\n",
    "print(\"Q(1.00001): \", Q(x))\n",
    "print(\"Error: \", P(x) - Q(x))"
   ]
  }
 ],
 "metadata": {
  "kernelspec": {
   "display_name": "Python 3",
   "language": "python",
   "name": "python3"
  },
  "language_info": {
   "codemirror_mode": {
    "name": "ipython",
    "version": 3
   },
   "file_extension": ".py",
   "mimetype": "text/x-python",
   "name": "python",
   "nbconvert_exporter": "python",
   "pygments_lexer": "ipython3",
   "version": "3.12.2"
  }
 },
 "nbformat": 4,
 "nbformat_minor": 2
}
