{
 "cells": [
  {
   "cell_type": "code",
   "execution_count": 1,
   "metadata": {},
   "outputs": [],
   "source": [
    "import numpy as np"
   ]
  },
  {
   "cell_type": "markdown",
   "metadata": {},
   "source": [
    "1. 在 $x=10^{-1}, \\dots, 10^{-14}$ 时分别使用双精度**直接**或利用**计算重构**计算以下两式，对结果制表并报告正确数位的个数：\n",
    "    $$(a) \\frac{1-\\sec{x}}{\\tan^2{x}}, (b) \\frac{1-(1-x)^3}{x}$$\n",
    "    \n"
   ]
  },
  {
   "cell_type": "code",
   "execution_count": 2,
   "metadata": {},
   "outputs": [
    {
     "name": "stdout",
     "output_type": "stream",
     "text": [
      "x=10^-1 \t-0.4987479137114125\t-0.4987479137114288\n",
      "x=10^-2 \t-0.4999874997909555\t-0.4999874997916638\n",
      "x=10^-3 \t-0.4999998750142894\t-0.4999998749999792\n",
      "x=10^-4 \t-0.4999999936279312\t-0.4999999987500000\n",
      "x=10^-5 \t-0.5000000413368521\t-0.4999999999875000\n",
      "x=10^-6 \t-0.5000444502908372\t-0.4999999999998750\n",
      "x=10^-7 \t-0.5107025913275687\t-0.4999999999999987\n",
      "x=10^-8 \t0.0000000000000000\t-0.5000000000000000\n",
      "x=10^-9 \t0.0000000000000000\t-0.5000000000000000\n",
      "x=10^-10 \t0.0000000000000000\t-0.5000000000000000\n",
      "x=10^-11 \t0.0000000000000000\t-0.5000000000000000\n",
      "x=10^-12 \t0.0000000000000000\t-0.5000000000000000\n",
      "x=10^-13 \t0.0000000000000000\t-0.5000000000000000\n",
      "x=10^-14 \t0.0000000000000000\t-0.5000000000000000\n",
      "\n",
      "x=10^-1 \t2.7099999999999991\t2.7100000000000000\n",
      "x=10^-2 \t2.9700999999999977\t2.9701000000000000\n",
      "x=10^-3 \t2.9970009999999991\t2.9970010000000000\n",
      "x=10^-4 \t2.9997000100001614\t2.9997000100000002\n",
      "x=10^-5 \t2.9999700000837843\t2.9999700000999998\n",
      "x=10^-6 \t2.9999970000416099\t2.9999970000010001\n",
      "x=10^-7 \t2.9999996986607158\t2.9999997000000098\n",
      "x=10^-8 \t2.9999999817675871\t2.9999999700000002\n",
      "x=10^-9 \t2.9999999151542056\t2.9999999970000002\n",
      "x=10^-10 \t3.0000002482211130\t2.9999999997000000\n",
      "x=10^-11 \t3.0000002482211130\t2.9999999999700000\n",
      "x=10^-12 \t2.9999336348396355\t2.9999999999970002\n",
      "x=10^-13 \t3.0009328355617981\t2.9999999999996998\n",
      "x=10^-14 \t2.9976021664879227\t2.9999999999999698\n",
      "x=10^-15 \t2.9976021664879222\t2.9999999999999969\n",
      "x=10^-16 \t3.3306690738754696\t2.9999999999999996\n",
      "x=10^-17 \t0.0000000000000000\t3.0000000000000000\n",
      "x=10^-18 \t0.0000000000000000\t3.0000000000000000\n",
      "x=10^-19 \t0.0000000000000000\t3.0000000000000000\n"
     ]
    }
   ],
   "source": [
    "a1 = lambda x: (1.-1./np.cos(x))/(np.tan(x)**2)\n",
    "a2 = lambda x: -1./(1.+1./np.cos(x))\n",
    "for i in range(-1, -15, -1):\n",
    "    print('x=10^%d \\t%.16f\\t%.16f' % (i, a1(10**i), a2(10**i)))\n",
    "print()\n",
    "\n",
    "# lim x->0 (1-(1-x)^3)/x = 3\n",
    "b1 = lambda x: (1.-(1.-x)**3)/x\n",
    "b2 = lambda x: x**2-3.*x+3.\n",
    "for i in range(-1, -20, -1):\n",
    "    print('x=10^%d \\t%.16f\\t%.16f' % (i, b1(10**i), b2(10**i)))"
   ]
  },
  {
   "cell_type": "markdown",
   "metadata": {},
   "source": [
    "2. 寻找p的最小值，使得双精度计算 $x=10^{-p}$ 中没有正确的有效数位。\n",
    "$$(a) \\frac{\\tan{x}-x}{x^3}, (b)\\frac{e^x+\\cos{x}-\\sin{x}-2}{x^3}$$"
   ]
  },
  {
   "cell_type": "code",
   "execution_count": 3,
   "metadata": {},
   "outputs": [
    {
     "name": "stdout",
     "output_type": "stream",
     "text": [
      "x=10^-1 \t0.3346720854505436\t0.3416667068454337\n",
      "x=10^-2 \t0.3333466672070239\t0.3341666667822096\n",
      "x=10^-3 \t0.3333334667315890\t0.3334168496849088\n",
      "x=10^-4 \t0.3333333365189081\t0.3335109965973970\n",
      "x=10^-5 \t0.3333328757329847\t0.4440892098500625\n",
      "x=10^-6 \t0.3333074647445672\t0.0000000000000000\n",
      "x=10^-7 \t0.3308722450212111\t-222044.6049250313371886\n",
      "x=10^-8 \t0.0000000000000000\t0.0000000000000000\n",
      "x=10^-9 \t0.0000000000000000\t0.0000000000000000\n",
      "x=10^-10 \t0.0000000000000000\t0.0000000000000000\n",
      "x=10^-11 \t0.0000000000000000\t0.0000000000000000\n",
      "x=10^-12 \t0.0000000000000000\t0.0000000000000000\n",
      "x=10^-13 \t0.0000000000000000\t0.0000000000000000\n",
      "x=10^-14 \t0.0000000000000000\t-222044604925031283691618304.0000000000000000\n",
      "\n"
     ]
    }
   ],
   "source": [
    "# lim x->0 a的极限为1/3\n",
    "a = lambda x: (np.tan(x)-x)/(x**3)\n",
    "# lim x->0 b的极限为1/3\n",
    "b = lambda x: (np.exp(x)+np.cos(x)-np.sin(x)-2)/(x**3)\n",
    "for i in range(-1, -15, -1):\n",
    "    print('x=10^%d \\t%.16f\\t%.16f' % (i, a(10**i), b(10**i)))\n",
    "print()\n",
    "# 根据输出结果得，a式的p为8，b式的p为5"
   ]
  },
  {
   "cell_type": "markdown",
   "metadata": {},
   "source": [
    "3. 以4位正确的有效数字计算 $a+\\sqrt{a^2+b^2}$ 的值，其中 $a=-12345678987654321, b=123$."
   ]
  },
  {
   "cell_type": "code",
   "execution_count": 21,
   "metadata": {},
   "outputs": [
    {
     "name": "stdout",
     "output_type": "stream",
     "text": [
      "0.0\n",
      "6.1271e-13\n"
     ]
    }
   ],
   "source": [
    "a = np.array(-12345678987654321., dtype=np.longdouble)\n",
    "b = np.array(123., dtype=np.longdouble)\n",
    "print(a+np.sqrt(a**2+b**2))\n",
    "\n",
    "def round(x):\n",
    "    # 有效数字变4\n",
    "    # scale the result and round\n",
    "    bits = np.floor(np.log10(np.abs(x)))  # Bits number in decimal minus 1.\n",
    "    scaled_result = np.around(x / 10**bits, decimals=3)\n",
    "    # scale back\n",
    "    final_result = scaled_result * 10**bits\n",
    "    return final_result\n",
    "\n",
    "# 原式分子分母同时乘以a-sqrt(a^2+b^2)，重构为b^2/(sqrt(a^2+b^2)-a)\n",
    "a = a.astype(np.double)\n",
    "b = b.astype(np.double)\n",
    "a = round(a)\n",
    "b = round(b)\n",
    "a2 = round(a**2)\n",
    "b2 = round(b**2)\n",
    "tempSqrt = np.sqrt(round(a2 + b2))\n",
    "result = round(b2/round(tempSqrt-a))\n",
    "print(result)\n",
    "\n",
    "# 书后答案6.127e-13"
   ]
  },
  {
   "cell_type": "markdown",
   "metadata": {},
   "source": [
    "4. 以4位正确的有效数字计算 $\\sqrt{c^2+d}-c$ 的值，其中 $c=246886422468, d=13579$."
   ]
  },
  {
   "cell_type": "code",
   "execution_count": 22,
   "metadata": {},
   "outputs": [
    {
     "name": "stdout",
     "output_type": "stream",
     "text": [
      "0.0\n",
      "2.75e-08\n"
     ]
    }
   ],
   "source": [
    "c = np.array(246886422468.)\n",
    "d = np.array(13579.)\n",
    "print(np.sqrt(c**2+d)-c)\n",
    "\n",
    "# 原式分子分母同时乘以sqrt(c^2+d)+c，重构为d/(sqrt(c^2+d)+c)\n",
    "c = round(c)\n",
    "d = round(d)\n",
    "c2 = round(c**2)\n",
    "tempSqrt = round(np.sqrt(round(c2 + d)))\n",
    "result = round(d/round(tempSqrt+c))\n",
    "print(result)\n",
    "\n",
    "# 书后无答案"
   ]
  },
  {
   "cell_type": "markdown",
   "metadata": {},
   "source": [
    "5. 考虑一个直角三角形，两条直角边长度是 3344556600 和 1.2222222. 斜边比最长的直角边长多少？给出至少具有4位正确数位的结果."
   ]
  },
  {
   "cell_type": "code",
   "execution_count": 24,
   "metadata": {},
   "outputs": [
    {
     "name": "stdout",
     "output_type": "stream",
     "text": [
      "0.0\n",
      "2.2332214473105944e-10\n"
     ]
    }
   ],
   "source": [
    "a = np.array(3344556600.)\n",
    "b = np.array(1.2222222)\n",
    "# 错误解法\n",
    "print(np.sqrt(a**2+b**2)-a)\n",
    "\n",
    "# 题解和注释均为copilot生成，惊了。。。。。。\n",
    "# 原式分子分母同时乘以sqrt(a^2+b^2)+a，重构为b^2/(sqrt(a^2+b^2)+a)\n",
    "tempSum = np.sqrt(a**2 + b**2) + a\n",
    "result = b**2 / tempSum\n",
    "print(result)\n",
    "\n",
    "# 书后答案2.23322e-10"
   ]
  }
 ],
 "metadata": {
  "kernelspec": {
   "display_name": "Python 3",
   "language": "python",
   "name": "python3"
  },
  "language_info": {
   "codemirror_mode": {
    "name": "ipython",
    "version": 3
   },
   "file_extension": ".py",
   "mimetype": "text/x-python",
   "name": "python",
   "nbconvert_exporter": "python",
   "pygments_lexer": "ipython3",
   "version": "3.12.1"
  }
 },
 "nbformat": 4,
 "nbformat_minor": 2
}
