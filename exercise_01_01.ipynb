{
 "cells": [
  {
   "cell_type": "code",
   "execution_count": 2,
   "metadata": {},
   "outputs": [],
   "source": [
    "import math"
   ]
  },
  {
   "cell_type": "markdown",
   "metadata": {},
   "source": [
    "1. 使用二分法求解方程，精确到小数点后**6**位：\n",
    "$$\n",
    "\\begin{align}\n",
    "&(a) x^3=9\\\\\n",
    "&(b) 3x^3+x^2=x+5\\\\\n",
    "&(c) \\cos^2{x}+6=x\n",
    "\\end{align}\n",
    "$$"
   ]
  },
  {
   "cell_type": "code",
   "execution_count": 8,
   "metadata": {},
   "outputs": [
    {
     "name": "stdout",
     "output_type": "stream",
     "text": [
      "f(x) = x^3 - 9\n",
      "Iteration of 20 times, with result: 2.080083370208740\n",
      "f(x) = 3x^3 + x^2 - x - 5\n",
      "Iteration of 20 times, with result: 1.169725894927979\n",
      "f(x) = cos^2(x) + 6 - x\n",
      "Iteration of 22 times, with result: 6.776092052459717\n"
     ]
    }
   ],
   "source": [
    "def FindZeroPoint(func, sectionStart, sectionEnd, tolerance=1e-6):\n",
    "    \"Find zero point with dichotomy.\"\n",
    "    count = 0\n",
    "    while (sectionEnd - sectionStart) >= tolerance:\n",
    "        # print(\"s %f\" % func(sectionStart))\n",
    "        # print(\"e %f\" % func(sectionEnd))\n",
    "        count += 1\n",
    "        sectionMiddle = (sectionStart + sectionEnd) / 2\n",
    "        if func(sectionStart) * func(sectionMiddle) < 0:\n",
    "            sectionEnd = sectionMiddle\n",
    "        else:\n",
    "            sectionStart = sectionMiddle\n",
    "    result = (sectionStart + sectionEnd) / 2\n",
    "    print(\"Iteration of %d times, with result: %.15f\" % (count, result)) \n",
    "\n",
    "print(\"f(x) = x^3 - 9\")\n",
    "FindZeroPoint(lambda x: x**3 - 9, 2., 3.)\n",
    "print(\"f(x) = 3x^3 + x^2 - x - 5\")\n",
    "FindZeroPoint(lambda x: 3*(x**3) + x**2 - x - 5, 1., 2.)\n",
    "print(\"f(x) = cos^2(x) + 6 - x\")\n",
    "FindZeroPoint(lambda x: math.cos(x)**2 + 6 - x, 4., 8.)"
   ]
  }
 ],
 "metadata": {
  "kernelspec": {
   "display_name": "Python 3",
   "language": "python",
   "name": "python3"
  },
  "language_info": {
   "codemirror_mode": {
    "name": "ipython",
    "version": 3
   },
   "file_extension": ".py",
   "mimetype": "text/x-python",
   "name": "python",
   "nbconvert_exporter": "python",
   "pygments_lexer": "ipython3",
   "version": "3.12.1"
  }
 },
 "nbformat": 4,
 "nbformat_minor": 2
}
