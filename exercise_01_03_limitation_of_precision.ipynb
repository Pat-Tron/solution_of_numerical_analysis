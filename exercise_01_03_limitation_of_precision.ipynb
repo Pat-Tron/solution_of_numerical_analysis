{
 "cells": [
  {
   "cell_type": "code",
   "execution_count": 28,
   "metadata": {},
   "outputs": [],
   "source": [
    "import numpy as np\n",
    "from scipy.optimize import fsolve"
   ]
  },
  {
   "cell_type": "markdown",
   "metadata": {},
   "source": [
    "1. 令$f(x)=\\sin{x}-x$.\n",
    "    1. 寻找$r=0$对应的重根；\n",
    "    2. 使用MATLAB的fzero命令，初始估计$x=0.1$，并确定根。计算前向和后向误差。"
   ]
  },
  {
   "cell_type": "markdown",
   "metadata": {},
   "source": [
    "##### 解：\n",
    "- $f(r) = 0$\n",
    "- $f'(x)=\\cos x-1, f'(r)=0$\n",
    "- $f''(x)=-\\sin x, f''(r)=0$\n",
    "- $f'''(x)=-\\cos x, f'''(r)=1\\neq0$\n",
    "\n",
    "所以是三重根。"
   ]
  },
  {
   "cell_type": "code",
   "execution_count": 29,
   "metadata": {},
   "outputs": [
    {
     "name": "stdout",
     "output_type": "stream",
     "text": [
      "root:  2.137513962251885e-08\n",
      "FE:  2.137513962251885e-08\n",
      "BE:  0.0\n"
     ]
    }
   ],
   "source": [
    "# 没有找到python中MATLAB.fzero的平替\n",
    "# 先用scipy.optimize.fsolve(function, starting_estimate)代替，用于接非线性方程组\n",
    "func = lambda x: np.sin(x) - x\n",
    "r = fsolve(func, 0.1)[0]\n",
    "print(\"root: \", r)\n",
    "print(\"FE: \", abs(r - 0))\n",
    "print(\"BE: \", abs(func(r)))\n",
    "# in solution: r=-2.0735x10^-8"
   ]
  },
  {
   "cell_type": "markdown",
   "metadata": {},
   "source": [
    "2. 对于函数$f(x)=\\sin{x^3}-x^3$，进行问题1中的计算。"
   ]
  },
  {
   "cell_type": "markdown",
   "metadata": {},
   "source": [
    "##### 解：\n",
    "- $f^{(0)}(r)=0$\n",
    "- $f^{(1)}(x)=3x^2\\cos{x^3}-3x^2, f^{(1)}(r)=0$\n",
    "- $f^{(2)}(x)=3(2x\\cos{x^3}-3x^4\\sin{x^3})-6x, f^{(2)}(r)=0$\n",
    "- 貌似无限阶可导，且$f^{(n)}(r)=0$\n"
   ]
  },
  {
   "cell_type": "code",
   "execution_count": 9,
   "metadata": {},
   "outputs": [
    {
     "name": "stdout",
     "output_type": "stream",
     "text": [
      "root:  0.0026072710744116804\n",
      "FE:  0.0026072710744116804\n",
      "BE:  0.0\n"
     ]
    }
   ],
   "source": [
    "func = lambda x: np.sin(x**3) - x**3\n",
    "r = fsolve(func, 0.1)[0]\n",
    "print(\"root: \", r)\n",
    "print(\"FE: \", abs(r - 0))\n",
    "print(\"BE: \", abs(func(r)))"
   ]
  },
  {
   "cell_type": "markdown",
   "metadata": {},
   "source": [
    "3. =\n",
    "    1. 使用fzero找到函数$f(x)=2x\\cos{x}-2x+\\sin{x^3}$在区间$[-0.1, 0.2]$中的根。报告前向和后向误差。\n",
    "    2. 以初始区间$[-0.1, 0.2]$运行二分法，找到尽可能多的正确位数，报告结论。"
   ]
  },
  {
   "cell_type": "code",
   "execution_count": 31,
   "metadata": {},
   "outputs": [
    {
     "name": "stdout",
     "output_type": "stream",
     "text": [
      "fsolve\n",
      "root:  -9.815663849418848e-07\n",
      "FE:  9.815663849418848e-07\n",
      "BE:  5.7777898331617076e-33\n",
      "\n",
      "bisection\n",
      "Iteration of 15 times, with precision: 5\n",
      "root:  -2.8991699218750002e-05\n",
      "FE:  2.8991699218750002e-05\n",
      "BE:  2.656295328849886e-21\n"
     ]
    }
   ],
   "source": [
    "func = lambda x: 2*x*np.cos(x)-2*x+np.sin(x**3)\n",
    "\n",
    "print(\"fsolve\")\n",
    "r = fsolve(func, 0.2)[0]\n",
    "print(\"root: \", r)\n",
    "print(\"FE: \", abs(r - 0))\n",
    "print(\"BE: \", abs(func(r)))\n",
    "\n",
    "print(\"\\nbisection\")\n",
    "GLOBAL_PRECISION = 5\n",
    "def FindZeroPoint(func, sectionStart, sectionEnd):\n",
    "    \"Find zero point with dichotomy.\"\n",
    "    count = 0\n",
    "    tolerance = 10**(-GLOBAL_PRECISION)\n",
    "    while (sectionEnd - sectionStart) >= tolerance:\n",
    "        # print(\"s %f\" % func(sectionStart))\n",
    "        # print(\"e %f\" % func(sectionEnd))\n",
    "        count += 1\n",
    "        sectionMiddle = (sectionStart + sectionEnd) / 2\n",
    "        if func(sectionStart) * func(sectionMiddle) < 0:\n",
    "            sectionEnd = sectionMiddle\n",
    "        else:\n",
    "            sectionStart = sectionMiddle\n",
    "    result = (sectionStart + sectionEnd) / 2\n",
    "    print(f\"Iteration of {count} times, with precision: {GLOBAL_PRECISION}\")\n",
    "    return result\n",
    "\n",
    "r = FindZeroPoint(func, -0.1, 0.2)\n",
    "print(\"root: \", r)\n",
    "print(\"FE: \", abs(r - 0))\n",
    "print(\"BE: \", abs(func(r)))"
   ]
  },
  {
   "cell_type": "markdown",
   "metadata": {},
   "source": [
    "4. =\n",
    "    1. 使用式(1.21)($\\Delta r=-\\frac{\\epsilon g(r)}{f'(r)}$)近似函数$f_{\\epsilon}(x)=(1+\\epsilon)x^3-3x^2+x-3$在3附近的根，$\\epsilon$是常数；\n",
    "    2. 令$\\epsilon=10^{-3}$，找出实际的根，并与(1)部分的结果进行比较。"
   ]
  },
  {
   "cell_type": "markdown",
   "metadata": {},
   "source": [
    "#### 解：\n",
    "$$\n",
    "\\begin{align*}\n",
    "g(x)&=x^3 \\\\\n",
    "f(x)&=x^3-3x^2+x-3 \\\\\n",
    "f'(x)&=3x^2-6x+1 \\\\\n",
    "\\Delta r&=\\frac{-27\\epsilon}{10}=-2.7\\epsilon \\\\\n",
    "r+\\Delta r&=r-2.7\\epsilon\n",
    "\\end{align*}\n",
    "$$"
   ]
  },
  {
   "cell_type": "code",
   "execution_count": 33,
   "metadata": {},
   "outputs": [
    {
     "name": "stdout",
     "output_type": "stream",
     "text": [
      "root:  2.997302912984987\n",
      "delta = r-3 =  -0.0026970870150129223\n",
      "-2.7e = -0.0027\n"
     ]
    }
   ],
   "source": [
    "e = 0.001\n",
    "func = lambda x: (1+e)*x**3-3*x**2+x-3\n",
    "r = fsolve(func, 3)[0]\n",
    "print(\"root: \", r)\n",
    "print(\"delta = r-3 = \", r-3)\n",
    "print(\"-2.7e = -0.0027\")"
   ]
  },
  {
   "cell_type": "markdown",
   "metadata": {},
   "source": [
    "5. 使用式(1.21)($\\Delta r=-\\frac{\\epsilon g(r)}{f'(r)})近似函数f(x)=(x-1)(x-2)(x-3)(x-4)-10^{-6}x^6在r=4附近的根.$找出误差放大因子。使用fzero检查该近似。"
   ]
  },
  {
   "cell_type": "markdown",
   "metadata": {},
   "source": [
    "6. 使用fzero找出威尔金森多项式在x=15附近的根，$x^{15}$系数的相对变化式$\\epsilon=2\\times10^{-15}$，这使得系数变的更小一点。和式(1.21)中的精度进行比较。"
   ]
  }
 ],
 "metadata": {
  "language_info": {
   "name": "python"
  }
 },
 "nbformat": 4,
 "nbformat_minor": 2
}
