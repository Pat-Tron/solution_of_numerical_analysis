{
 "cells": [
  {
   "cell_type": "code",
   "execution_count": 3,
   "metadata": {},
   "outputs": [],
   "source": [
    "import numpy as np"
   ]
  },
  {
   "cell_type": "code",
   "execution_count": 9,
   "metadata": {},
   "outputs": [],
   "source": [
    "GLOBAL_PRECISION = 8\n",
    "\n",
    "def Newton(func, derivative, currentPoint, maxIter=100):\n",
    "    tolerance = 10**(-GLOBAL_PRECISION)\n",
    "    count = 0\n",
    "    newPoint = float('inf')\n",
    "    while count < maxIter:\n",
    "        count += 1\n",
    "        try:\n",
    "            newPoint = currentPoint - func(currentPoint)/derivative(currentPoint)\n",
    "        except OverflowError:\n",
    "            print(\"OverflowError.\")\n",
    "            return None\n",
    "        print(f\"Iter of {count:2d}, newPoint: {newPoint}.\")\n",
    "        if abs(newPoint - currentPoint) <= tolerance: break\n",
    "        currentPoint = newPoint\n",
    "    print(f\"Newton's method iterated of {count} times, with result: {newPoint:.{GLOBAL_PRECISION}f}\")\n",
    "    print(f\"    Checking: \", func(newPoint), \"\\n\")\n",
    "    return newPoint"
   ]
  },
  {
   "cell_type": "markdown",
   "metadata": {},
   "source": [
    "1. 每个方程都是单根，使用牛顿方法求近似根，精确到小数点后8位。\n",
    "$$\n",
    "\\begin{align*}\n",
    "(a) & x^3=2x+2\\\\\n",
    "(b) & e^x+x=7\\\\\n",
    "(c) & e^x+\\sin x=4\\\\\n",
    "\\end{align*}\n",
    "$$"
   ]
  },
  {
   "cell_type": "code",
   "execution_count": 10,
   "metadata": {},
   "outputs": [
    {
     "name": "stdout",
     "output_type": "stream",
     "text": [
      "Iter of  1, newPoint: 1.8.\n",
      "Iter of  2, newPoint: 1.7699481865284974.\n",
      "Iter of  3, newPoint: 1.769292662905941.\n",
      "Iter of  4, newPoint: 1.7692923542386998.\n",
      "Iter of  5, newPoint: 1.7692923542386314.\n",
      "Newton's method iterated of 5 times, with result: 1.76929235\n",
      "    Checking:  0.0 \n",
      "\n",
      "Iter of  1, newPoint: 1.7152175321327054.\n",
      "Iter of  2, newPoint: 1.6735727096837743.\n",
      "Iter of  3, newPoint: 1.6728219360354273.\n",
      "Iter of  4, newPoint: 1.6728216986289302.\n",
      "Iter of  5, newPoint: 1.6728216986289066.\n",
      "Newton's method iterated of 5 times, with result: 1.67282170\n",
      "    Checking:  8.881784197001252e-16 \n",
      "\n",
      "Iter of  1, newPoint: 1.1351038268723292.\n",
      "Iter of  2, newPoint: 1.129988671126997.\n",
      "Iter of  3, newPoint: 1.129980498671607.\n",
      "Iter of  4, newPoint: 1.1299804986508324.\n",
      "Newton's method iterated of 4 times, with result: 1.12998050\n",
      "    Checking:  0.0 \n",
      "\n"
     ]
    }
   ],
   "source": [
    "r = Newton(lambda x: x**3-2*x-2, lambda x: 3*x**2-2, 2)\n",
    "r = Newton(lambda x: np.exp(x)+x-7, lambda x: np.exp(x)+1, 2)\n",
    "r = Newton(lambda x: np.exp(x)+np.sin(x)-4, lambda x: np.exp(x)+np.cos(x), 1)"
   ]
  },
  {
   "cell_type": "markdown",
   "metadata": {},
   "source": [
    "2. 同上\n",
    "$$\n",
    "\\begin{align*}\n",
    "(a) & x^5+x=1\\\\\n",
    "(b) & \\sin x=6x+5\\\\\n",
    "(c) & \\ln x+x^2=3\\\\\n",
    "\\end{align*}\n",
    "$$"
   ]
  },
  {
   "cell_type": "markdown",
   "metadata": {},
   "source": [
    "3. 使用牛尽可能精确的找到唯一根，并确定多重性。然后使用改进牛二次收敛到根，报告每个方法中最优近似的前向和后向误差。\n",
    "$$\n",
    "\\begin{align*}\n",
    "(a) & f(x)=27x^3+54x^2+36x+8\\\\\n",
    "(b) & f(x)=36x^4-12x^3+37x^2-12x+1\\\\\n",
    "\\end{align*}\n",
    "$$"
   ]
  },
  {
   "cell_type": "markdown",
   "metadata": {},
   "source": [
    "4. 同上\n",
    "$$\n",
    "\\begin{align*}\n",
    "(a) & f(x)=2e^{x-1}-x^2-1 \\\\\n",
    "(b) & f(x)=\\ln{3-x}+x-2\\\\\n",
    "\\end{align*}\n",
    "$$"
   ]
  },
  {
   "cell_type": "markdown",
   "metadata": {},
   "source": [
    "5. 一个发射井由高10m的圆柱和顶部一个半球组成，体积400m^3，求底部半径，精确到小数点后4位。"
   ]
  },
  {
   "cell_type": "markdown",
   "metadata": {},
   "source": [
    "6. 高10cm的圆锥有60cm^3的冰淇凌，顶部是半球，求冰淇凌球半径，精确到小数点后4位。"
   ]
  },
  {
   "cell_type": "markdown",
   "metadata": {},
   "source": [
    "7. 在区间$[-2,2]$上考虑函数$f(x)=e^{\\sin^3{x}}+x^6-2x^4-x^3-1$.画出这个区间上的函数，找出所有三个根，精确到小数点后6位。确定哪个根是二次收敛，并找出线性收敛的根对应的多重性。"
   ]
  },
  {
   "cell_type": "markdown",
   "metadata": {},
   "source": [
    "8. 同上，区间$[0,3], f(x)=94\\cos^3{x}-24\\cos x+177\\sin^2{x}-108\\sin^4{x}-72\\cos^3{x}\\sin^2{x}-65$"
   ]
  },
  {
   "cell_type": "markdown",
   "metadata": {},
   "source": [
    "9. 使用牛顿法找出函数$f(x)=14xe^{x-2}-12e^{x-2}-7x^3+20x^2-26x+12,x\\in[0,3]$的根。对于每个根，打印对应的迭代序列，误差$e_i$，和收敛到非0极限的相关误差率$e_{i+1}/e_i^2$或者$e_{i+1}/e_i$，把该极限和由定理1.11中得到的期望M或者定理1.12中得到的S进行匹配。"
   ]
  },
  {
   "cell_type": "markdown",
   "metadata": {},
   "source": [
    "10. 画出$f(x)=54x^6+45x^5-102x^4-69x^3+35x^2+16x-4$在区间$[-2,2]$上的图像，使用牛顿法找出该区间上所有五个根。对于哪些根线性收敛，哪些二次收敛？"
   ]
  },
  {
   "cell_type": "markdown",
   "metadata": {},
   "source": [
    "11. 使用理想气体定律：$PV=nRT$做初始估计,用牛求解van der Waals方程：\n",
    "$$\n",
    "(P+\\frac{n^2a}{V^2})(V-nb)=nRT\n",
    "$$\n",
    "其中T=320, P=15, a(氧气)=1.36L^2-atm/mole^2, b=0.003183L/mole, n=1mole,R=0.0820578, 解V。"
   ]
  },
  {
   "cell_type": "markdown",
   "metadata": {},
   "source": [
    "12. 11中的氧气换成苯蒸汽：T=700k, P=20atm, a=18.0, b=0.1154。"
   ]
  },
  {
   "cell_type": "markdown",
   "metadata": {},
   "source": [
    "13. =\n",
    "    1. 找出$f(x)=(1-\\frac{3}{4x})^{\\frac{1}{3}}$的根。\n",
    "    2. 使用牛顿方法，初始估计在根附近，画出前50步的迭代。这是另外一种通过生成混乱轨迹是的牛顿方法可能失败的情形。\n",
    "    3. 为什么定理1.11和定理1.12失效？"
   ]
  },
  {
   "cell_type": "markdown",
   "metadata": {},
   "source": [
    "14. TL, Why bother"
   ]
  }
 ],
 "metadata": {
  "language_info": {
   "name": "python"
  }
 },
 "nbformat": 4,
 "nbformat_minor": 2
}
