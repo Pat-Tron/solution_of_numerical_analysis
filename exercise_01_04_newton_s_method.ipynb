{
 "cells": [
  {
   "cell_type": "code",
   "execution_count": 57,
   "metadata": {},
   "outputs": [],
   "source": [
    "import numpy as np"
   ]
  },
  {
   "cell_type": "code",
   "execution_count": 58,
   "metadata": {},
   "outputs": [],
   "source": [
    "GLOBAL_PRECISION = 8\n",
    "\n",
    "def Newton(func, derivative, startEstimation, m=1, realRoot=None, maxIter=100):\n",
    "    \"\"\"\n",
    "    Usage:\n",
    "    :param func: The function to be solved.\n",
    "    :param derivative: Derivative function of 1st order of func.\n",
    "    :param m: The multiplicity of roots.\n",
    "    :param maxIter: Maximum of iteration.\n",
    "    :return: Optimal approximation near given starting estimation.\n",
    "    \"\"\"\n",
    "    currentPoint = startEstimation\n",
    "    tolerance = 10**(-GLOBAL_PRECISION)\n",
    "    count = 0\n",
    "    newPoint = float('inf')\n",
    "    while count < maxIter:\n",
    "        count += 1\n",
    "        try:\n",
    "            newPoint = currentPoint - func(currentPoint)/derivative(currentPoint)*m\n",
    "        except OverflowError:\n",
    "            print(\"OverflowError.\")\n",
    "            return None\n",
    "        except ZeroDivisionError:\n",
    "            print(\"ZeroDivisionError.\")\n",
    "            break\n",
    "        print(f\"Iter of {count:2d}, newPoint: {newPoint}.\")\n",
    "        if abs(newPoint - currentPoint) <= tolerance: break\n",
    "        currentPoint = newPoint\n",
    "    if m > 1: print(\"Improved Newton's method.\")\n",
    "    print(f\"Newton's method iterated of {count} times, with result: {newPoint:.{GLOBAL_PRECISION}f}\")\n",
    "    print(f\"    Backward Error (BE): \", abs(func(newPoint)))\n",
    "    if realRoot is not None: print(f\"    Forward Error (FE): \", abs(newPoint-realRoot))\n",
    "    print()"
   ]
  },
  {
   "cell_type": "markdown",
   "metadata": {},
   "source": [
    "1. 每个方程都是单根，使用牛顿方法求近似根，精确到小数点后8位。\n",
    "$$\n",
    "\\begin{align*}\n",
    "(a) & x^3=2x+2\\\\\n",
    "(b) & e^x+x=7\\\\\n",
    "(c) & e^x+\\sin x=4\\\\\n",
    "\\end{align*}\n",
    "$$"
   ]
  },
  {
   "cell_type": "code",
   "execution_count": 59,
   "metadata": {},
   "outputs": [
    {
     "name": "stdout",
     "output_type": "stream",
     "text": [
      "Iter of  1, newPoint: 1.8.\n",
      "Iter of  2, newPoint: 1.7699481865284974.\n",
      "Iter of  3, newPoint: 1.769292662905941.\n",
      "Iter of  4, newPoint: 1.7692923542386998.\n",
      "Iter of  5, newPoint: 1.7692923542386314.\n",
      "Newton's method iterated of 5 times, with result: 1.76929235\n",
      "    Backward Error (BE):  0.0\n",
      "\n",
      "Iter of  1, newPoint: 1.7152175321327054.\n",
      "Iter of  2, newPoint: 1.6735727096837743.\n",
      "Iter of  3, newPoint: 1.6728219360354273.\n",
      "Iter of  4, newPoint: 1.6728216986289302.\n",
      "Iter of  5, newPoint: 1.6728216986289066.\n",
      "Newton's method iterated of 5 times, with result: 1.67282170\n",
      "    Backward Error (BE):  8.881784197001252e-16\n",
      "\n",
      "Iter of  1, newPoint: 1.1351038268723292.\n",
      "Iter of  2, newPoint: 1.129988671126997.\n",
      "Iter of  3, newPoint: 1.129980498671607.\n",
      "Iter of  4, newPoint: 1.1299804986508324.\n",
      "Newton's method iterated of 4 times, with result: 1.12998050\n",
      "    Backward Error (BE):  0.0\n",
      "\n"
     ]
    }
   ],
   "source": [
    "Newton(lambda x: x**3-2*x-2, lambda x: 3*x**2-2, 2)\n",
    "Newton(lambda x: np.exp(x)+x-7, lambda x: np.exp(x)+1, 2)\n",
    "Newton(lambda x: np.exp(x)+np.sin(x)-4, lambda x: np.exp(x)+np.cos(x), 1)"
   ]
  },
  {
   "cell_type": "markdown",
   "metadata": {},
   "source": [
    "2. 同上\n",
    "$$\n",
    "\\begin{align*}\n",
    "(a) & x^5+x=1\\\\\n",
    "(b) & \\sin x=6x+5\\\\\n",
    "(c) & \\ln x+x^2=3\\\\\n",
    "\\end{align*}\n",
    "$$"
   ]
  },
  {
   "cell_type": "code",
   "execution_count": 60,
   "metadata": {},
   "outputs": [
    {
     "name": "stdout",
     "output_type": "stream",
     "text": [
      "Iter of  1, newPoint: 0.7854129190515127.\n",
      "Iter of  2, newPoint: 0.756374651748251.\n",
      "Iter of  3, newPoint: 0.7548813370204607.\n",
      "Iter of  4, newPoint: 0.7548776662687855.\n",
      "Iter of  5, newPoint: 0.7548776662466927.\n",
      "Newton's method iterated of 5 times, with result: 0.75487767\n",
      "    Backward Error (BE):  1.1102230246251565e-16\n",
      "\n",
      "Iter of  1, newPoint: -0.9709637741733408.\n",
      "Iter of  2, newPoint: -0.9708989238235813.\n",
      "Iter of  3, newPoint: -0.9708989235042558.\n",
      "Newton's method iterated of 3 times, with result: -0.97089892\n",
      "    Backward Error (BE):  0.0\n",
      "\n",
      "Iter of  1, newPoint: 1.6237450709866788.\n",
      "Iter of  2, newPoint: 1.592351773058945.\n",
      "Iter of  3, newPoint: 1.5921429462409797.\n",
      "Iter of  4, newPoint: 1.592142937058094.\n",
      "Newton's method iterated of 4 times, with result: 1.59214294\n",
      "    Backward Error (BE):  4.440892098500626e-16\n",
      "\n"
     ]
    }
   ],
   "source": [
    "Newton(lambda x: x**5+x-1, lambda x: 5*x**4+1, 0.9)\n",
    "Newton(lambda x: np.sin(x)-6*x-5, lambda x: np.cos(x)-6, -1)\n",
    "Newton(lambda x: np.log(x)+x**2-3, lambda x: 1/x+2*x, 2)"
   ]
  },
  {
   "cell_type": "markdown",
   "metadata": {},
   "source": [
    "3. 使用牛尽可能精确的找到唯一根，并确定多重性。然后使用改进牛二次收敛到根，报告每个方法中最优近似的前向和后向误差。\n",
    "$$\n",
    "\\begin{align*}\n",
    "(a) & f(x)=27x^3+54x^2+36x+8\\\\\n",
    "(b) & f(x)=36x^4-12x^3+37x^2-12x+1\\\\\n",
    "\\end{align*}\n",
    "$$"
   ]
  },
  {
   "cell_type": "code",
   "execution_count": 61,
   "metadata": {},
   "outputs": [
    {
     "name": "stdout",
     "output_type": "stream",
     "text": [
      "Iter of  1, newPoint: -0.8888888888888888.\n",
      "Iter of  2, newPoint: -0.8148148148148153.\n",
      "Iter of  3, newPoint: -0.7654320987654344.\n",
      "Iter of  4, newPoint: -0.7325102880658484.\n",
      "Iter of  5, newPoint: -0.7105624142661221.\n",
      "Iter of  6, newPoint: -0.6959304983996252.\n",
      "Iter of  7, newPoint: -0.686175887822014.\n",
      "Iter of  8, newPoint: -0.6796728141035255.\n",
      "Iter of  9, newPoint: -0.6753374316244595.\n",
      "Iter of 10, newPoint: -0.6724471766385134.\n",
      "Iter of 11, newPoint: -0.670520339981108.\n",
      "Iter of 12, newPoint: -0.6692357822101918.\n",
      "Iter of 13, newPoint: -0.6683794103600941.\n",
      "Iter of 14, newPoint: -0.6678084957874146.\n",
      "Iter of 15, newPoint: -0.6674278860942462.\n",
      "Iter of 16, newPoint: -0.6671741463528406.\n",
      "Iter of 17, newPoint: -0.6670049866650646.\n",
      "Iter of 18, newPoint: -0.6668922135220492.\n",
      "Iter of 19, newPoint: -0.6668170325112078.\n",
      "Iter of 20, newPoint: -0.6667669096693135.\n",
      "Iter of 21, newPoint: -0.6667334969167846.\n",
      "Iter of 22, newPoint: -0.6667112144374834.\n",
      "Iter of 23, newPoint: -0.6666963842805737.\n",
      "Iter of 24, newPoint: -0.6666865010163271.\n",
      "Iter of 25, newPoint: -0.6666797000730251.\n",
      "Iter of 26, newPoint: -0.6666753106405064.\n",
      "Iter of 27, newPoint: -0.6666723755758763.\n",
      "Iter of 28, newPoint: -0.6666696840539014.\n",
      "Iter of 29, newPoint: -0.6666696840539014.\n",
      "Newton's method iterated of 29 times, with result: -0.66666968\n",
      "    Backward Error (BE):  0.0\n",
      "    Forward Error (FE):  3.0173872347383224e-06\n",
      "\n",
      "Iter of  1, newPoint: -0.6666666666666667.\n",
      "Iter of  2, newPoint: -2.166666666666667.\n",
      "Iter of  3, newPoint: -0.6666666666666665.\n",
      "ZeroDivisionError.\n",
      "Improved Newton's method.\n",
      "Newton's method iterated of 4 times, with result: -0.66666667\n",
      "    Backward Error (BE):  1.7763568394002505e-15\n",
      "    Forward Error (FE):  1.1102230246251565e-16\n",
      "\n"
     ]
    }
   ],
   "source": [
    "# f1 = (3x+2)^3, so m=3\n",
    "f1 = lambda x: 27*x**3+54*x**2+36*x+8\n",
    "f1Dev = lambda x: 81*x**2+108*x+36\n",
    "Newton(f1, f1Dev, -1, realRoot=-2/3)\n",
    "Newton(f1, f1Dev, -1, 3, -2/3)\n"
   ]
  },
  {
   "cell_type": "code",
   "execution_count": 62,
   "metadata": {},
   "outputs": [
    {
     "name": "stdout",
     "output_type": "stream",
     "text": [
      "Iter of  1, newPoint: 0.7058823529411764.\n",
      "Iter of  2, newPoint: 0.4908911999422236.\n",
      "Iter of  3, newPoint: 0.3472069103798635.\n",
      "Iter of  4, newPoint: 0.2617190630510611.\n",
      "Iter of  5, newPoint: 0.2152742061890658.\n",
      "Iter of  6, newPoint: 0.1912110796438275.\n",
      "Iter of  7, newPoint: 0.17899418667871594.\n",
      "Iter of  8, newPoint: 0.1728435770052053.\n",
      "Iter of  9, newPoint: 0.1697583202256758.\n",
      "Iter of 10, newPoint: 0.16821328162128893.\n",
      "Iter of 11, newPoint: 0.16744016974306009.\n",
      "Iter of 12, newPoint: 0.1670534669229911.\n",
      "Iter of 13, newPoint: 0.16686007895160593.\n",
      "Iter of 14, newPoint: 0.16676337584548143.\n",
      "Iter of 15, newPoint: 0.16671502201482305.\n",
      "Iter of 16, newPoint: 0.16669084453037722.\n",
      "Iter of 17, newPoint: 0.1666787556459892.\n",
      "Iter of 18, newPoint: 0.16667271116802387.\n",
      "Iter of 19, newPoint: 0.1666696889205409.\n",
      "Iter of 20, newPoint: 0.1666681777944379.\n",
      "Iter of 21, newPoint: 0.16666742223124803.\n",
      "Iter of 22, newPoint: 0.16666704444589076.\n",
      "Iter of 23, newPoint: 0.16666685555958682.\n",
      "Iter of 24, newPoint: 0.16666676112205148.\n",
      "Iter of 25, newPoint: 0.1666667138839176.\n",
      "Iter of 26, newPoint: 0.16666669024373987.\n",
      "Iter of 27, newPoint: 0.1666666782805647.\n",
      "Iter of 28, newPoint: 0.1666666725965764.\n",
      "Iter of 29, newPoint: 0.1666666690544956.\n",
      "Iter of 30, newPoint: 0.1666666690544956.\n",
      "Newton's method iterated of 30 times, with result: 0.1666666691\n",
      "    Backward Error (BE):  0.0\n",
      "    Forward Error (FE):  2.3878289345802273e-09\n",
      "\n",
      "-1.7763568394002505e-15\n",
      "74.0\n",
      "Iter of  1, newPoint: 0.4117647058823529.\n",
      "Iter of  2, newPoint: 0.18613655176096763.\n",
      "Iter of  3, newPoint: 0.1667346257903745.\n",
      "Iter of  4, newPoint: 0.16666666741579975.\n",
      "Iter of  5, newPoint: 0.16666666741579975.\n",
      "Improved Newton's method.\n",
      "Newton's method iterated of 5 times, with result: 0.1666666674\n",
      "    Backward Error (BE):  0.0\n",
      "    Forward Error (FE):  7.491330888953485e-10\n",
      "\n"
     ]
    }
   ],
   "source": [
    "GLOBAL_PRECISION = 10\n",
    "f2 = lambda x: 36*x**4-12*x**3+37*x**2-12*x+1\n",
    "f2Dev = lambda x: 144*x**3-36*x**2+74*x-12\n",
    "Newton(f2, f2Dev, 1, realRoot=1/6)\n",
    "\n",
    "# root: 0.1666667=1/6\n",
    "print(f2Dev(1/6))\n",
    "f2Dev2nd = lambda x: 432*x**2-72*x+74\n",
    "print(f2Dev2nd(1/6))  # 74.0, so m=2\n",
    "Newton(f2, f2Dev, 1, 2, 1/6)"
   ]
  },
  {
   "cell_type": "markdown",
   "metadata": {},
   "source": [
    "4. 同上\n",
    "$$\n",
    "\\begin{align*}\n",
    "(a) & f(x)=2e^{x-1}-x^2-1 \\\\\n",
    "(b) & f(x)=\\ln{(3-x)}+x-2\\\\\n",
    "\\end{align*}\n",
    "$$"
   ]
  },
  {
   "cell_type": "code",
   "execution_count": 63,
   "metadata": {},
   "outputs": [
    {
     "name": "stdout",
     "output_type": "stream",
     "text": [
      "Iter of  1, newPoint: 1.6961055955886666.\n",
      "Iter of  2, newPoint: 1.4781129022841164.\n",
      "Iter of  3, newPoint: 1.325285123718804.\n",
      "Iter of  4, newPoint: 1.2198578036791048.\n",
      "Iter of  5, newPoint: 1.147933877018088.\n",
      "Iter of  6, newPoint: 1.0992364043288367.\n",
      "Iter of  7, newPoint: 1.0664329490951705.\n",
      "Iter of  8, newPoint: 1.0444117653098688.\n",
      "Iter of  9, newPoint: 1.0296627941764975.\n",
      "Iter of 10, newPoint: 1.0197996854790885.\n",
      "Iter of 11, newPoint: 1.013210694324289.\n",
      "Iter of 12, newPoint: 1.0088119816606647.\n",
      "Iter of 13, newPoint: 1.0058768126768656.\n",
      "Iter of 14, newPoint: 1.0039188348476273.\n",
      "Iter of 15, newPoint: 1.0026129832523747.\n",
      "Iter of 16, newPoint: 1.0017421784980658.\n",
      "Iter of 17, newPoint: 1.0011615365660151.\n",
      "Iter of 18, newPoint: 1.0007743950552086.\n",
      "Iter of 19, newPoint: 1.0005162800256209.\n",
      "Iter of 20, newPoint: 1.0003441946068463.\n",
      "Iter of 21, newPoint: 1.0002294668490932.\n",
      "Iter of 22, newPoint: 1.0001529811142205.\n",
      "Iter of 23, newPoint: 1.0001019868997063.\n",
      "Iter of 24, newPoint: 1.0000680024888167.\n",
      "Iter of 25, newPoint: 1.0000452911943123.\n",
      "Iter of 26, newPoint: 1.0000302451979437.\n",
      "Iter of 27, newPoint: 1.0000202932778541.\n",
      "Iter of 28, newPoint: 1.000013283952216.\n",
      "Iter of 29, newPoint: 1.0000082507583021.\n",
      "Iter of 30, newPoint: 1.0000049890094829.\n",
      "Iter of 31, newPoint: 1.0000049890094829.\n",
      "Newton's method iterated of 31 times, with result: 1.0000049890\n",
      "    Backward Error (BE):  0.0\n",
      "    Forward Error (FE):  4.989009482869733e-06\n",
      "\n",
      "0.0\n",
      "0.0\n",
      "2.0\n",
      "Iter of  1, newPoint: 1.0883167867659995.\n",
      "Iter of  2, newPoint: 1.0006537861334244.\n",
      "Iter of  3, newPoint: 1.0000000368386854.\n",
      "Iter of  4, newPoint: 1.0000000368386854.\n",
      "Improved Newton's method.\n",
      "Newton's method iterated of 4 times, with result: 1.0000000368\n",
      "    Backward Error (BE):  0.0\n",
      "    Forward Error (FE):  3.683868543546964e-08\n",
      "\n"
     ]
    }
   ],
   "source": [
    "GLOBAL_PRECISION = 10\n",
    "f1 = lambda x: 2*np.exp(x-1)-x**2-1\n",
    "f1Dev = lambda x: 2*np.exp(x-1)-2*x\n",
    "Newton(f1, f1Dev, 2, realRoot=1)\n",
    "\n",
    "# root: 1.0000049890=1\n",
    "print(f1Dev(1))\n",
    "f1Dev2nd = lambda x: 2*np.exp(x-1)-2\n",
    "print(f1Dev2nd(1))\n",
    "f1Dev3rd = lambda x: 2*np.exp(x-1)\n",
    "print(f1Dev3rd(1))  # 2.0, so m=3\n",
    "Newton(f1, f1Dev, 2, 3, 1)"
   ]
  },
  {
   "cell_type": "code",
   "execution_count": 64,
   "metadata": {},
   "outputs": [
    {
     "name": "stdout",
     "output_type": "stream",
     "text": [
      "Iter of  1, newPoint: 1.6137056388801092.\n",
      "Iter of  2, newPoint: 1.8278078110078229.\n",
      "Iter of  3, newPoint: 1.9184595973099838.\n",
      "Iter of  4, newPoint: 1.960294855920021.\n",
      "Iter of  5, newPoint: 1.980405082514777.\n",
      "Iter of  6, newPoint: 1.9902659150255904.\n",
      "Iter of  7, newPoint: 1.9951486731665184.\n",
      "Iter of  8, newPoint: 1.9975782496580488.\n",
      "Iter of  9, newPoint: 1.9987901011262847.\n",
      "Iter of 10, newPoint: 1.9993952943915223.\n",
      "Iter of 11, newPoint: 1.9996977081221345.\n",
      "Iter of 12, newPoint: 1.9998488692886123.\n",
      "Iter of 13, newPoint: 1.999924438450685.\n",
      "Iter of 14, newPoint: 1.9999622201771585.\n",
      "Iter of 15, newPoint: 1.9999811103280212.\n",
      "Iter of 16, newPoint: 1.9999905552183954.\n",
      "Iter of 17, newPoint: 1.9999952776226628.\n",
      "Iter of 18, newPoint: 1.9999976388203786.\n",
      "Iter of 19, newPoint: 1.9999988193974627.\n",
      "Iter of 20, newPoint: 1.9999994097729834.\n",
      "Iter of 21, newPoint: 1.999999704715553.\n",
      "Iter of 22, newPoint: 1.9999998521014242.\n",
      "Iter of 23, newPoint: 1.999999925666617.\n",
      "Iter of 24, newPoint: 1.9999999615123616.\n",
      "Iter of 25, newPoint: 1.9999999788200964.\n",
      "Iter of 26, newPoint: 1.9999999893038367.\n",
      "Iter of 27, newPoint: 1.9999999893038367.\n",
      "Newton's method iterated of 27 times, with result: 1.9999999893\n",
      "    Backward Error (BE):  0.0\n",
      "    Forward Error (FE):  1.069616328841505e-08\n",
      "\n",
      "0.0\n",
      "-1.0\n",
      "Iter of  1, newPoint: 2.2274112777602184.\n",
      "Iter of  2, newPoint: 2.019514713414578.\n",
      "Iter of  3, newPoint: 2.0001281946525977.\n",
      "Iter of  4, newPoint: 2.00000000547825.\n",
      "Iter of  5, newPoint: 2.00000000547825.\n",
      "Improved Newton's method.\n",
      "Newton's method iterated of 5 times, with result: 2.0000000055\n",
      "    Backward Error (BE):  0.0\n",
      "    Forward Error (FE):  5.478249853752004e-09\n",
      "\n"
     ]
    }
   ],
   "source": [
    "GLOBAL_PRECISION = 10\n",
    "f2 = lambda x: np.log(3-x)+x-2\n",
    "f2Dev = lambda x: -1/(3-x)+1\n",
    "Newton(f2, f2Dev, 1, realRoot=2)\n",
    "\n",
    "# root: 1.9999999893=2\n",
    "print(f2Dev(2))\n",
    "f2Dev2nd = lambda x: -1/(3-x)**2\n",
    "print(f2Dev2nd(2))  # -1, so m=2\n",
    "Newton(f2, f2Dev, 1, 2, 2)"
   ]
  },
  {
   "cell_type": "markdown",
   "metadata": {},
   "source": [
    "5. 一个发射井由高10m的圆柱和顶部一个半球组成，体积400m^3，求底部半径，精确到小数点后4位。"
   ]
  },
  {
   "cell_type": "code",
   "execution_count": 65,
   "metadata": {},
   "outputs": [
    {
     "name": "stdout",
     "output_type": "stream",
     "text": [
      "Iter of  1, newPoint: 3.708137940420478.\n",
      "Iter of  2, newPoint: 3.2736559292701792.\n",
      "Iter of  3, newPoint: 3.2364543215365913.\n",
      "Iter of  4, newPoint: 3.2361874339837966.\n",
      "Iter of  5, newPoint: 3.2361874202877363.\n",
      "Iter of  6, newPoint: 3.236187420287736.\n",
      "Newton's method iterated of 6 times, with result: 3.2361874203\n",
      "    Backward Error (BE):  0.0\n",
      "\n"
     ]
    }
   ],
   "source": [
    "GLOBAL_PRECISION = 10\n",
    "f = lambda x: 10*np.pi*x**2+2/3*np.pi*x**3-400\n",
    "dev = lambda x: 20*np.pi*x+2*np.pi*x**2\n",
    "Newton(f, dev, 2)"
   ]
  },
  {
   "cell_type": "markdown",
   "metadata": {},
   "source": [
    "6. 高10cm的圆锥有60cm^3的冰淇凌，顶部是半球，求冰淇凌球半径，精确到小数点后4位。"
   ]
  },
  {
   "cell_type": "code",
   "execution_count": 66,
   "metadata": {},
   "outputs": [
    {
     "name": "stdout",
     "output_type": "stream",
     "text": [
      "Iter of  1, newPoint: 2.0202465548919113.\n",
      "Iter of  2, newPoint: 2.0201073278281165.\n",
      "Iter of  3, newPoint: 2.0201073212197014.\n",
      "Iter of  4, newPoint: 2.0201073212197014.\n",
      "Newton's method iterated of 4 times, with result: 2.0201073212\n",
      "    Backward Error (BE):  1.4210854715202004e-14\n",
      "\n"
     ]
    }
   ],
   "source": [
    "GLOBAL_PRECISION = 10\n",
    "f = lambda x: (10*np.pi*x**2)/3+2/3*np.pi*x**3-60\n",
    "dev = lambda x: 20*np.pi*x/3+2*np.pi*x**2\n",
    "Newton(f, dev, 2)"
   ]
  },
  {
   "cell_type": "markdown",
   "metadata": {},
   "source": [
    "7. 在区间$[-2,2]$上考虑函数$f(x)=e^{\\sin^3{x}}+x^6-2x^4-x^3-1$.画出这个区间上的函数，找出所有三个根，精确到小数点后6位。确定哪个根是二次收敛，并找出线性收敛的根对应的多重性。"
   ]
  },
  {
   "cell_type": "code",
   "execution_count": 67,
   "metadata": {},
   "outputs": [
    {
     "data": {
      "image/png": "[encoded data removed]",
      "text/plain": [
       "<Figure size 640x480 with 1 Axes>"
      ]
     },
     "metadata": {},
     "output_type": "display_data"
    }
   ],
   "source": [
    "import matplotlib.pyplot as plt\n",
    "\n",
    "f = lambda x: np.exp(np.sin(x)**3)+x**6-2*x**4-x**3-1\n",
    "X = np.linspace(-2, 2, 200)\n",
    "plt.plot(X, f(X))\n",
    "axes = plt.gca()\n",
    "axes.grid()\n",
    "plt.show()"
   ]
  },
  {
   "cell_type": "code",
   "execution_count": 70,
   "metadata": {},
   "outputs": [
    {
     "name": "stdout",
     "output_type": "stream",
     "text": [
      "0.0 0.0 0.0\n",
      "Iter of  1, newPoint: -1.3410384917095008.\n",
      "Iter of  2, newPoint: -1.243553239661027.\n",
      "Iter of  3, newPoint: -1.2039922844168507.\n",
      "Iter of  4, newPoint: -1.1977666124939046.\n",
      "Iter of  5, newPoint: -1.197623796008961.\n",
      "Iter of  6, newPoint: -1.1976237221335897.\n",
      "Iter of  7, newPoint: -1.1976237221335697.\n",
      "Newton's method iterated of 7 times, with result: -1.1976237221\n",
      "    Backward Error (BE):  6.661338147750939e-16\n",
      "\n",
      "Iter of  1, newPoint: -0.031661952440123375.\n",
      "Iter of  2, newPoint: 7.533888145812989e-05.\n",
      "Iter of  3, newPoint: 7.533888145812989e-05.\n",
      "Improved Newton's method.\n",
      "Newton's method iterated of 3 times, with result: 0.0000753389\n",
      "    Backward Error (BE):  0.0\n",
      "    Forward Error (FE):  7.533888145812989e-05\n",
      "\n",
      "Iter of  1, newPoint: 1.5332246760734796.\n",
      "Iter of  2, newPoint: 1.5301622402064223.\n",
      "Iter of  3, newPoint: 1.5301335106759133.\n",
      "Iter of  4, newPoint: 1.5301335081666154.\n",
      "Iter of  5, newPoint: 1.5301335081666156.\n",
      "Newton's method iterated of 5 times, with result: 1.5301335082\n",
      "    Backward Error (BE):  1.7763568394002505e-15\n",
      "\n"
     ]
    }
   ],
   "source": [
    "# 根据图像可以看出只有0为非二次收敛，接下来计算多重性\n",
    "dev1 = lambda x: np.cos(x)*3*np.sin(x)**2*np.exp(np.sin(x)**3)+6*x**5-8*x**3-3*x**2\n",
    "dev2 = lambda x: 9*np.exp(np.sin(x)**3)*np.cos(x)**2*np.sin(x)**4-3*np.exp(np.sin(x)**3)*np.sin(x)**3 \\\n",
    "    +6*np.exp(np.sin(x)**3)*np.cos(x)**2*np.sin(x)+30*x**4-24*x**2-6*x\n",
    "dev3 = lambda x: 27*np.exp(np.sin(x)**3)*np.cos(x)**3*np.sin(x)**6-27*np.exp(np.sin(x)**3)*np.cos(x)*np.sin(x)**5 \\\n",
    "    +54*np.exp(np.sin(x)**3)*np.cos(x)**3*np.sin(x)**3-21*np.exp(np.sin(x)**3)*np.cos(x)*np.sin(x)**2 \\\n",
    "    +6*np.exp(np.sin(x)**3)*np.cos(x)**3+120*x**3-48*x-6\n",
    "# dev4懒得算了，看答案知道m=4\n",
    "print(dev1(0), dev2(0), dev3(0))\n",
    "\n",
    "Newton(f, dev1, -1.5)\n",
    "Newton(f, dev1, 0.5, m=4, realRoot=0)\n",
    "Newton(f, dev1, 1.5)"
   ]
  },
  {
   "cell_type": "markdown",
   "metadata": {},
   "source": [
    "8. 同上，区间$[0,3], f(x)=94\\cos^3{x}-24\\cos x+177\\sin^2{x}-108\\sin^4{x}-72\\cos^3{x}\\sin^2{x}-65$"
   ]
  },
  {
   "cell_type": "code",
   "execution_count": 72,
   "metadata": {},
   "outputs": [
    {
     "data": {
      "image/png": "[encoded data removed]",
      "text/plain": [
       "<Figure size 640x480 with 1 Axes>"
      ]
     },
     "metadata": {},
     "output_type": "display_data"
    }
   ],
   "source": [
    "f = lambda x: 94*np.cos(x)**3-24*np.cos(x)+177*np.sin(x)**2-108*np.sin(x)**4-72*np.cos(x)**3*np.sin(x)**2-65\n",
    "X = np.linspace(0, 3, 200)\n",
    "plt.plot(X, f(X))\n",
    "axes = plt.gca()\n",
    "axes.grid()\n",
    "plt.show()"
   ]
  },
  {
   "cell_type": "code",
   "execution_count": 75,
   "metadata": {},
   "outputs": [],
   "source": [
    "# 求导不易，略过"
   ]
  },
  {
   "cell_type": "markdown",
   "metadata": {},
   "source": [
    "9. 使用牛顿法找出函数$f(x)=14xe^{x-2}-12e^{x-2}-7x^3+20x^2-26x+12,x\\in[0,3]$的根。对于每个根，打印对应的迭代序列，误差$e_i$，和收敛到非0极限的相关误差率$e_{i+1}/e_i^2$或者$e_{i+1}/e_i$，把该极限和由定理1.11中得到的期望M或者定理1.12中得到的S进行匹配。"
   ]
  },
  {
   "cell_type": "code",
   "execution_count": 76,
   "metadata": {},
   "outputs": [
    {
     "data": {
      "image/png": "[encoded data removed]",
      "text/plain": [
       "<Figure size 640x480 with 1 Axes>"
      ]
     },
     "metadata": {},
     "output_type": "display_data"
    }
   ],
   "source": [
    "f = lambda x: 14*x*np.exp(x-2)-12*np.exp(x-2)-7*x**3+20*x**2-26*x+12\n",
    "X = np.linspace(0, 3, 200)\n",
    "plt.plot(X, f(X))\n",
    "axes = plt.gca()\n",
    "axes.grid()\n",
    "plt.show()"
   ]
  },
  {
   "cell_type": "code",
   "execution_count": 78,
   "metadata": {},
   "outputs": [
    {
     "name": "stdout",
     "output_type": "stream",
     "text": [
      "Iter of  1, newPoint: 0.7627845835848802.\n",
      "Iter of  2, newPoint: 0.840821691829043.\n",
      "Iter of  3, newPoint: 0.8565332220104341.\n",
      "Iter of  4, newPoint: 0.8571419618530481.\n",
      "Iter of  5, newPoint: 0.8571428571409215.\n",
      "Iter of  6, newPoint: 0.857142857142857.\n",
      "Newton's method iterated of 6 times, with result: 0.8571428571\n",
      "    Backward Error (BE):  1.7763568394002505e-15\n",
      "\n",
      "Iter of  1, newPoint: 1.7373933654065983.\n",
      "Iter of  2, newPoint: 1.836920380655232.\n",
      "Iter of  3, newPoint: 1.8952930161752548.\n",
      "Iter of  4, newPoint: 1.931733476345266.\n",
      "Iter of  5, newPoint: 1.9551157924042266.\n",
      "Iter of  6, newPoint: 1.970341229099285.\n",
      "Iter of  7, newPoint: 1.9803408977482413.\n",
      "Iter of  8, newPoint: 1.9869432361098975.\n",
      "Iter of  9, newPoint: 1.9913170895684444.\n",
      "Iter of 10, newPoint: 1.9942209016970196.\n",
      "Iter of 11, newPoint: 1.9961514673869911.\n",
      "Iter of 12, newPoint: 1.9974361704405685.\n",
      "Iter of 13, newPoint: 1.9982916042929133.\n",
      "Iter of 14, newPoint: 1.998861434630733.\n",
      "Iter of 15, newPoint: 1.9992411189572343.\n",
      "Iter of 16, newPoint: 1.9994941497056689.\n",
      "Iter of 17, newPoint: 1.999662798790788.\n",
      "Iter of 18, newPoint: 1.9997752208500046.\n",
      "Iter of 19, newPoint: 1.999850149195927.\n",
      "Iter of 20, newPoint: 1.9999001161694587.\n",
      "Iter of 21, newPoint: 1.9999334163391471.\n",
      "Iter of 22, newPoint: 1.9999554557985952.\n",
      "Iter of 23, newPoint: 1.9999702285268854.\n",
      "Iter of 24, newPoint: 1.999980249731755.\n",
      "Iter of 25, newPoint: 1.9999870808150053.\n",
      "Iter of 26, newPoint: 1.9999924023699636.\n",
      "Iter of 27, newPoint: 1.9999924023699636.\n",
      "Newton's method iterated of 27 times, with result: 1.9999924024\n",
      "    Backward Error (BE):  0.0\n",
      "\n"
     ]
    }
   ],
   "source": [
    "dev = lambda x: 2*np.exp(x-2)+14*x*np.exp(x-2)-21*x**2+40*x-26\n",
    "Newton(f, dev, 1)\n",
    "Newton(f, dev, 1.5)"
   ]
  },
  {
   "cell_type": "code",
   "execution_count": 93,
   "metadata": {},
   "outputs": [],
   "source": [
    "def Newton2(func, derivative, startEstimation, realRoot, m=False, maxIter=100):\n",
    "    currentPoint = startEstimation\n",
    "    tolerance = 0.1**GLOBAL_PRECISION\n",
    "    i = 0\n",
    "    newPoint = float('inf')\n",
    "    eLast = float('inf')\n",
    "    while i < maxIter:\n",
    "        try:\n",
    "            newPoint = currentPoint - func(currentPoint)/derivative(currentPoint)\n",
    "        except OverflowError:\n",
    "            print(\"OverflowError.\")\n",
    "            return None\n",
    "        except ZeroDivisionError:\n",
    "            print(\"ZeroDivisionError.\")\n",
    "            break\n",
    "        ei = abs(realRoot-newPoint)\n",
    "        if m:\n",
    "            print(f\"Iter of {i:2d}  x_i: {newPoint:.15f}  e_i: {ei:.15f}  e_i/e_i-1: {ei/eLast}\")\n",
    "        else:\n",
    "            print(f\"Iter of {i:2d}  x_i: {newPoint:.15f}  e_i: {ei:.15f}  e_i/e_i-1^2: {ei/eLast**2.0}\")\n",
    "        eLast = ei\n",
    "        if abs(newPoint - currentPoint) <= tolerance: break\n",
    "        currentPoint = newPoint\n",
    "        i += 1\n",
    "    print()\n"
   ]
  },
  {
   "cell_type": "code",
   "execution_count": 96,
   "metadata": {},
   "outputs": [
    {
     "name": "stdout",
     "output_type": "stream",
     "text": [
      "Iter of  0  x_i: 0.717419008208511  e_i: 0.139723848891489  e_i/e_i-1^2: 0.0\n",
      "Iter of  1  x_i: 0.825072333048116  e_i: 0.032070524051884  e_i/e_i-1^2: 1.6427254134113396\n",
      "Iter of  2  x_i: 0.854901301655348  e_i: 0.002241555444652  e_i/e_i-1^2: 2.179402136570166\n",
      "Iter of  3  x_i: 0.857130819050620  e_i: 0.000012038049380  e_i/e_i-1^2: 2.3958363474332405\n",
      "Iter of  4  x_i: 0.857142856793066  e_i: 0.000000000306934  e_i/e_i-1^2: 2.1180303434436385\n",
      "Iter of  5  x_i: 0.857142857142857  e_i: 0.000000000042857  e_i/e_i-1^2: 454918343.5704114\n",
      "\n",
      "Iter of  0  x_i: 1.737393365406598  e_i: 0.262606634593402  e_i/e_i-1: 0.0\n",
      "Iter of  1  x_i: 1.836920380655232  e_i: 0.163079619344768  e_i/e_i-1: 0.6210034243699395\n",
      "Iter of  2  x_i: 1.895293016175255  e_i: 0.104706983824745  e_i/e_i-1: 0.6420605115798275\n",
      "Iter of  3  x_i: 1.931733476345266  e_i: 0.068266523654734  e_i/e_i-1: 0.6519767942986117\n",
      "Iter of  4  x_i: 1.955115792404227  e_i: 0.044884207595773  e_i/e_i-1: 0.6574848870696945\n",
      "Iter of  5  x_i: 1.970341229099285  e_i: 0.029658770900715  e_i/e_i-1: 0.660784104017643\n",
      "Iter of  6  x_i: 1.980340897748241  e_i: 0.019659102251759  e_i/e_i-1: 0.6628427832552148\n",
      "Iter of  7  x_i: 1.986943236109898  e_i: 0.013056763890102  e_i/e_i-1: 0.6641587048530866\n",
      "Iter of  8  x_i: 1.991317089568444  e_i: 0.008682910431556  e_i/e_i-1: 0.6650124414164786\n",
      "Iter of  9  x_i: 1.994220901697020  e_i: 0.005779098302980  e_i/e_i-1: 0.6655715671070289\n",
      "Iter of 10  x_i: 1.996151467386991  e_i: 0.003848532613009  e_i/e_i-1: 0.6659399808139815\n",
      "Iter of 11  x_i: 1.997436170440569  e_i: 0.002563829559431  e_i/e_i-1: 0.6661836645907998\n",
      "Iter of 12  x_i: 1.998291604292913  e_i: 0.001708395707087  e_i/e_i-1: 0.666345272758903\n",
      "Iter of 13  x_i: 1.998861434630733  e_i: 0.001138565369267  e_i/e_i-1: 0.6664529561530107\n",
      "Iter of 14  x_i: 1.999241118957234  e_i: 0.000758881042766  e_i/e_i-1: 0.6665239109232728\n",
      "Iter of 15  x_i: 1.999494149705669  e_i: 0.000505850294331  e_i/e_i-1: 0.6665738973892696\n",
      "Iter of 16  x_i: 1.999662798790788  e_i: 0.000337201209212  e_i/e_i-1: 0.6666027735693045\n",
      "Iter of 17  x_i: 1.999775220850005  e_i: 0.000224779149995  e_i/e_i-1: 0.6666024434512038\n",
      "Iter of 18  x_i: 1.999850149195927  e_i: 0.000149850804073  e_i/e_i-1: 0.6666579354712573\n",
      "Iter of 19  x_i: 1.999900116169459  e_i: 0.000099883830541  e_i/e_i-1: 0.6665551857343409\n",
      "Iter of 20  x_i: 1.999933416339147  e_i: 0.000066583660853  e_i/e_i-1: 0.6666110069273978\n",
      "Iter of 21  x_i: 1.999955455798595  e_i: 0.000044544201405  e_i/e_i-1: 0.668995979406768\n",
      "Iter of 22  x_i: 1.999970228526885  e_i: 0.000029771473115  e_i/e_i-1: 0.6683579944341969\n",
      "Iter of 23  x_i: 1.999980249731755  e_i: 0.000019750268245  e_i/e_i-1: 0.663395733529198\n",
      "Iter of 24  x_i: 1.999987080815005  e_i: 0.000012919184995  e_i/e_i-1: 0.6541270647251115\n",
      "Iter of 25  x_i: 1.999992402369964  e_i: 0.000007597630036  e_i/e_i-1: 0.5880889575900226\n",
      "Iter of 26  x_i: 1.999992402369964  e_i: 0.000007597630036  e_i/e_i-1: 1.0\n",
      "\n"
     ]
    }
   ],
   "source": [
    "GLOBAL_PRECISION = 6\n",
    "Newton2(f, dev, 0.5, 0.8571428571)\n",
    "# TODO: 为什么不收敛\n",
    "\n",
    "Newton2(f, dev, 1.5, 2.0, m=True)\n",
    "# TODO: 计算多重性，重构Newton\n",
    "# S = 2/3"
   ]
  },
  {
   "cell_type": "markdown",
   "metadata": {},
   "source": [
    "10. 画出$f(x)=54x^6+45x^5-102x^4-69x^3+35x^2+16x-4$在区间$[-2,2]$上的图像，使用牛顿法找出该区间上所有五个根。对于哪些根线性收敛，哪些二次收敛？"
   ]
  },
  {
   "cell_type": "code",
   "execution_count": 100,
   "metadata": {},
   "outputs": [
    {
     "data": {
      "image/png": "[encoded data removed]",
      "text/plain": [
       "<Figure size 640x480 with 1 Axes>"
      ]
     },
     "metadata": {},
     "output_type": "display_data"
    }
   ],
   "source": [
    "f = lambda x: 54*x**6+45*x**5-102*x**4-69*x**3+35*x**2+16*x-4\n",
    "X = np.linspace(-2, 2, 200)\n",
    "plt.plot(X, f(X))\n",
    "plt.ylim(-10, 3)\n",
    "axes = plt.gca()\n",
    "axes.grid()\n",
    "plt.show()"
   ]
  },
  {
   "cell_type": "code",
   "execution_count": 101,
   "metadata": {},
   "outputs": [
    {
     "name": "stdout",
     "output_type": "stream",
     "text": [
      "Iter of  1, newPoint: -1.4185973700688792.\n",
      "Iter of  2, newPoint: -1.3863317391163943.\n",
      "Iter of  3, newPoint: -1.3814057833998454.\n",
      "Iter of  4, newPoint: -1.3812985321165292.\n",
      "Iter of  5, newPoint: -1.3812984820440055.\n",
      "Newton's method iterated of 5 times, with result: -1.381298\n",
      "    Backward Error (BE):  2.263078613395919e-12\n",
      "\n",
      "Iter of  1, newPoint: -0.5988142292490118.\n",
      "Iter of  2, newPoint: -0.6344820841582173.\n",
      "Iter of  3, newPoint: -0.6509143560739481.\n",
      "Iter of  4, newPoint: -0.6588666208029729.\n",
      "Iter of  5, newPoint: -0.6627846901367699.\n",
      "Iter of  6, newPoint: -0.6647300742425561.\n",
      "Iter of  7, newPoint: -0.6656994553409142.\n",
      "Iter of  8, newPoint: -0.6661833304899479.\n",
      "Iter of  9, newPoint: -0.666425065734369.\n",
      "Iter of 10, newPoint: -0.6665458829626849.\n",
      "Iter of 11, newPoint: -0.6666062790017977.\n",
      "Iter of 12, newPoint: -0.6666364738806203.\n",
      "Iter of 13, newPoint: -0.6666515705353098.\n",
      "Iter of 14, newPoint: -0.6666591186661682.\n",
      "Iter of 15, newPoint: -0.6666628926809902.\n",
      "Iter of 16, newPoint: -0.6666647796785492.\n",
      "Iter of 17, newPoint: -0.6666657231636103.\n",
      "Newton's method iterated of 17 times, with result: -0.666666\n",
      "    Backward Error (BE):  6.438760635774088e-11\n",
      "\n",
      "Iter of  1, newPoint: 0.25.\n",
      "Iter of  2, newPoint: 0.20006983240223464.\n",
      "Iter of  3, newPoint: 0.20514609961636662.\n",
      "Iter of  4, newPoint: 0.20518292265910182.\n",
      "Iter of  5, newPoint: 0.20518292468904759.\n",
      "Newton's method iterated of 5 times, with result: 0.205183\n",
      "    Backward Error (BE):  4.440892098500626e-16\n",
      "\n",
      "Iter of  1, newPoint: 0.5223646034816247.\n",
      "Iter of  2, newPoint: 0.5017647314342971.\n",
      "Iter of  3, newPoint: 0.5000127737788448.\n",
      "Iter of  4, newPoint: 0.5000000006785094.\n",
      "Iter of  5, newPoint: 0.49999999999999994.\n",
      "Newton's method iterated of 5 times, with result: 0.500000\n",
      "    Backward Error (BE):  2.6645352591003757e-15\n",
      "\n",
      "Iter of  1, newPoint: 1.1920243019648398.\n",
      "Iter of  2, newPoint: 1.1770500972546167.\n",
      "Iter of  3, newPoint: 1.176119021840261.\n",
      "Iter of  4, newPoint: 1.1761155574027806.\n",
      "Iter of  5, newPoint: 1.176115557354947.\n",
      "Newton's method iterated of 5 times, with result: 1.176116\n",
      "    Backward Error (BE):  3.552713678800501e-15\n",
      "\n"
     ]
    }
   ],
   "source": [
    "dev = lambda x: 324*x**5+225*x**4-408*x**3-207*x**2+70*x+16\n",
    "Newton(f, dev, -1.5)\n",
    "Newton(f, dev, -0.5)\n",
    "Newton(f, dev, 0)\n",
    "Newton(f, dev, 0.6)\n",
    "Newton(f, dev, 1.25)"
   ]
  },
  {
   "cell_type": "code",
   "execution_count": 102,
   "metadata": {},
   "outputs": [
    {
     "name": "stdout",
     "output_type": "stream",
     "text": [
      "-163.33333333333348\n"
     ]
    }
   ],
   "source": [
    "# 根0.6666666=2/3为重根，讨论多重性\n",
    "dev2 = lambda x: 1620*x**4+900*x**3-1224*x**2-414*x+70\n",
    "print(dev2(2/3))"
   ]
  },
  {
   "cell_type": "code",
   "execution_count": 103,
   "metadata": {},
   "outputs": [
    {
     "name": "stdout",
     "output_type": "stream",
     "text": [
      "Iter of  1, newPoint: -0.6976284584980237.\n",
      "Iter of  2, newPoint: -0.6671450105905085.\n",
      "Iter of  3, newPoint: -0.6666667976726182.\n",
      "Iter of  4, newPoint: -0.6666666660781232.\n",
      "Improved Newton's method.\n",
      "Newton's method iterated of 4 times, with result: -0.666667\n",
      "    Backward Error (BE):  0.0\n",
      "\n"
     ]
    }
   ],
   "source": [
    "# so m=2\n",
    "Newton(f, dev, -.5, m=2)"
   ]
  },
  {
   "cell_type": "markdown",
   "metadata": {},
   "source": [
    "11. 使用理想气体定律：$PV=nRT$做初始估计,用牛求解van der Waals方程：\n",
    "$$\n",
    "(P+\\frac{n^2a}{V^2})(V-nb)=nRT\n",
    "$$\n",
    "其中T=320, P=15, a(氧气)=1.36L^2-atm/mole^2, b=0.003183L/mole, n=1mole,R=0.0820578, 解V。"
   ]
  },
  {
   "cell_type": "code",
   "execution_count": 105,
   "metadata": {},
   "outputs": [
    {
     "name": "stdout",
     "output_type": "stream",
     "text": [
      "Iter of  1, newPoint: 1.700566109870888.\n",
      "Iter of  2, newPoint: 1.7005325575548282.\n",
      "Iter of  3, newPoint: 1.700532565665068.\n",
      "Newton's method iterated of 3 times, with result: 1.700533\n",
      "    Backward Error (BE):  2.8556712550198426e-11\n",
      "\n"
     ]
    }
   ],
   "source": [
    "n = 1\n",
    "R = 0.0820578\n",
    "T = 320\n",
    "P = 15\n",
    "VEstimated = n*R*T/P\n",
    "a = 1.36\n",
    "b = 0.003183\n",
    "f = lambda V: (P+n**2*a/V**2)*(V-n*b)-n*R*T\n",
    "dev = lambda V: P-n**2*a/V**2-2*n**3*a*b/V**3\n",
    "Newton(f, dev, VEstimated)\n"
   ]
  },
  {
   "cell_type": "markdown",
   "metadata": {},
   "source": [
    "12. 11中的氧气换成苯蒸汽：T=700k, P=20atm, a=18.0, b=0.1154。"
   ]
  },
  {
   "cell_type": "code",
   "execution_count": 106,
   "metadata": {},
   "outputs": [
    {
     "name": "stdout",
     "output_type": "stream",
     "text": [
      "Iter of  1, newPoint: 2.883936591387851.\n",
      "Iter of  2, newPoint: 2.6618858108540357.\n",
      "Iter of  3, newPoint: 2.6643091550399425.\n",
      "Iter of  4, newPoint: 2.664246966682198.\n",
      "Iter of  5, newPoint: 2.664248550819081.\n",
      "Iter of  6, newPoint: 2.664248510458366.\n",
      "Newton's method iterated of 6 times, with result: 2.664249\n",
      "    Backward Error (BE):  1.7732624257860152e-08\n",
      "\n"
     ]
    }
   ],
   "source": [
    "T = 700\n",
    "P = 20\n",
    "a = 18\n",
    "b = 0.1154\n",
    "Newton(f, dev, VEstimated)"
   ]
  },
  {
   "cell_type": "markdown",
   "metadata": {},
   "source": [
    "13. =\n",
    "    1. 找出$f(x)=(1-\\frac{3}{4x})^{\\frac{1}{3}}$的根。\n",
    "    2. 使用牛顿方法，初始估计在根附近，画出前50步的迭代。这是另外一种通过生成混乱轨迹是的牛顿方法可能失败的情形。\n",
    "    3. 为什么定理1.11和定理1.12失效？"
   ]
  },
  {
   "cell_type": "code",
   "execution_count": 107,
   "metadata": {},
   "outputs": [
    {
     "name": "stdout",
     "output_type": "stream",
     "text": [
      "Iter of  1, newPoint: (0.2499999999999999-0.43301270189221935j).\n",
      "Iter of  2, newPoint: (1.1102230246251565e-16+0.8660254037844386j).\n",
      "Iter of  3, newPoint: (-3.7499999999999996+2.1650635094610973j).\n",
      "Iter of  4, newPoint: (-52.49999999999996+73.61215932167727j).\n",
      "Iter of  5, newPoint: (-32264.999999999945-6408.587988004818j).\n",
      "Iter of  6, newPoint: (-3999969959.999982-1654210365.8157508j).\n",
      "Iter of  7, newPoint: (-5.305339100211965e+19-5.293433417288537e+19j).\n",
      "Iter of  8, newPoint: (-1.9431554207260724e+40+1.1277095695970633e+40j).\n",
      "Iter of  9, newPoint: (-1.0173627174893296e+81-1.7439800246496225e+81j).\n",
      "Iter of 10, newPoint: (nan+nanj).\n",
      "Iter of 11, newPoint: (nan+nanj).\n",
      "Iter of 12, newPoint: (nan+nanj).\n",
      "Iter of 13, newPoint: (nan+nanj).\n",
      "Iter of 14, newPoint: (nan+nanj).\n",
      "Iter of 15, newPoint: (nan+nanj).\n",
      "Iter of 16, newPoint: (nan+nanj).\n",
      "Iter of 17, newPoint: (nan+nanj).\n",
      "Iter of 18, newPoint: (nan+nanj).\n",
      "Iter of 19, newPoint: (nan+nanj).\n",
      "Iter of 20, newPoint: (nan+nanj).\n",
      "Iter of 21, newPoint: (nan+nanj).\n",
      "Iter of 22, newPoint: (nan+nanj).\n",
      "Iter of 23, newPoint: (nan+nanj).\n",
      "Iter of 24, newPoint: (nan+nanj).\n",
      "Iter of 25, newPoint: (nan+nanj).\n",
      "Iter of 26, newPoint: (nan+nanj).\n",
      "Iter of 27, newPoint: (nan+nanj).\n",
      "Iter of 28, newPoint: (nan+nanj).\n",
      "Iter of 29, newPoint: (nan+nanj).\n",
      "Iter of 30, newPoint: (nan+nanj).\n",
      "Iter of 31, newPoint: (nan+nanj).\n",
      "Iter of 32, newPoint: (nan+nanj).\n",
      "Iter of 33, newPoint: (nan+nanj).\n",
      "Iter of 34, newPoint: (nan+nanj).\n",
      "Iter of 35, newPoint: (nan+nanj).\n",
      "Iter of 36, newPoint: (nan+nanj).\n",
      "Iter of 37, newPoint: (nan+nanj).\n",
      "Iter of 38, newPoint: (nan+nanj).\n",
      "Iter of 39, newPoint: (nan+nanj).\n",
      "Iter of 40, newPoint: (nan+nanj).\n",
      "Iter of 41, newPoint: (nan+nanj).\n",
      "Iter of 42, newPoint: (nan+nanj).\n",
      "Iter of 43, newPoint: (nan+nanj).\n",
      "Iter of 44, newPoint: (nan+nanj).\n",
      "Iter of 45, newPoint: (nan+nanj).\n",
      "Iter of 46, newPoint: (nan+nanj).\n",
      "Iter of 47, newPoint: (nan+nanj).\n",
      "Iter of 48, newPoint: (nan+nanj).\n",
      "Iter of 49, newPoint: (nan+nanj).\n",
      "Iter of 50, newPoint: (nan+nanj).\n",
      "Newton's method iterated of 50 times, with result: nan+nanj\n",
      "    Backward Error (BE):  nan\n",
      "\n"
     ]
    }
   ],
   "source": [
    "root = 3/4\n",
    "f = lambda x: (1-3/(4*x))**(1/3)\n",
    "dev = lambda x: (4*x**4*(4*x-3)**2)**(-1/3)\n",
    "Newton(f, dev, 0.5, maxIter=50)\n",
    "# TODO: 为什么出现了复数"
   ]
  },
  {
   "cell_type": "markdown",
   "metadata": {},
   "source": [
    "14. TL, Why bother"
   ]
  },
  {
   "cell_type": "code",
   "execution_count": null,
   "metadata": {},
   "outputs": [],
   "source": [
    "# TODO: 做完14题"
   ]
  }
 ],
 "metadata": {
  "kernelspec": {
   "display_name": "Python 3",
   "language": "python",
   "name": "python3"
  },
  "language_info": {
   "codemirror_mode": {
    "name": "ipython",
    "version": 3
   },
   "file_extension": ".py",
   "mimetype": "text/x-python",
   "name": "python",
   "nbconvert_exporter": "python",
   "pygments_lexer": "ipython3",
   "version": "3.12.2"
  }
 },
 "nbformat": 4,
 "nbformat_minor": 2
}
