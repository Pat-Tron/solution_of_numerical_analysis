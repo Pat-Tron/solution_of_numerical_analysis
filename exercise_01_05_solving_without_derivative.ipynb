{
 "cells": [
  {
   "cell_type": "code",
   "execution_count": 7,
   "metadata": {},
   "outputs": [],
   "source": [
    "import numpy as np"
   ]
  },
  {
   "cell_type": "markdown",
   "metadata": {},
   "source": [
    "1. 使用割线方法找出以下方程的一个（唯一）根，初始估计为$x_0=1, x_1=2$：\n",
    "$$\n",
    "\\begin{aligned}\n",
    "(a) & x^3=2x+2 \\\\\n",
    "(b) & e^x+x=7 \\\\\n",
    "(c) & e^x+\\sin x=4\n",
    "\\end{aligned}\n",
    "$$"
   ]
  },
  {
   "cell_type": "code",
   "execution_count": 8,
   "metadata": {},
   "outputs": [],
   "source": [
    "GLOBAL_PRECISION = 8\n",
    "\n",
    "def SecantLine(func, startEstimation0, startEstimation1, realRoot=None, maxIter=100):\n",
    "    \"\"\"\n",
    "    Usage:\n",
    "    :param func: The function to be solved.\n",
    "    :param startEstimation0, startEstimation1: Two start estimations.\n",
    "    :param maxIter: Maximum of iteration.\n",
    "    \"\"\"\n",
    "    x0 = startEstimation0\n",
    "    x1 = startEstimation1\n",
    "    x2 = float('inf')\n",
    "\n",
    "    tolerance = 10**(-GLOBAL_PRECISION)\n",
    "    count = 0\n",
    "    while count < maxIter:\n",
    "        count += 1\n",
    "        try:\n",
    "            x2 = x1 - func(x1)*(x1-x0)/(func(x1)-func(x0))\n",
    "        except OverflowError:\n",
    "            print(\"OverflowError.\")\n",
    "            return None\n",
    "        except ZeroDivisionError:\n",
    "            print(\"ZeroDivisionError.\")\n",
    "            break\n",
    "        print(f\"Iter of {count:2d}, newPoint: {x2}.\")\n",
    "        if abs(x2 - x1) <= tolerance: break\n",
    "        x0 = x1\n",
    "        x1 = x2\n",
    "    print(f\"SecantLine method iterated of {count} times, with result: {x2:.{GLOBAL_PRECISION}f}\")\n",
    "    print(f\"    Backward Error (BE): \", abs(func(x2)))\n",
    "    if realRoot is not None: print(f\"    Forward Error (FE): \", abs(x2-realRoot))\n",
    "    print()"
   ]
  },
  {
   "cell_type": "code",
   "execution_count": 38,
   "metadata": {},
   "outputs": [
    {
     "name": "stdout",
     "output_type": "stream",
     "text": [
      "Iter of  1, newPoint: 1.6.\n",
      "Iter of  2, newPoint: 1.7422680412371134.\n",
      "Iter of  3, newPoint: 1.7729559878279366.\n",
      "Iter of  4, newPoint: 1.7692203651195755.\n",
      "Iter of  5, newPoint: 1.7692921651959501.\n",
      "Iter of  6, newPoint: 1.769292354248405.\n",
      "SecantLine method iterated of 6 times, with result: 1.769292\n",
      "    Backward Error (BE):  7.223821540947029e-11\n",
      "\n",
      "Iter of  1, newPoint: 1.5787072479025044.\n",
      "Iter of  2, newPoint: 1.6601600999426993.\n",
      "Iter of  3, newPoint: 1.6733279622124804.\n",
      "Iter of  4, newPoint: 1.6728189972632956.\n",
      "Iter of  5, newPoint: 1.672821698053204.\n",
      "Iter of  6, newPoint: 1.6728216986289073.\n",
      "SecantLine method iterated of 6 times, with result: 1.672822\n",
      "    Backward Error (BE):  5.329070518200751e-15\n",
      "\n",
      "Iter of  1, newPoint: 1.0929065801160904.\n",
      "Iter of  2, newPoint: 1.1193566855644101.\n",
      "Iter of  3, newPoint: 1.13010245310328.\n",
      "Iter of  4, newPoint: 1.12998009605245.\n",
      "Iter of  5, newPoint: 1.1299804986355602.\n",
      "SecantLine method iterated of 5 times, with result: 1.129980\n",
      "    Backward Error (BE):  5.3792970078347935e-11\n",
      "\n"
     ]
    }
   ],
   "source": [
    "f1 = lambda x: x**3-2*x-2\n",
    "f2 = lambda x: np.exp(x)+x-7\n",
    "f3 = lambda x: np.exp(x)+np.sin(x)-4\n",
    "SecantLine(f1, 1, 2)\n",
    "SecantLine(f2, 1, 2)\n",
    "SecantLine(f3, 1, 2)"
   ]
  },
  {
   "cell_type": "markdown",
   "metadata": {},
   "source": [
    "2. 使用试位方法找出上题中方程的每个根。"
   ]
  },
  {
   "cell_type": "code",
   "execution_count": 30,
   "metadata": {},
   "outputs": [],
   "source": [
    "def RegulaFalsi(func, sectionStart, sectionEnd, maxIter=100):\n",
    "    tolerance = 10**(-GLOBAL_PRECISION)\n",
    "    count = 0\n",
    "    a = sectionStart\n",
    "    b = sectionEnd\n",
    "    c = float('inf')\n",
    "\n",
    "    while count < maxIter:\n",
    "        count += 1\n",
    "        fa = func(a)\n",
    "        fb = func(b)\n",
    "        c = (b*fa-a*fb)/(fa-fb)\n",
    "        fc = func(c)\n",
    "        print(f\"Iter of {count:2d}, newPoint: {c}.\")\n",
    "        if abs(fc) <= tolerance: break\n",
    "        if fa*fc < 0:\n",
    "            b = c\n",
    "        else:\n",
    "            a = c\n",
    "\n",
    "    print(f\"Regula Falsi method iterated of {count} times, with result: {c:.{GLOBAL_PRECISION}f}\")\n",
    "    print(f\"    Backward Error (BE): \", abs(func(c)))\n",
    "    print()"
   ]
  },
  {
   "cell_type": "code",
   "execution_count": 39,
   "metadata": {},
   "outputs": [
    {
     "name": "stdout",
     "output_type": "stream",
     "text": [
      "Iter of  1, newPoint: 1.6.\n",
      "Iter of  2, newPoint: 1.7422680412371134.\n",
      "Iter of  3, newPoint: 1.7652591529969437.\n",
      "Iter of  4, newPoint: 1.7686967661242612.\n",
      "Iter of  5, newPoint: 1.7692045415304856.\n",
      "Iter of  6, newPoint: 1.7692794102646114.\n",
      "Iter of  7, newPoint: 1.7692904463061978.\n",
      "Iter of  8, newPoint: 1.7692920730121895.\n",
      "Iter of  9, newPoint: 1.7692923127862974.\n",
      "Regula Falsi method iterated of 9 times, with result: 1.769292\n",
      "    Backward Error (BE):  3.0638191450549357e-07\n",
      "\n",
      "Iter of  1, newPoint: 1.5787072479025042.\n",
      "Iter of  2, newPoint: 1.6601600999426993.\n",
      "Iter of  3, newPoint: 1.6711295739211935.\n",
      "Iter of  4, newPoint: 1.6725957667131959.\n",
      "Iter of  5, newPoint: 1.6727915359888301.\n",
      "Iter of  6, newPoint: 1.6728176718852903.\n",
      "Iter of  7, newPoint: 1.672821161055653.\n",
      "Iter of  8, newPoint: 1.6728216268625002.\n",
      "Regula Falsi method iterated of 8 times, with result: 1.672822\n",
      "    Backward Error (BE):  4.540788349771674e-07\n",
      "\n",
      "Iter of  1, newPoint: 1.0929065801160904.\n",
      "Iter of  2, newPoint: 1.1193566855644101.\n",
      "Iter of  3, newPoint: 1.1269323018857849.\n",
      "Iter of  4, newPoint: 1.129105593458955.\n",
      "Iter of  5, newPoint: 1.129729354318393.\n",
      "Iter of  6, newPoint: 1.129908404754942.\n",
      "Iter of  7, newPoint: 1.1299598030871578.\n",
      "Iter of  8, newPoint: 1.1299745576847615.\n",
      "Iter of  9, newPoint: 1.1299787932079237.\n",
      "Iter of 10, newPoint: 1.1299800090779146.\n",
      "Iter of 11, newPoint: 1.1299803581115893.\n",
      "Regula Falsi method iterated of 11 times, with result: 1.129980\n",
      "    Backward Error (BE):  4.950176411000484e-07\n",
      "\n"
     ]
    }
   ],
   "source": [
    "RegulaFalsi(f1, 1, 2)\n",
    "RegulaFalsi(f2, 1, 2)\n",
    "RegulaFalsi(f3, 1, 2)\n",
    "# 为什么收敛速度和精确度都不如割线法？TODO"
   ]
  },
  {
   "cell_type": "markdown",
   "metadata": {},
   "source": [
    "3. 使用逆向二次插值找出习题1中方程的每个根。"
   ]
  },
  {
   "cell_type": "code",
   "execution_count": 40,
   "metadata": {},
   "outputs": [],
   "source": [
    "def IQI(func, X : np.ndarray, maxIter=100):\n",
    "    \"Inverse Quadratic Interpolation\"\n",
    "    tolerance = 10**(-GLOBAL_PRECISION)\n",
    "    count = 0\n",
    "    x3 = 0\n",
    "\n",
    "    while count < maxIter:\n",
    "        count += 1\n",
    "        Y = func(X)\n",
    "        q = Y[0]/Y[1]\n",
    "        r = Y[2]/Y[1]\n",
    "        s = Y[2]/Y[0]\n",
    "        x3 = X[2]-(r*(r-q)*(X[2]-X[1])+(1-r)*s*(X[2]-X[0]))/((q-1)*(r-1)*(s-1))\n",
    "        print(f\"Iter of {count:2d}, newPoint: {x3}.\")\n",
    "        if abs(func(x3)) <= tolerance: break\n",
    "        X[np.argmax(np.abs(Y))] = x3\n",
    "\n",
    "    print(f\"IQI method iterated of {count} times, with result: {x3:.{GLOBAL_PRECISION}f}\")\n",
    "    print(f\"    Backward Error (BE): \", abs(func(x3)))\n",
    "    print()"
   ]
  },
  {
   "cell_type": "code",
   "execution_count": 42,
   "metadata": {},
   "outputs": [
    {
     "name": "stdout",
     "output_type": "stream",
     "text": [
      "Iter of  1, newPoint: 1.870846394984326.\n",
      "Iter of  2, newPoint: 1.7638728430119182.\n",
      "Iter of  3, newPoint: 1.769446652557294.\n",
      "Iter of  4, newPoint: 1.769292283686051.\n",
      "IQI method iterated of 4 times, with result: 1.769292\n",
      "    Backward Error (BE):  5.214672396114395e-07\n",
      "\n",
      "Iter of  1, newPoint: 1.6812451468162413.\n",
      "Iter of  2, newPoint: 1.6727219290010504.\n",
      "Iter of  3, newPoint: 1.6728217302368324.\n",
      "IQI method iterated of 3 times, with result: 1.672822\n",
      "    Backward Error (BE):  1.9998898626027994e-07\n",
      "\n",
      "Iter of  1, newPoint: 1.1261068060269603.\n",
      "Iter of  2, newPoint: 1.1299940471899907.\n",
      "Iter of  3, newPoint: 1.1299804990927855.\n",
      "IQI method iterated of 3 times, with result: 1.129980\n",
      "    Backward Error (BE):  1.5566801181421397e-09\n",
      "\n"
     ]
    }
   ],
   "source": [
    "IQI(f1, np.array([1, 2, 1.5]))\n",
    "IQI(f2, np.array([1, 2, 1.5]))\n",
    "IQI(f3, np.array([1, 2, 1.5]))"
   ]
  },
  {
   "cell_type": "markdown",
   "metadata": {},
   "source": [
    "4. $f(x)=54x^6+45x^5-102x^4-69x^3+35x^2+16x-4$，在区间$[-2,2]$中画出函数，使用割线方法找出该区间中所有五个根。哪些线性收敛？哪些超线性收敛？"
   ]
  },
  {
   "cell_type": "code",
   "execution_count": 47,
   "metadata": {},
   "outputs": [
    {
     "data": {
      "image/png": "[encoded data removed]",
      "text/plain": [
       "<Figure size 640x480 with 1 Axes>"
      ]
     },
     "metadata": {},
     "output_type": "display_data"
    }
   ],
   "source": [
    "import matplotlib.pyplot as plt\n",
    "\n",
    "f = lambda x: 54*x**6+45*x**5-102*x**4-69*x**3+35*x**2+16*x-4\n",
    "X = np.linspace(-2, 2, 500)\n",
    "plt.plot(X, f(X))\n",
    "plt.ylim(-30, 10)\n",
    "axes = plt.gca()\n",
    "axes.grid()\n",
    "plt.show()"
   ]
  },
  {
   "cell_type": "code",
   "execution_count": 48,
   "metadata": {},
   "outputs": [
    {
     "name": "stdout",
     "output_type": "stream",
     "text": [
      "Iter of  1, newPoint: -1.3882641030092477.\n",
      "Iter of  2, newPoint: -1.3818282512324171.\n",
      "Iter of  3, newPoint: -1.3813142180638809.\n",
      "Iter of  4, newPoint: -1.3812985182666173.\n",
      "Iter of  5, newPoint: -1.3812984820464749.\n",
      "SecantLine method iterated of 5 times, with result: -1.381298\n",
      "    Backward Error (BE):  5.220925913818064e-10\n",
      "\n",
      "Iter of  1, newPoint: -0.3949579831932773.\n",
      "Iter of  2, newPoint: -0.5934921837823462.\n",
      "Iter of  3, newPoint: -0.6170568725221419.\n",
      "Iter of  4, newPoint: -0.6383928487344351.\n",
      "Iter of  5, newPoint: -0.6490954620958846.\n",
      "Iter of  6, newPoint: -0.655978595935283.\n",
      "Iter of  7, newPoint: -0.6600748269510625.\n",
      "Iter of  8, newPoint: -0.6626092432987112.\n",
      "Iter of  9, newPoint: -0.6641625489814171.\n",
      "Iter of 10, newPoint: -0.665121000199729.\n",
      "Iter of 11, newPoint: -0.6657119865267488.\n",
      "Iter of 12, newPoint: -0.6660769034924361.\n",
      "Iter of 13, newPoint: -0.6663022642532773.\n",
      "Iter of 14, newPoint: -0.6664414903789521.\n",
      "Iter of 15, newPoint: -0.6665275136380171.\n",
      "Iter of 16, newPoint: -0.6665806706562182.\n",
      "Iter of 17, newPoint: -0.6666135202033462.\n",
      "Iter of 18, newPoint: -0.6666338211133364.\n",
      "Iter of 19, newPoint: -0.6666463672897006.\n",
      "Iter of 20, newPoint: -0.6666541210746111.\n",
      "Iter of 21, newPoint: -0.6666589131045965.\n",
      "Iter of 22, newPoint: -0.6666618747181772.\n",
      "Iter of 23, newPoint: -0.6666637050869589.\n",
      "Iter of 24, newPoint: -0.666664836309395.\n",
      "Iter of 25, newPoint: -0.6666655354522247.\n",
      "SecantLine method iterated of 25 times, with result: -0.666666\n",
      "    Backward Error (BE):  9.256240218746825e-11\n",
      "\n",
      "Iter of  1, newPoint: 0.28294626284576035.\n",
      "Iter of  2, newPoint: -0.04729945746074249.\n",
      "Iter of  3, newPoint: 0.21448456271826133.\n",
      "Iter of  4, newPoint: 0.2052475277583252.\n",
      "Iter of  5, newPoint: 0.2051819732447633.\n",
      "Iter of  6, newPoint: 0.2051829247811326.\n",
      "SecantLine method iterated of 6 times, with result: 0.205183\n",
      "    Backward Error (BE):  1.7164945020908817e-09\n",
      "\n",
      "Iter of  1, newPoint: 0.4595314568583434.\n",
      "Iter of  2, newPoint: 0.48655098951938797.\n",
      "Iter of  3, newPoint: 0.5028596234412225.\n",
      "Iter of  4, newPoint: 0.4998331582718011.\n",
      "Iter of  5, newPoint: 0.49999803669094905.\n",
      "Iter of  6, newPoint: 0.5000000013631472.\n",
      "Iter of  7, newPoint: 0.4999999999999889.\n",
      "SecantLine method iterated of 7 times, with result: 0.500000\n",
      "    Backward Error (BE):  3.055333763768431e-13\n",
      "\n",
      "Iter of  1, newPoint: 1.113181187164546.\n",
      "Iter of  2, newPoint: 1.1584673602845255.\n",
      "Iter of  3, newPoint: 1.1816389271432397.\n",
      "Iter of  4, newPoint: 1.175715239593685.\n",
      "Iter of  5, newPoint: 1.1761068569184414.\n",
      "Iter of  6, newPoint: 1.1761155712497073.\n",
      "Iter of  7, newPoint: 1.1761155573544655.\n",
      "SecantLine method iterated of 7 times, with result: 1.176116\n",
      "    Backward Error (BE):  1.482476363889873e-10\n",
      "\n"
     ]
    }
   ],
   "source": [
    "SecantLine(f, -1.5, -1.4)   # 超线性\n",
    "SecantLine(f, -1.0, -0.5)   # 线性\n",
    "SecantLine(f, 0, 0.4)       # 超线性\n",
    "SecantLine(f, 0.4, 0.6)     # 超线性\n",
    "SecantLine(f, 1.0, 1.25)    # 超线性"
   ]
  },
  {
   "cell_type": "markdown",
   "metadata": {},
   "source": [
    "5. 搞不明白这道题的意义，TODO"
   ]
  },
  {
   "cell_type": "markdown",
   "metadata": {},
   "source": [
    "6. 没有fzero，TODO"
   ]
  }
 ],
 "metadata": {
  "kernelspec": {
   "display_name": "Python 3",
   "language": "python",
   "name": "python3"
  },
  "language_info": {
   "codemirror_mode": {
    "name": "ipython",
    "version": 3
   },
   "file_extension": ".py",
   "mimetype": "text/x-python",
   "name": "python",
   "nbconvert_exporter": "python",
   "pygments_lexer": "ipython3",
   "version": "3.12.2"
  }
 },
 "nbformat": 4,
 "nbformat_minor": 2
}
