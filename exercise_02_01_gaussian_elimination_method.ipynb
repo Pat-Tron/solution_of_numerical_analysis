{
 "cells": [
  {
   "cell_type": "code",
   "execution_count": 79,
   "metadata": {},
   "outputs": [],
   "source": [
    "import numpy as np"
   ]
  },
  {
   "cell_type": "code",
   "execution_count": 80,
   "metadata": {},
   "outputs": [],
   "source": [
    "def NaiveGaussinElimination(M_:np.ndarray, b_:np.ndarray, check=False):\n",
    "    M = M_.copy()\n",
    "    b = b_.copy()\n",
    "    if M.shape[0] != M.shape[1]:\n",
    "        print(\"M is not a square matrix.\")\n",
    "        return None\n",
    "\n",
    "    order = M.shape[0]\n",
    "\n",
    "    # Elimination\n",
    "    for col in range(order):\n",
    "        if np.abs(M_[col][col]) < 0.00000001:\n",
    "            print(\"Zero pivot encounterd. i=j=:\", col)\n",
    "            return None\n",
    "        for row in range(col+1, order):\n",
    "            mult = M[row][col]/M[col][col]\n",
    "            for k in range(col, order):\n",
    "                M[row][k] -= mult*M[col][k]\n",
    "            b[row] -= mult*b[col]\n",
    "        # print(M, '\\n')\n",
    "    # print(M, '\\n')\n",
    "    # print(b, '\\n')\n",
    "\n",
    "    # Back substitution\n",
    "    res = np.zeros(order)\n",
    "    for row in range(order)[::-1]:\n",
    "        for col in range(row+1, order):\n",
    "            b[row] -= M[row][col]*res[col]\n",
    "        res[row] = b[row]/M[row][row]\n",
    "    \n",
    "    print(res)\n",
    "\n",
    "    if check:\n",
    "        for row in range(order):\n",
    "            left = 0\n",
    "            for col in range(order):\n",
    "                left += M_[row][col]*res[col]\n",
    "            print(row, 'error: ', np.abs(b_[row]-left))"
   ]
  },
  {
   "cell_type": "markdown",
   "metadata": {},
   "source": [
    "1. 解以下方程组：\n",
    "$$\n",
    "\\begin{aligned}\n",
    "&\\begin{cases}\n",
    "2x-2y-z=-2 \\\\\n",
    "4x+y-2z=1 \\\\\n",
    "-2x+y-z=-3 \\\\\n",
    "\\end{cases}\n",
    "\\\\\n",
    "\\\\\n",
    "&\\begin{cases}\n",
    "x+2y-z=2 \\\\\n",
    "3y+z=4 \\\\\n",
    "2x-y+z=2 \\\\\n",
    "\\end{cases}\n",
    "\\\\\n",
    "\\\\\n",
    "&\\begin{cases}\n",
    "2x+y-4z=-7 \\\\\n",
    "x-y+z=-2 \\\\\n",
    "-x+3y-2z=6 \\\\\n",
    "\\end{cases}\n",
    "\\end{aligned}\n",
    "$$"
   ]
  },
  {
   "cell_type": "code",
   "execution_count": 81,
   "metadata": {},
   "outputs": [
    {
     "name": "stdout",
     "output_type": "stream",
     "text": [
      "[1. 1. 2.]\n",
      "0 error:  0.0\n",
      "1 error:  0.0\n",
      "2 error:  0.0\n",
      "[1. 1. 1.]\n",
      "0 error:  0.0\n",
      "1 error:  0.0\n",
      "2 error:  0.0\n",
      "[-1.  3.  2.]\n",
      "0 error:  0.0\n",
      "1 error:  0.0\n",
      "2 error:  0.0\n"
     ]
    }
   ],
   "source": [
    "NaiveGaussinElimination(\n",
    "    np.array([[2,-2,-1], [4,1,-2], [-2,1,-1]]),\n",
    "    np.array([-2,1,-3]),\n",
    "    True\n",
    ")\n",
    "NaiveGaussinElimination(\n",
    "    np.array([[1,2,-1], [0,3,1], [2,-1,1]]),\n",
    "    np.array([2,4,2]),\n",
    "    True\n",
    ")\n",
    "NaiveGaussinElimination(\n",
    "    np.array([[2.,1,-4], [1,-1,1], [-1,3,-2]]),\n",
    "    np.array([-7.,-2,6]),\n",
    "    True\n",
    ")"
   ]
  },
  {
   "cell_type": "markdown",
   "metadata": {},
   "source": [
    "2. H为n*n的希尔伯特矩阵，其中 $a_{ij}=1/(i+j-1)$。求解 $Hx=b$，b为元素全为1的向量，其中\n",
    "$$\n",
    "\\begin{aligned}\n",
    "(a)&\\;n=2 \\\\\n",
    "(b)&\\;n=5 \\\\\n",
    "(c)&\\;n=10 \\\\\n",
    "\\end{aligned}\n",
    "$$"
   ]
  },
  {
   "cell_type": "code",
   "execution_count": 82,
   "metadata": {},
   "outputs": [
    {
     "name": "stdout",
     "output_type": "stream",
     "text": [
      "[[1.         0.5        0.33333333]\n",
      " [0.5        0.33333333 0.25      ]\n",
      " [0.33333333 0.25       0.2       ]]\n"
     ]
    }
   ],
   "source": [
    "def GenerateHilbertMatrix(n):\n",
    "    return np.array([\n",
    "        [\n",
    "            1/(col+row-1) for col in range(1, n+1)\n",
    "        ] for row in range(1, n+1)\n",
    "    ])\n",
    "\n",
    "h = GenerateHilbertMatrix(3)\n",
    "print(h)"
   ]
  },
  {
   "cell_type": "code",
   "execution_count": 83,
   "metadata": {},
   "outputs": [
    {
     "name": "stdout",
     "output_type": "stream",
     "text": [
      "[-2.  6.]\n",
      "0 error:  0.0\n",
      "1 error:  0.0\n",
      "[    5.  -120.   630. -1120.   630.]\n",
      "0 error:  0.0\n",
      "1 error:  2.842170943040401e-14\n",
      "2 error:  1.4210854715202004e-14\n",
      "3 error:  0.0\n",
      "4 error:  0.0\n",
      "[-9.99736482e+00  9.89771861e+02 -2.37551338e+04  2.40195714e+05\n",
      " -1.26104860e+06  3.78319850e+06 -6.72576549e+06  7.00035724e+06\n",
      " -3.93773542e+06  9.23673408e+05]\n",
      "0 error:  5.820766091346741e-11\n",
      "1 error:  7.275957614183426e-11\n",
      "2 error:  4.3655745685100555e-11\n",
      "3 error:  2.9103830456733704e-11\n",
      "4 error:  4.3655745685100555e-11\n",
      "5 error:  8.003553375601768e-11\n",
      "6 error:  4.3655745685100555e-11\n",
      "7 error:  2.1827872842550278e-11\n",
      "8 error:  7.275957614183426e-12\n",
      "9 error:  5.820766091346741e-11\n"
     ]
    }
   ],
   "source": [
    "NaiveGaussinElimination(GenerateHilbertMatrix(2), np.ones(2), True)\n",
    "NaiveGaussinElimination(GenerateHilbertMatrix(5), np.ones(5), True)\n",
    "NaiveGaussinElimination(GenerateHilbertMatrix(10), np.ones(10), True)"
   ]
  }
 ],
 "metadata": {
  "kernelspec": {
   "display_name": "Python 3",
   "language": "python",
   "name": "python3"
  },
  "language_info": {
   "codemirror_mode": {
    "name": "ipython",
    "version": 3
   },
   "file_extension": ".py",
   "mimetype": "text/x-python",
   "name": "python",
   "nbconvert_exporter": "python",
   "pygments_lexer": "ipython3",
   "version": "3.12.2"
  }
 },
 "nbformat": 4,
 "nbformat_minor": 2
}
