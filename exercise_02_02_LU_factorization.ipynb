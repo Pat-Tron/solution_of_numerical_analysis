{
 "cells": [
  {
   "cell_type": "code",
   "execution_count": 1,
   "metadata": {},
   "outputs": [],
   "source": [
    "import numpy as np"
   ]
  },
  {
   "cell_type": "markdown",
   "metadata": {},
   "source": [
    "1. 写出以矩阵A作为输入，输出L和U的代码。使用以下矩阵验证。\n",
    "$$\n",
    "(a)\n",
    "\\begin{bmatrix}\n",
    "3 & 1 & 2 \\\\\n",
    "6 & 3 & 4 \\\\\n",
    "3 & 1 & 5 \\\\\n",
    "\\end{bmatrix}\n",
    "\\qquad\n",
    "(b)\n",
    "\\begin{bmatrix}\n",
    "4 & 2 & 0 \\\\\n",
    "4 & 4 & 2 \\\\\n",
    "2 & 2 & 3 \\\\\n",
    "\\end{bmatrix}\n",
    "\\qquad\n",
    "(c)\n",
    "\\begin{bmatrix}\n",
    "1 & -1 & 1 & 2 \\\\\n",
    "0 & 2 & 1 & 0 \\\\\n",
    "1 & 3 & 4 & 4 \\\\\n",
    "0 & 2 & 1 & -1\n",
    "\\end{bmatrix}\n",
    "$$"
   ]
  },
  {
   "cell_type": "code",
   "execution_count": 27,
   "metadata": {},
   "outputs": [],
   "source": [
    "def LUFactorization(A_:np.ndarray, printOrNot=True, check=True):\n",
    "    order = A_.shape[0]\n",
    "\n",
    "    # Upper triangular matrix\n",
    "    U = A_.copy()\n",
    "    # Lower triangular matrix\n",
    "    L = np.eye(order)\n",
    "\n",
    "    # Elimination\n",
    "    for col in range(order):\n",
    "        if np.abs(A_[col][col]) < 0.00000001:\n",
    "            print(\"Zero pivot encounterd. i=j=:\", col)\n",
    "            return None\n",
    "        for row in range(col+1, order):\n",
    "            mult = U[row][col]/U[col][col]\n",
    "            L[row][col] = mult\n",
    "            for k in range(col, order):\n",
    "                U[row][k] -= mult*U[col][k]\n",
    "    \n",
    "    if printOrNot:\n",
    "        print('L:\\n', L)\n",
    "        print('U:\\n', U)\n",
    "\n",
    "    if check:\n",
    "        print('error:\\n', np.abs(A_-L@U))\n",
    "\n",
    "    return (L, U)"
   ]
  },
  {
   "cell_type": "code",
   "execution_count": 28,
   "metadata": {},
   "outputs": [
    {
     "name": "stdout",
     "output_type": "stream",
     "text": [
      "L:\n",
      " [[1. 0. 0.]\n",
      " [2. 1. 0.]\n",
      " [1. 0. 1.]]\n",
      "U:\n",
      " [[3. 1. 2.]\n",
      " [0. 1. 0.]\n",
      " [0. 0. 3.]]\n",
      "error:\n",
      " [[0. 0. 0.]\n",
      " [0. 0. 0.]\n",
      " [0. 0. 0.]]\n",
      "L:\n",
      " [[1.  0.  0. ]\n",
      " [1.  1.  0. ]\n",
      " [0.5 0.5 1. ]]\n",
      "U:\n",
      " [[4. 2. 0.]\n",
      " [0. 2. 2.]\n",
      " [0. 0. 2.]]\n",
      "error:\n",
      " [[0. 0. 0.]\n",
      " [0. 0. 0.]\n",
      " [0. 0. 0.]]\n",
      "L:\n",
      " [[1. 0. 0. 0.]\n",
      " [0. 1. 0. 0.]\n",
      " [1. 2. 1. 0.]\n",
      " [0. 1. 0. 1.]]\n",
      "U:\n",
      " [[ 1. -1.  1.  2.]\n",
      " [ 0.  2.  1.  0.]\n",
      " [ 0.  0.  1.  2.]\n",
      " [ 0.  0.  0. -1.]]\n",
      "error:\n",
      " [[0. 0. 0. 0.]\n",
      " [0. 0. 0. 0.]\n",
      " [0. 0. 0. 0.]\n",
      " [0. 0. 0. 0.]]\n"
     ]
    }
   ],
   "source": [
    "_, _ = LUFactorization(np.array([[3.,1,2],[6,3,4],[3,1,5]]))\n",
    "_, _ = LUFactorization(np.array([[4.,2,0],[4,4,2],[2,2,3]]))\n",
    "_, _ = LUFactorization(np.array([[1.,-1,1,2],[0,2,1,0],[1,3,4,4],[0,2,1,-1]]))"
   ]
  },
  {
   "cell_type": "markdown",
   "metadata": {},
   "source": [
    "2. 使用LU分解和两部回代解下列方程组：\n",
    "$$\n",
    "(a)\n",
    "\\begin{bmatrix}\n",
    "3 & 1 & 2 \\\\\n",
    "6 & 3 & 4 \\\\\n",
    "3 & 1 & 5 \\\\\n",
    "\\end{bmatrix}\n",
    "\\begin{bmatrix}\n",
    "x_1 \\\\\n",
    "x_2 \\\\\n",
    "x_3 \\\\\n",
    "\\end{bmatrix}\n",
    "=\n",
    "\\begin{bmatrix}\n",
    "0 \\\\\n",
    "1 \\\\\n",
    "3 \\\\\n",
    "\\end{bmatrix}\n",
    "\\,\\\\\n",
    "\\,\\\\\n",
    "(b)\n",
    "\\begin{bmatrix}\n",
    "4 & 2 & 0 \\\\\n",
    "4 & 4 & 2 \\\\\n",
    "2 & 2 & 3 \\\\\n",
    "\\end{bmatrix}\n",
    "\\begin{bmatrix}\n",
    "x_1 \\\\\n",
    "x_2 \\\\\n",
    "x_3 \\\\\n",
    "\\end{bmatrix}\n",
    "=\n",
    "\\begin{bmatrix}\n",
    "2 \\\\\n",
    "4 \\\\\n",
    "6 \\\\\n",
    "\\end{bmatrix}\n",
    "$$"
   ]
  },
  {
   "cell_type": "code",
   "execution_count": 39,
   "metadata": {},
   "outputs": [],
   "source": [
    "def TwoStepBackSubstitution(A:np.ndarray, b_:np.ndarray, check=True):\n",
    "    L, U = LUFactorization(A, False, False)\n",
    "    b = b_.copy()\n",
    "    order = A.shape[0]\n",
    "\n",
    "    # Ax=b becomes LUx=b\n",
    "    # Let c=Ux,\n",
    "    # then evaluate c through Lc=b\n",
    "    # Finally evaluate x through Ux=c\n",
    "\n",
    "    # Solve Lc=b\n",
    "    c = np.zeros(order)\n",
    "    for row in range(order):\n",
    "        for col in range(row):\n",
    "            b[row] -= L[row][col]*c[col]\n",
    "        c[row] = b[row]\n",
    "\n",
    "    # Solve Ux=c\n",
    "    x = np.zeros(order)\n",
    "    for row in range(order)[::-1]:\n",
    "        for col in range(row+1, order):\n",
    "            c[row] -= U[row][col]*x[col]\n",
    "        x[row] = c[row]/U[row][row]\n",
    "    print('x:\\n', x)\n",
    "\n",
    "    if check:\n",
    "        print('error: ', np.abs(b_-A@x))\n",
    "    print()"
   ]
  },
  {
   "cell_type": "code",
   "execution_count": 41,
   "metadata": {},
   "outputs": [
    {
     "name": "stdout",
     "output_type": "stream",
     "text": [
      "x:\n",
      " [-1.  1.  1.]\n",
      "error:  [0. 0. 0.]\n",
      "\n",
      "x:\n",
      " [ 1. -1.  2.]\n",
      "error:  [0. 0. 0.]\n",
      "\n"
     ]
    }
   ],
   "source": [
    "TwoStepBackSubstitution(np.array([[3,1,2],[6,3,4],[3,1,5]]), np.array([0,1,3]))\n",
    "TwoStepBackSubstitution(np.array([[4,2,0],[4,4,2],[2,2,3]]), np.array([2,4,6]))"
   ]
  }
 ],
 "metadata": {
  "kernelspec": {
   "display_name": "Python 3",
   "language": "python",
   "name": "python3"
  },
  "language_info": {
   "codemirror_mode": {
    "name": "ipython",
    "version": 3
   },
   "file_extension": ".py",
   "mimetype": "text/x-python",
   "name": "python",
   "nbconvert_exporter": "python",
   "pygments_lexer": "ipython3",
   "version": "3.12.2"
  }
 },
 "nbformat": 4,
 "nbformat_minor": 2
}
