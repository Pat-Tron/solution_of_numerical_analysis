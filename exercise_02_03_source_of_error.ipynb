{
 "cells": [
  {
   "cell_type": "code",
   "execution_count": 2,
   "metadata": {},
   "outputs": [],
   "source": [
    "import numpy as np"
   ]
  },
  {
   "cell_type": "code",
   "execution_count": 106,
   "metadata": {},
   "outputs": [],
   "source": [
    "def NaiveGaussinElimination(M_:np.ndarray, b_:np.ndarray, printX=False):\n",
    "    M = M_.copy()\n",
    "    b = b_.copy()\n",
    "    if M.shape[0] != M.shape[1]:\n",
    "        print(\"M is not a square matrix.\")\n",
    "        return None\n",
    "\n",
    "    order = M.shape[0]\n",
    "\n",
    "    # Elimination\n",
    "    for col in range(order):\n",
    "        for row in range(col+1, order):\n",
    "            mult = M[row][col]/M[col][col]\n",
    "            for k in range(col, order):\n",
    "                M[row][k] -= mult*M[col][k]\n",
    "            b[row] -= mult*b[col]\n",
    "\n",
    "    # Back substitution\n",
    "    res = np.zeros(order)\n",
    "    for row in range(order)[::-1]:\n",
    "        for col in range(row+1, order):\n",
    "            b[row] -= M[row][col]*res[col]\n",
    "        res[row] = b[row]/M[row][row]\n",
    "\n",
    "    if printX:\n",
    "        print('x:\\n', res)\n",
    "    return res"
   ]
  },
  {
   "cell_type": "markdown",
   "metadata": {},
   "source": [
    "1. 对于元素为 $A_{ij}=5/(i+2j-1)$ 的 $n\\times n$ 矩阵，令 $x=[1,\\,\\dots\\,,1]^T, \\;b=Ax$. 使用2.1.1的程序（高斯消元法）计算双精度解 $x_c$. 找出 $Ax=b$ 的前向误差和误差放大因子的无穷范数，并于A的条件数进行比较: $(a)\\;n=6,\\quad(b)\\;n=10$ ."
   ]
  },
  {
   "cell_type": "code",
   "execution_count": 58,
   "metadata": {},
   "outputs": [],
   "source": [
    "from numpy.linalg import norm as npnorm\n",
    "\n",
    "def Solve(matrixGen, n, printX=True):\n",
    "    print(f'\\nn={n}')\n",
    "    A = matrixGen(n)\n",
    "    b = A@np.ones(n)\n",
    "    x = NaiveGaussinElimination(A, b, printX)\n",
    "    BE_norm = npnorm(A@x-b, np.inf)\n",
    "    FE_norm = npnorm(x-np.ones(n), np.inf)\n",
    "    print(f'BE_norm: {BE_norm:.5e}')\n",
    "    print(f'FE_norm: {FE_norm:.5e}')\n",
    "    print(f'Error magnification factor: {FE_norm/1/(BE_norm/np.max(np.abs(b))):.5e}')\n",
    "    print(f'Condition number: {npnorm(A, np.inf)*npnorm(np.linalg.inv(A), np.inf):.5e}')"
   ]
  },
  {
   "cell_type": "code",
   "execution_count": 68,
   "metadata": {},
   "outputs": [
    {
     "name": "stdout",
     "output_type": "stream",
     "text": [
      "\n",
      "n=6\n",
      "x:\n",
      " [1. 1. 1. 1. 1. 1.]\n",
      "BE_norm: 8.88178e-16\n",
      "FE_norm: 6.25191e-10\n",
      "Error magnification factor: 4.31140e+06\n",
      "Condition number: 7.03420e+07\n"
     ]
    }
   ],
   "source": [
    "makeA = lambda n: np.array([[5./(row+2*col-1) for col in range(1, n+1)] for row in range(1, n+1)])\n",
    "Solve(makeA, 6)"
   ]
  },
  {
   "cell_type": "code",
   "execution_count": 48,
   "metadata": {},
   "outputs": [
    {
     "name": "stdout",
     "output_type": "stream",
     "text": [
      "\n",
      "n=10\n",
      "x:\n",
      " [1.         1.00000003 0.99999896 1.00001421 0.99990825 1.00031949\n",
      " 0.99936593 1.00071684 0.99957066 1.00010564]\n",
      "BE_norm: 8.88178e-16\n",
      "FE_norm: 7.16845e-04\n",
      "Error magnification factor: 5.90989e+12\n",
      "Condition number: 1.31370e+14\n"
     ]
    }
   ],
   "source": [
    "Solve(makeA, 10)"
   ]
  },
  {
   "cell_type": "markdown",
   "metadata": {},
   "source": [
    "2. 对于 $A_{ij}=1/(|i-j|+1)$ 的矩阵解答1中的问题。"
   ]
  },
  {
   "cell_type": "code",
   "execution_count": 29,
   "metadata": {},
   "outputs": [],
   "source": [
    "def MakeA2(n):\n",
    "    return np.array([\n",
    "        [\n",
    "            1./(np.abs(row-col)+1) for col in range(1, n+1)\n",
    "        ] for row in range(1, n+1)\n",
    "    ], dtype=np.float64)"
   ]
  },
  {
   "cell_type": "code",
   "execution_count": 49,
   "metadata": {},
   "outputs": [
    {
     "name": "stdout",
     "output_type": "stream",
     "text": [
      "\n",
      "n=6\n",
      "x:\n",
      " [1. 1. 1. 1. 1. 1.]\n",
      "BE_norm: 4.44089e-16\n",
      "FE_norm: 3.33067e-16\n",
      "Error magnification factor: 2.18750e+00\n",
      "Condition number: 8.61168e+00\n"
     ]
    }
   ],
   "source": [
    "Solve(MakeA2, 6)"
   ]
  },
  {
   "cell_type": "code",
   "execution_count": 50,
   "metadata": {},
   "outputs": [
    {
     "name": "stdout",
     "output_type": "stream",
     "text": [
      "\n",
      "n=10\n",
      "x:\n",
      " [1. 1. 1. 1. 1. 1. 1. 1. 1. 1.]\n",
      "BE_norm: 8.88178e-16\n",
      "FE_norm: 1.11022e-15\n",
      "Error magnification factor: 4.66667e+00\n",
      "Condition number: 1.12612e+01\n"
     ]
    }
   ],
   "source": [
    "Solve(MakeA2, 10)"
   ]
  },
  {
   "cell_type": "markdown",
   "metadata": {},
   "source": [
    "3. 对于元素为 $A_{ij}=|i-j|+1$ 的 $n\\times n$ 矩阵，解答1中的问题，其中 $n=100,\\;200,\\;300,\\;400,\\;500$. 并找出问题 $Ax=b$ 的5个误差放大因子，并和对应的条件数进行比较。\n"
   ]
  },
  {
   "cell_type": "code",
   "execution_count": 52,
   "metadata": {},
   "outputs": [],
   "source": [
    "makeA3 = lambda n: np.array([[np.abs(row-col)+1. for row in range(1, n+1)] for col in range(1, n+1)])"
   ]
  },
  {
   "cell_type": "code",
   "execution_count": 65,
   "metadata": {},
   "outputs": [],
   "source": [
    "def FindOtherEMF(matrixGen, n):\n",
    "    A = matrixGen(n)\n",
    "    for i in range(2, 6):\n",
    "        xa = np.ones(n)*i\n",
    "        b = A@xa\n",
    "        x = NaiveGaussinElimination(A, b, False)\n",
    "        BE_norm = npnorm(A@x-b, np.inf)\n",
    "        FE_norm = npnorm(x-xa, np.inf)\n",
    "        print(f'EMF with b={i}: {FE_norm/i/(BE_norm/np.max(np.abs(b))):.5e}')"
   ]
  },
  {
   "cell_type": "code",
   "execution_count": 66,
   "metadata": {},
   "outputs": [
    {
     "name": "stdout",
     "output_type": "stream",
     "text": [
      "\n",
      "n=100\n",
      "BE_norm: 2.13731e-10\n",
      "FE_norm: 5.29112e-11\n",
      "Error magnification factor: 1.25018e+03\n",
      "Condition number: 1.01000e+04\n",
      "EMF with b=2: 1.25018e+03\n",
      "EMF with b=3: 1.44542e+03\n",
      "EMF with b=4: 1.25018e+03\n",
      "EMF with b=5: 6.99530e+02\n",
      "\n",
      "n=200\n",
      "BE_norm: 1.84809e-09\n",
      "FE_norm: 5.78179e-10\n",
      "Error magnification factor: 6.28832e+03\n",
      "Condition number: 4.02000e+04\n",
      "EMF with b=2: 6.28832e+03\n",
      "EMF with b=3: 4.26227e+03\n",
      "EMF with b=4: 6.28832e+03\n",
      "EMF with b=5: 1.92966e+03\n",
      "\n",
      "n=300\n",
      "BE_norm: 1.57743e-08\n",
      "FE_norm: 3.03026e-09\n",
      "Error magnification factor: 8.67338e+03\n",
      "Condition number: 9.03000e+04\n",
      "EMF with b=2: 8.67338e+03\n",
      "EMF with b=3: 4.51704e+03\n",
      "EMF with b=4: 8.67338e+03\n",
      "EMF with b=5: 1.82113e+04\n",
      "\n",
      "n=400\n",
      "BE_norm: 5.13101e-08\n",
      "FE_norm: 4.48038e-09\n",
      "Error magnification factor: 7.00304e+03\n",
      "Condition number: 1.60400e+05\n",
      "EMF with b=2: 7.00304e+03\n",
      "EMF with b=3: 2.11649e+04\n",
      "EMF with b=4: 7.00304e+03\n",
      "EMF with b=5: 1.48419e+04\n",
      "\n",
      "n=500\n",
      "BE_norm: 2.51166e-08\n",
      "FE_norm: 9.63300e-09\n",
      "Error magnification factor: 4.80373e+04\n",
      "Condition number: 2.50500e+05\n",
      "EMF with b=2: 4.80373e+04\n",
      "EMF with b=3: 9.88276e+03\n",
      "EMF with b=4: 4.80373e+04\n",
      "EMF with b=5: 1.16734e+05\n"
     ]
    }
   ],
   "source": [
    "for i in range(1, 6):\n",
    "    Solve(makeA3, i*100, False)\n",
    "    FindOtherEMF(makeA3, i*100)"
   ]
  },
  {
   "cell_type": "markdown",
   "metadata": {},
   "source": [
    "4. 对于 $A_{ij}=\\sqrt{(i-j)^2+n/10}$ 的矩阵解答3中的问题。"
   ]
  },
  {
   "cell_type": "code",
   "execution_count": 67,
   "metadata": {},
   "outputs": [
    {
     "name": "stdout",
     "output_type": "stream",
     "text": [
      "\n",
      "n=100\n",
      "BE_norm: 4.18368e-11\n",
      "FE_norm: 8.90967e-08\n",
      "Error magnification factor: 1.05946e+07\n",
      "Condition number: 6.18431e+07\n",
      "EMF with b=2: 1.05946e+07\n",
      "EMF with b=3: 4.39441e+06\n",
      "EMF with b=4: 1.05946e+07\n",
      "EMF with b=5: 1.31844e+07\n",
      "\n",
      "n=200\n",
      "BE_norm: 5.85715e-10\n",
      "FE_norm: 2.57075e-05\n",
      "Error magnification factor: 8.75721e+08\n",
      "Condition number: 1.29066e+10\n",
      "EMF with b=2: 8.75721e+08\n",
      "EMF with b=3: 1.67482e+09\n",
      "EMF with b=4: 8.75721e+08\n",
      "EMF with b=5: 9.69452e+08\n",
      "\n",
      "n=300\n",
      "BE_norm: 2.69210e-09\n",
      "FE_norm: 2.11380e-03\n",
      "Error magnification factor: 3.52789e+10\n",
      "Condition number: 6.20392e+11\n",
      "EMF with b=2: 3.52789e+10\n",
      "EMF with b=3: 7.49658e+10\n",
      "EMF with b=4: 3.52789e+10\n",
      "EMF with b=5: 3.82415e+10\n",
      "\n",
      "n=400\n",
      "BE_norm: 4.49654e-09\n",
      "FE_norm: 4.05175e-02\n",
      "Error magnification factor: 7.20055e+11\n",
      "Condition number: 1.47532e+13\n",
      "EMF with b=2: 7.20055e+11\n",
      "EMF with b=3: 5.91812e+11\n",
      "EMF with b=4: 7.20055e+11\n",
      "EMF with b=5: 9.44430e+11\n",
      "\n",
      "n=500\n",
      "BE_norm: 6.82485e-09\n",
      "FE_norm: 7.03160e-01\n",
      "Error magnification factor: 1.28673e+13\n",
      "Condition number: 2.28730e+14\n",
      "EMF with b=2: 1.28673e+13\n",
      "EMF with b=3: 8.10681e+12\n",
      "EMF with b=4: 1.28673e+13\n",
      "EMF with b=5: 1.45723e+13\n"
     ]
    }
   ],
   "source": [
    "makeA4 = lambda n: np.array([[np.sqrt((row-col)**2+n/10.) for row in range(1, n+1)] for col in range(1, n+1)])\n",
    "for i in range(1, 6):\n",
    "    Solve(makeA4, i*100, False)\n",
    "    FindOtherEMF(makeA4, i*100)"
   ]
  },
  {
   "cell_type": "markdown",
   "metadata": {},
   "source": [
    "5. n取多少时，问题1中的解没有正确的有效数字？"
   ]
  },
  {
   "cell_type": "code",
   "execution_count": 80,
   "metadata": {},
   "outputs": [
    {
     "name": "stdout",
     "output_type": "stream",
     "text": [
      "\n",
      "n=12\n",
      "x:\n",
      " [ 0.99999999  1.00000205  0.999885    1.00238414  0.97585767  1.13728166\n",
      "  0.52745193  2.02086771 -0.39107924  2.15976778  0.46015844  1.10742348]\n",
      "BE_norm: 1.77636e-15\n",
      "FE_norm: 1.39108e+00\n",
      "Error magnification factor: 6.07537e+15\n",
      "Condition number: 1.91350e+17\n"
     ]
    }
   ],
   "source": [
    "# 姑且认为前向误差的无穷范数大于1及没有有效数字了\n",
    "Solve(makeA, 12)\n",
    "# TODO: 答案是13，为什么？"
   ]
  },
  {
   "cell_type": "markdown",
   "metadata": {},
   "source": [
    "6. 使用2.1.1的程序（高斯消元法）解答例2.13（见下）中的第2和第3中方法的双精度实现，并和课本中的理论解进行比较。\n",
    "$$\n",
    "\\begin{aligned}\n",
    "10^{-20}x_1+x_2&=1\\\\\n",
    "x_1+2x_2&=4\n",
    "\\end{aligned}\n",
    "$$"
   ]
  },
  {
   "cell_type": "code",
   "execution_count": 107,
   "metadata": {},
   "outputs": [
    {
     "name": "stdout",
     "output_type": "stream",
     "text": [
      "x:\n",
      " [2.00000005 1.        ]\n",
      "Condition number: 9.00000e+00\n",
      "x:\n",
      " [2. 1.]\n",
      "Condition number: 9.00000e+00\n"
     ]
    }
   ],
   "source": [
    "# 1e-20受精度限制，暂时用1e-9代替一下\n",
    "A = np.array([[1e-9, 1], [1, 2]])\n",
    "b = np.array([1., 4])\n",
    "x = NaiveGaussinElimination(A, b, True)\n",
    "print(f'Condition number: {npnorm(A, np.inf)*npnorm(np.linalg.inv(A), np.inf):.5e}')\n",
    "\n",
    "A = np.array([[1., 2], [1e-9, 1]])\n",
    "b = np.array([4., 1])\n",
    "x = NaiveGaussinElimination(A, b, True)\n",
    "print(f'Condition number: {npnorm(A, np.inf)*npnorm(np.linalg.inv(A), np.inf):.5e}')"
   ]
  }
 ],
 "metadata": {
  "kernelspec": {
   "display_name": "Python 3",
   "language": "python",
   "name": "python3"
  },
  "language_info": {
   "codemirror_mode": {
    "name": "ipython",
    "version": 3
   },
   "file_extension": ".py",
   "mimetype": "text/x-python",
   "name": "python",
   "nbconvert_exporter": "python",
   "pygments_lexer": "ipython3",
   "version": "3.12.2"
  }
 },
 "nbformat": 4,
 "nbformat_minor": 2
}
