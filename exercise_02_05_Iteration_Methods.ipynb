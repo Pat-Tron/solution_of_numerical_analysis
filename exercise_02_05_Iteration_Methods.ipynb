{
 "cells": [
  {
   "cell_type": "code",
   "execution_count": 8,
   "metadata": {},
   "outputs": [],
   "source": [
    "import numpy as np\n",
    "from scipy import sparse\n",
    "np.set_printoptions(linewidth=150)"
   ]
  },
  {
   "cell_type": "markdown",
   "metadata": {},
   "source": [
    "1. 使用雅可比方法求解稀疏系统，精确到小数点后6位(用无穷范数表示的前向误差)，其中$n=100$和$n=100 000$. 正确解是 $[1,\\dots,1]$. 报告所需要的步数和后向误差，系统如下:\n",
    "$$\n",
    "\\begin{bmatrix}\n",
    " 3 & -1 \\\\\n",
    "-1 &  3 & -1 \\\\\n",
    "&\\ddots &\\ddots &\\ddots \\\\\n",
    "&&-1&3&-1 \\\\\n",
    "&&&-1&3 \\\\\n",
    "\\end{bmatrix}\n",
    "\\begin{bmatrix}\n",
    "x_1\\\\\n",
    "\\\\\n",
    "\\vdots\\\\\n",
    "\\\\\n",
    "x_n\n",
    "\\end{bmatrix}\n",
    "=\n",
    "\\begin{bmatrix}\n",
    "2\\\\\n",
    "1\\\\\n",
    "\\vdots\\\\\n",
    "1\\\\\n",
    "2\n",
    "\\end{bmatrix}\n",
    "$$"
   ]
  },
  {
   "cell_type": "code",
   "execution_count": 36,
   "metadata": {},
   "outputs": [
    {
     "name": "stderr",
     "output_type": "stream",
     "text": [
      "C:\\Users\\玛卡巴卡\\AppData\\Roaming\\Python\\Python312\\site-packages\\scipy\\sparse\\_index.py:145: SparseEfficiencyWarning: Changing the sparsity structure of a csc_matrix is expensive. lil_matrix is more efficient.\n",
      "  self._set_arrayXarray(i, j, x)\n"
     ]
    },
    {
     "name": "stdout",
     "output_type": "stream",
     "text": [
      "Jacobi iteration amount:  35\n",
      "    n:  100\n",
      "   BE:  6.867832086365766e-07\n",
      "\n",
      "Jacobi iteration amount:  35\n",
      "    n:  10000\n",
      "   BE:  6.867832086365766e-07\n",
      "\n",
      "Jacobi iteration amount:  35\n",
      "    n:  100000\n",
      "   BE:  6.867832086365766e-07\n",
      "\n"
     ]
    }
   ],
   "source": [
    "def Jacobi(n, b, toleranceBit, D, DInverse, U, L, answer):\n",
    "    \"\"\"\n",
    "    param: n: Dimension.\n",
    "    param: D: matrix of principle diagonal.\n",
    "    param: DInverse: Inverse matrix of D.\n",
    "    param: U: Matrix with elements above principle diagonal.\n",
    "    param: L: Matrix with elements below principle diagonal.\n",
    "    param: b: Constant array.\n",
    "    \"\"\"\n",
    "    x = np.zeros(n)\n",
    "    tolerance = 10**(-toleranceBit)\n",
    "    count = 0\n",
    "\n",
    "    while(np.linalg.norm(x-answer, np.inf)>tolerance and count < 1000):\n",
    "        count += 1\n",
    "        x = DInverse@(b-(L+U)@x)\n",
    "\n",
    "    \n",
    "    print(\"Jacobi iteration amount: \", count)\n",
    "    print(\"    n: \", n)\n",
    "    A = D+U+L\n",
    "    print(\"   BE: \", np.linalg.norm(A@x-b, np.inf))\n",
    "    print()\n",
    "    return x\n",
    "\n",
    "def Solver(n):\n",
    "    b = np.ones(n)\n",
    "    b[0] = 2.\n",
    "    b[-1] = 2.\n",
    "\n",
    "    D = sparse.csc_matrix((n, n))\n",
    "    DInverse = D.copy()\n",
    "    U = D.copy()\n",
    "    L = D.copy()\n",
    "\n",
    "    D.setdiag(3)\n",
    "    DInverse.setdiag(1/3)\n",
    "    U.setdiag(-1, k=1)\n",
    "    L.setdiag(-1, k=-1)\n",
    "\n",
    "    x = Jacobi(n, b, 6, D, DInverse, U, L, answer=np.ones(n))\n",
    "\n",
    "Solver(100)\n",
    "Solver(10000)\n",
    "Solver(100000)\n"
   ]
  },
  {
   "cell_type": "markdown",
   "metadata": {},
   "source": [
    "\n",
    "2. 使用雅可比方法求解稀疏系统，精确到小数点后3位(用无穷范数表示的前向误差)，其中=100. 正确解是 $[1,-1,1,-1,\\dots,1,-1]$.报告所需要的步数和后向误差，系统如下:\n",
    "$$\n",
    "\\begin{bmatrix}\n",
    " 2 & 1 \\\\\n",
    "1 &  2 & 1 \\\\\n",
    "&\\ddots &\\ddots &\\ddots \\\\\n",
    "&&1&2&1 \\\\\n",
    "&&&1&2 \\\\\n",
    "\\end{bmatrix}\n",
    "\\begin{bmatrix}\n",
    "x_1\\\\\n",
    "\\\\\n",
    "\\vdots\\\\\n",
    "\\\\\n",
    "x_n\n",
    "\\end{bmatrix}\n",
    "=\n",
    "\\begin{bmatrix}\n",
    "1\\\\\n",
    "0\\\\\n",
    "\\vdots\\\\\n",
    "0\\\\\n",
    "-1\n",
    "\\end{bmatrix}\n",
    "$$"
   ]
  },
  {
   "cell_type": "markdown",
   "metadata": {},
   "source": [
    "3. 重写程序2.2进行高斯-塞德尔迭代，求解例2.24（如下）中的问题验证你的工作.\n",
    "$$\n",
    "\\begin{bmatrix}\n",
    " 3&-1& 0& 0& 0&\\frac12\\\\\n",
    "-1&-3&-1& 0&\\frac12& 0\\\\\n",
    " 0&-1& 3&-1& 0& 0\\\\\n",
    " 0& 0&-1& 3&-1& 0\\\\\n",
    " 0&\\frac12& 0&-1& 3&-1\\\\\n",
    "\\frac12& 0& 0& 0&-1& 3\\\\\n",
    "\\end{bmatrix}\n",
    "\\begin{bmatrix}\n",
    "u_1\\\\\n",
    "u_2\\\\\n",
    "u_3\\\\\n",
    "u_4\\\\\n",
    "u_5\\\\\n",
    "u_6\\\\\n",
    "\\end{bmatrix}\n",
    "=\n",
    "\\begin{bmatrix}\n",
    "\\frac52\\\\\n",
    "\\frac32\\\\\n",
    "1\\\\\n",
    "1\\\\\n",
    "\\frac32\\\\\n",
    "\\frac52\\\\\n",
    "\\end{bmatrix}\n",
    "\\\\\n",
    "解 x=[1,1,1,1,1,1]\n",
    "$$"
   ]
  },
  {
   "cell_type": "markdown",
   "metadata": {},
   "source": [
    "4. 重写程序2.2进行SOR.使用 $\\omega=1.1$，再次验证例 2.24.\n"
   ]
  },
  {
   "cell_type": "markdown",
   "metadata": {},
   "source": [
    "5. 执行编程问题1中的步骤，n=100.\n",
    "    1. 高斯-塞德尔方法\n",
    "    2. SOR，$\\omega=1.2$."
   ]
  },
  {
   "cell_type": "markdown",
   "metadata": {},
   "source": [
    "6. 执行编程问题2中的步骤，\n",
    "    1. 高斯-塞德尔方法\n",
    "    2. SOR，$\\omega=1.5$."
   ]
  },
  {
   "cell_type": "markdown",
   "metadata": {},
   "source": [
    "7. 使用编程问题3的程序，确定形如(2.38)的系统，使用高斯-塞德尔方法在1秒内所能够精确求解的系统最大规模，报告对于不同的n所需的时间，以及前向误差."
   ]
  }
 ],
 "metadata": {
  "kernelspec": {
   "display_name": "Python 3",
   "language": "python",
   "name": "python3"
  },
  "language_info": {
   "codemirror_mode": {
    "name": "ipython",
    "version": 3
   },
   "file_extension": ".py",
   "mimetype": "text/x-python",
   "name": "python",
   "nbconvert_exporter": "python",
   "pygments_lexer": "ipython3",
   "version": "3.12.1"
  }
 },
 "nbformat": 4,
 "nbformat_minor": 2
}
