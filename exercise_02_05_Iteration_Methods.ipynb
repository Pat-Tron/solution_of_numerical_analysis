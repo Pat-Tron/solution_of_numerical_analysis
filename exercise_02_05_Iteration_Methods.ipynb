{
 "cells": [
  {
   "cell_type": "code",
   "execution_count": 34,
   "metadata": {},
   "outputs": [],
   "source": [
    "import numpy as np\n",
    "from scipy import sparse\n",
    "import warnings\n",
    "\n",
    "warnings.filterwarnings(\"ignore\", category=sparse.SparseEfficiencyWarning)\n",
    "np.set_printoptions(linewidth=150)"
   ]
  },
  {
   "cell_type": "markdown",
   "metadata": {},
   "source": [
    "1. 使用雅可比方法求解稀疏系统，精确到小数点后6位(用无穷范数表示的前向误差)，其中$n=100$和$n=100 000$. 正确解是 $[1,\\dots,1]$. 报告所需要的步数和后向误差，系统如下:\n",
    "$$\n",
    "\\begin{bmatrix}\n",
    " 3 & -1 \\\\\n",
    "-1 &  3 & -1 \\\\\n",
    "&\\ddots &\\ddots &\\ddots \\\\\n",
    "&&-1&3&-1 \\\\\n",
    "&&&-1&3 \\\\\n",
    "\\end{bmatrix}\n",
    "\\begin{bmatrix}\n",
    "x_1\\\\\n",
    "\\\\\n",
    "\\vdots\\\\\n",
    "\\\\\n",
    "x_n\n",
    "\\end{bmatrix}\n",
    "=\n",
    "\\begin{bmatrix}\n",
    "2\\\\\n",
    "1\\\\\n",
    "\\vdots\\\\\n",
    "1\\\\\n",
    "2\n",
    "\\end{bmatrix}\n",
    "$$"
   ]
  },
  {
   "cell_type": "code",
   "execution_count": 6,
   "metadata": {},
   "outputs": [
    {
     "name": "stdout",
     "output_type": "stream",
     "text": [
      "Jacobi iteration amount:  35\n",
      "    n:  100\n",
      "   BE:  6.867832086365766e-07\n",
      "   FE:  6.867614883443451e-07\n",
      "\n",
      "Jacobi iteration amount:  35\n",
      "    n:  10000\n",
      "   BE:  6.867832086365766e-07\n",
      "   FE:  6.867614883443451e-07\n",
      "\n",
      "Jacobi iteration amount:  35\n",
      "    n:  100000\n",
      "   BE:  6.867832086365766e-07\n",
      "   FE:  6.867614883443451e-07\n",
      "\n"
     ]
    }
   ],
   "source": [
    "def Jacobi(n, b, toleranceBit, D, DInverse, U, L, answer, maxIter=1000):\n",
    "    \"\"\"\n",
    "    param: n: Dimension.\n",
    "    param: D: matrix of principle diagonal.\n",
    "    param: DInverse: Inverse matrix of D.\n",
    "    param: U: Matrix with elements above principle diagonal.\n",
    "    param: L: Matrix with elements below principle diagonal.\n",
    "    param: b: Constant array.\n",
    "    \"\"\"\n",
    "    x = np.zeros(n)\n",
    "    tolerance = 10**(-toleranceBit)\n",
    "    count = 0\n",
    "    FE = float('inf')\n",
    "\n",
    "    while(FE > tolerance and count < maxIter):\n",
    "        count += 1\n",
    "        x = DInverse@(b-(L+U)@x)\n",
    "        FE = np.linalg.norm(x-answer, np.inf)\n",
    "\n",
    "    \n",
    "    print(\"Jacobi iteration amount: \", count)\n",
    "    print(\"    n: \", n)\n",
    "    A = D+U+L\n",
    "    print(\"   BE: \", np.linalg.norm(A@x-b, np.inf))\n",
    "    print(\"   FE: \", FE)\n",
    "    print()\n",
    "    return x\n",
    "\n",
    "def Solver(n):\n",
    "    b = np.ones(n)\n",
    "    b[0] = 2.\n",
    "    b[-1] = 2.\n",
    "\n",
    "    D = sparse.lil_matrix((n, n))\n",
    "    DInverse = D.copy()\n",
    "    U = D.copy()\n",
    "    L = D.copy()\n",
    "\n",
    "    D.setdiag(3)\n",
    "    DInverse.setdiag(1/3)\n",
    "    U.setdiag(-1, k=1)\n",
    "    L.setdiag(-1, k=-1)\n",
    "\n",
    "    x = Jacobi(n, b, 6, D, DInverse, U, L, answer=np.ones(n))\n",
    "\n",
    "Solver(100)\n",
    "Solver(10000)\n",
    "Solver(100000)\n"
   ]
  },
  {
   "cell_type": "markdown",
   "metadata": {},
   "source": [
    "\n",
    "2. 使用雅可比方法求解稀疏系统，精确到小数点后3位(用无穷范数表示的前向误差)，其中n=100. 正确解是 $[1,-1,1,-1,\\dots,1,-1]$.报告所需要的步数和后向误差，系统如下:\n",
    "$$\n",
    "\\begin{bmatrix}\n",
    " 2 & 1 \\\\\n",
    "1 &  2 & 1 \\\\\n",
    "&\\ddots &\\ddots &\\ddots \\\\\n",
    "&&1&2&1 \\\\\n",
    "&&&1&2 \\\\\n",
    "\\end{bmatrix}\n",
    "\\begin{bmatrix}\n",
    "x_1\\\\\n",
    "\\\\\n",
    "\\vdots\\\\\n",
    "\\\\\n",
    "x_n\n",
    "\\end{bmatrix}\n",
    "=\n",
    "\\begin{bmatrix}\n",
    "1\\\\\n",
    "0\\\\\n",
    "\\vdots\\\\\n",
    "0\\\\\n",
    "-1\n",
    "\\end{bmatrix}\n",
    "$$"
   ]
  },
  {
   "cell_type": "code",
   "execution_count": 11,
   "metadata": {},
   "outputs": [
    {
     "name": "stdout",
     "output_type": "stream",
     "text": [
      "Jacobi iteration amount:  14776\n",
      "    n:  100\n",
      "   BE:  9.674122976033317e-07\n",
      "   FE:  0.00099997610349023\n",
      "\n"
     ]
    }
   ],
   "source": [
    "n = 100\n",
    "b = np.zeros(n)\n",
    "b[0] = 1.\n",
    "b[-1] = -1.\n",
    "\n",
    "D = sparse.lil_matrix((n, n))\n",
    "DInverse = D.copy()\n",
    "U = D.copy()\n",
    "L = D.copy()\n",
    "\n",
    "D.setdiag(2.)\n",
    "DInverse.setdiag(0.5)\n",
    "U.setdiag(1, k=1)\n",
    "L.setdiag(1, k=-1)\n",
    "\n",
    "answer = np.ones(n)\n",
    "answer[1::2] = -1\n",
    "x = Jacobi(n, b, 3, D, DInverse, U, L, answer, maxIter=100000)"
   ]
  },
  {
   "cell_type": "markdown",
   "metadata": {},
   "source": [
    "3. 重写程序2.2进行高斯-塞德尔迭代，求解例2.24（如下）中的问题验证你的工作.\n",
    "$$\n",
    "\\begin{bmatrix}\n",
    " 3&-1& 0& 0& 0&\\frac12\\\\\n",
    "-1& 3&-1& 0&\\frac12& 0\\\\\n",
    " 0&-1& 3&-1& 0& 0\\\\\n",
    " 0& 0&-1& 3&-1& 0\\\\\n",
    " 0&\\frac12& 0&-1& 3&-1\\\\\n",
    "\\frac12& 0& 0& 0&-1& 3\\\\\n",
    "\\end{bmatrix}\n",
    "\\begin{bmatrix}\n",
    "u_1\\\\\n",
    "u_2\\\\\n",
    "u_3\\\\\n",
    "u_4\\\\\n",
    "u_5\\\\\n",
    "u_6\\\\\n",
    "\\end{bmatrix}\n",
    "=\n",
    "\\begin{bmatrix}\n",
    "\\frac52\\\\\n",
    "\\frac32\\\\\n",
    "1\\\\\n",
    "1\\\\\n",
    "\\frac32\\\\\n",
    "\\frac52\\\\\n",
    "\\end{bmatrix}\n",
    "\\\\\n",
    "解 x=[1,1,1,1,1,1]\n",
    "$$"
   ]
  },
  {
   "cell_type": "code",
   "execution_count": 32,
   "metadata": {},
   "outputs": [
    {
     "name": "stdout",
     "output_type": "stream",
     "text": [
      "Gauss_Seidel iteration amount:  15\n",
      "    n:  6\n",
      "   BE:  8.667896986835899e-07\n",
      "   FE:  6.134616969966089e-07\n",
      "\n",
      "[1.0000004  1.00000061 1.00000061 1.00000035 1.00000003 0.99999994]\n"
     ]
    }
   ],
   "source": [
    "def Gauss_Seidel(n, b, D, U, L, answer, maxIter=1000, toleranceBit=6):\n",
    "    x = np.zeros(n)\n",
    "    tolerance = 10**(-toleranceBit)\n",
    "    count = 0\n",
    "    FE = float('inf')\n",
    "\n",
    "    if type(D) is np.ndarray:\n",
    "        LDInverse = np.linalg.inv(L+D)\n",
    "    else:\n",
    "        LDInverse = sparse.linalg.inv(L+D)\n",
    "\n",
    "    while(FE > tolerance and count < maxIter):\n",
    "        count += 1\n",
    "        x = LDInverse@(b-U@x)\n",
    "        FE = np.linalg.norm(x-answer, np.inf)\n",
    "\n",
    "    print(\"Gauss_Seidel iteration amount: \", count)\n",
    "    print(\"    n: \", n)\n",
    "    print(\"   BE: \", np.linalg.norm((D+U+L)@x-b, np.inf))\n",
    "    print(\"   FE: \", FE)\n",
    "    print()\n",
    "    return x\n",
    "\n",
    "b = np.array([5/2, 3/2, 1, 1, 3/2, 5/2])\n",
    "D = np.eye(6)*3.\n",
    "U = np.zeros((6, 6))\n",
    "np.fill_diagonal(U[:-1, 1:], -1)\n",
    "U[0, 5] = 0.5\n",
    "U[1, 4] = 0.5\n",
    "L = np.zeros((6, 6))\n",
    "np.fill_diagonal(L[1:, :-1], -1)\n",
    "L[4, 1] = 0.5\n",
    "L[5, 0] = 0.5\n",
    "\n",
    "answer = np.ones(6)\n",
    "x = Gauss_Seidel(6, b, D, U, L, answer, maxIter=1000)\n",
    "print(x)"
   ]
  },
  {
   "cell_type": "markdown",
   "metadata": {},
   "source": [
    "4. 重写程序2.2进行SOR.使用 $\\omega=1.1$，再次验证例 2.24.\n"
   ]
  },
  {
   "cell_type": "code",
   "execution_count": 26,
   "metadata": {},
   "outputs": [
    {
     "name": "stdout",
     "output_type": "stream",
     "text": [
      "SOR iteration amount:  12\n",
      "    n:  6\n",
      "   BE:  2.3307373684389177e-06\n",
      "   FE:  9.825712352640181e-07\n",
      "\n",
      "[1.00000098 1.00000048 0.99999956 0.99999922 0.99999942 0.99999972]\n"
     ]
    }
   ],
   "source": [
    "def SOR(n, b, D, U, L, answer, omega, maxIter=1000, toleranceBit=6):\n",
    "    \"Successive Over-Relaxation\"\n",
    "    x = np.zeros(n)\n",
    "    tolerance = 10**(-toleranceBit)\n",
    "    count = 0\n",
    "    FE = float('inf')\n",
    "\n",
    "    if type(D) is np.ndarray:\n",
    "        LDInverse = np.linalg.inv(omega*L+D)\n",
    "    else:\n",
    "        LDInverse = sparse.linalg.inv(omega*L+D)\n",
    "\n",
    "    while(FE > tolerance and count < maxIter):\n",
    "        count += 1\n",
    "        x = LDInverse@(omega*b+((1-omega)*D-omega*U)@x)\n",
    "        FE = np.linalg.norm(x-answer, np.inf)\n",
    "\n",
    "    print(\"SOR iteration amount: \", count)\n",
    "    print(\"    n: \", n)\n",
    "    print(\"   BE: \", np.linalg.norm((D+U+L)@x-b, np.inf))\n",
    "    print(\"   FE: \", FE)\n",
    "    print()\n",
    "    return x\n",
    "\n",
    "x = SOR(6, b, D, U, L, answer, 1.1, maxIter=1000)\n",
    "print(x)"
   ]
  },
  {
   "cell_type": "markdown",
   "metadata": {},
   "source": [
    "5. 执行编程问题1中的步骤，n=100.\n",
    "    1. 高斯-塞德尔方法\n",
    "    2. SOR，$\\omega=1.2$."
   ]
  },
  {
   "cell_type": "code",
   "execution_count": 35,
   "metadata": {},
   "outputs": [
    {
     "name": "stdout",
     "output_type": "stream",
     "text": [
      "Gauss_Seidel iteration amount:  20\n",
      "    n:  100\n",
      "   BE:  9.564705890641179e-07\n",
      "   FE:  9.5367431640625e-07\n",
      "\n",
      "SOR iteration amount:  16\n",
      "    n:  100\n",
      "   BE:  1.5515907685337282e-06\n",
      "   FE:  4.062661562720393e-07\n",
      "\n"
     ]
    }
   ],
   "source": [
    "n = 100\n",
    "b = np.ones(n)\n",
    "b[0] = 2.\n",
    "b[-1] = 2.\n",
    "\n",
    "D = sparse.lil_matrix((n, n))\n",
    "DInverse = D.copy()\n",
    "U = D.copy()\n",
    "L = D.copy()\n",
    "\n",
    "D.setdiag(3)\n",
    "U.setdiag(-1, k=1)\n",
    "L.setdiag(-1, k=-1)\n",
    "\n",
    "answer = np.ones(n)\n",
    "x = Gauss_Seidel(n, b, D, U, L, answer)\n",
    "x = SOR(n, b, D, U, L, answer, 1.2)"
   ]
  },
  {
   "cell_type": "markdown",
   "metadata": {},
   "source": [
    "6. 执行编程问题2中的步骤，\n",
    "    1. 高斯-塞德尔方法\n",
    "    2. SOR，$\\omega=1.5$."
   ]
  },
  {
   "cell_type": "code",
   "execution_count": 37,
   "metadata": {},
   "outputs": [
    {
     "name": "stdout",
     "output_type": "stream",
     "text": [
      "Gauss_Seidel iteration amount:  14528\n",
      "    n:  100\n",
      "   BE:  9.675009682297286e-10\n",
      "   FE:  9.993421266063507e-07\n",
      "\n",
      "SOR iteration amount:  4835\n",
      "    n:  100\n",
      "   BE:  9.733464034766826e-10\n",
      "   FE:  9.995389900208096e-07\n",
      "\n"
     ]
    }
   ],
   "source": [
    "n = 100\n",
    "b = np.zeros(n)\n",
    "b[0] = 1.\n",
    "b[-1] = -1.\n",
    "\n",
    "D = sparse.lil_matrix((n, n))\n",
    "U = D.copy()\n",
    "L = D.copy()\n",
    "\n",
    "D.setdiag(2.)\n",
    "U.setdiag(1, k=1)\n",
    "L.setdiag(1, k=-1)\n",
    "\n",
    "answer = np.ones(n)\n",
    "answer[1::2] = -1\n",
    "\n",
    "x = Gauss_Seidel(n, b, D, U, L, answer, maxIter=100000)\n",
    "x = SOR(n, b, D, U, L, answer, 1.5, maxIter=100000)"
   ]
  },
  {
   "cell_type": "markdown",
   "metadata": {},
   "source": [
    "7. 使用编程问题3的程序，确定形如(2.38)的系统，使用高斯-塞德尔方法在1秒内所能够精确求解的系统最大规模，报告对于不同的n所需的时间，以及前向误差."
   ]
  },
  {
   "cell_type": "code",
   "execution_count": null,
   "metadata": {},
   "outputs": [],
   "source": [
    "# 形如2.38?"
   ]
  }
 ],
 "metadata": {
  "kernelspec": {
   "display_name": "Python 3",
   "language": "python",
   "name": "python3"
  },
  "language_info": {
   "codemirror_mode": {
    "name": "ipython",
    "version": 3
   },
   "file_extension": ".py",
   "mimetype": "text/x-python",
   "name": "python",
   "nbconvert_exporter": "python",
   "pygments_lexer": "ipython3",
   "version": "3.12.1"
  }
 },
 "nbformat": 4,
 "nbformat_minor": 2
}
