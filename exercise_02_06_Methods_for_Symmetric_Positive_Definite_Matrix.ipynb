{
 "cells": [
  {
   "cell_type": "code",
   "execution_count": 55,
   "metadata": {},
   "outputs": [],
   "source": [
    "import numpy as np\n",
    "np.set_printoptions(linewidth=120)"
   ]
  },
  {
   "cell_type": "markdown",
   "metadata": {},
   "source": [
    "1. 写出共轭梯度法的 MATLAB 版本，并使用该程序求解如下系统:\n",
    "$$\n",
    "(a)\\;\n",
    "\\begin{bmatrix}1&0\\\\0&2\\end{bmatrix}\n",
    "\\begin{bmatrix}u\\\\v\\end{bmatrix}=\n",
    "\\begin{bmatrix}2\\\\4\\end{bmatrix}\\\\\n",
    "\\,\\\\\n",
    "(b)\\;\n",
    "\\begin{bmatrix}1&2\\\\2&5\\end{bmatrix}\n",
    "\\begin{bmatrix}u\\\\v\\end{bmatrix}=\n",
    "\\begin{bmatrix}1\\\\1\\end{bmatrix}\n",
    "$$"
   ]
  },
  {
   "cell_type": "code",
   "execution_count": 77,
   "metadata": {},
   "outputs": [
    {
     "name": "stdout",
     "output_type": "stream",
     "text": [
      "Conjugate Gradient Method with n= 2\n",
      "Iter of  1/ 2: inf-norm of r: 4.0\n",
      "Iter of  2/ 2: inf-norm of r: 0.8888888888888888\n",
      "         Final inf-norm of r: 1.6653345369377348e-16\n",
      "    x: [2. 2.]\n",
      "    error norm: 0.0\n",
      "Conjugate Gradient Method with n= 2\n",
      "Iter of  1/ 2: inf-norm of r: 1.0\n",
      "Iter of  2/ 2: inf-norm of r: 0.40000000000000013\n",
      "         Final inf-norm of r: 3.497202527569243e-15\n",
      "    x: [ 3. -1.]\n",
      "    error norm: 2.6645352591003757e-15\n"
     ]
    }
   ],
   "source": [
    "def ConjugateGradient(A, b, check=False, printOrNot=True, tolerance=0.):\n",
    "    n = A.shape[0]\n",
    "    print(\"Conjugate Gradient Method with n=\", n)\n",
    "    x = np.zeros(n)\n",
    "    r = b.copy()\n",
    "    d = r.copy()\n",
    "\n",
    "    errors = []\n",
    "    for i in range(n):\n",
    "        nrm = np.linalg.norm(r, np.inf)\n",
    "        errors.append(nrm)\n",
    "        if printOrNot:\n",
    "            print(f\"Iter of {i+1:2}/{n:2}: inf-norm of r: {nrm}\")\n",
    "        if  nrm <= tolerance:\n",
    "            print(\"Break on iter of\", i+1)\n",
    "            break\n",
    "        rr = r@r\n",
    "        alpha = rr/(d@A@d)\n",
    "        x = x+alpha*d\n",
    "        r = r-alpha*(A@d)\n",
    "        beta = r@r/rr\n",
    "        d = r+beta*d\n",
    "    print(f\"         Final inf-norm of r: {np.linalg.norm(r, np.inf)}\")\n",
    "    if check:\n",
    "        if printOrNot:\n",
    "            print(\"    x:\", x)\n",
    "        print(\"    error norm:\", np.linalg.norm(A@x-b, np.inf))\n",
    "    return (x, errors)\n",
    "\n",
    "x,_ = ConjugateGradient(np.array([[1,0],[0,2]]), np.array([2,4]), True)\n",
    "x,_ = ConjugateGradient(np.array([[1,2],[2,5]]), np.array([1,1]), True)"
   ]
  },
  {
   "cell_type": "markdown",
   "metadata": {},
   "source": [
    "2. 使用 MATLAB 版本的共轭梯度法，求解如下问题:\n",
    "$$\n",
    "(a)\\;\n",
    "\\begin{bmatrix}1&-1&0\\\\-1&2&1\\\\0&1&2\\end{bmatrix}\n",
    "\\begin{bmatrix}u\\\\v\\\\w\\end{bmatrix}=\n",
    "\\begin{bmatrix}0\\\\2\\\\3\\end{bmatrix}\\\\\n",
    "\\,\\\\\n",
    "(b)\\;\n",
    "\\begin{bmatrix}1&-1&0\\\\-1&2&1\\\\0&1&5\\end{bmatrix}\n",
    "\\begin{bmatrix}u\\\\v\\\\w\\end{bmatrix}=\n",
    "\\begin{bmatrix}3\\\\-3\\\\4\\end{bmatrix}\\\\\n",
    "$$"
   ]
  },
  {
   "cell_type": "code",
   "execution_count": 78,
   "metadata": {},
   "outputs": [
    {
     "name": "stdout",
     "output_type": "stream",
     "text": [
      "Conjugate Gradient Method with n= 3\n",
      "Iter of  1/ 3: inf-norm of r: 3.0\n",
      "Iter of  2/ 3: inf-norm of r: 0.6842105263157895\n",
      "Iter of  3/ 3: inf-norm of r: 0.1132075471698113\n",
      "         Final inf-norm of r: 9.853229343548264e-16\n",
      "    x: [1. 1. 1.]\n",
      "    error norm: 8.881784197001252e-16\n",
      "Conjugate Gradient Method with n= 3\n",
      "Iter of  1/ 3: inf-norm of r: 4.0\n",
      "Iter of  2/ 3: inf-norm of r: 1.7227722772277234\n",
      "Iter of  3/ 3: inf-norm of r: 0.18876361733504587\n",
      "         Final inf-norm of r: 3.427813588530171e-15\n",
      "    x: [ 2. -1.  1.]\n",
      "    error norm: 3.552713678800501e-15\n"
     ]
    }
   ],
   "source": [
    "x,_ = ConjugateGradient(np.array([[1,-1,0],[-1,2,1],[0,1,2]]), np.array([0,2,3]), True)\n",
    "x,_ = ConjugateGradient(np.array([[1,-1,0],[-1,2,1],[0,1,5]]), np.array([3,-3,4]), True)"
   ]
  },
  {
   "cell_type": "markdown",
   "metadata": {},
   "source": [
    "3. 使用共轭梯度法求解系统 $Hx=b$,其中 $H$ 是 $n\\times n$ 希尔伯特矩阵, $b$ 是全为1的向量，(a)n=4, (b)n=8."
   ]
  },
  {
   "cell_type": "code",
   "execution_count": 79,
   "metadata": {},
   "outputs": [
    {
     "name": "stdout",
     "output_type": "stream",
     "text": [
      "Conjugate Gradient Method with n= 4\n",
      "Iter of  1/ 4: inf-norm of r: 1.0\n",
      "Iter of  2/ 4: inf-norm of r: 0.6416510318949342\n",
      "Iter of  3/ 4: inf-norm of r: 0.1313523119923406\n",
      "Iter of  4/ 4: inf-norm of r: 0.017947305142676968\n",
      "         Final inf-norm of r: 1.5179084781637153e-09\n",
      "    x: [  -4.   60. -180.  140.]\n",
      "    error norm: 1.5179182355495868e-09\n",
      "Conjugate Gradient Method with n= 8\n",
      "Iter of  1/ 8: inf-norm of r: 1.0\n",
      "Iter of  2/ 8: inf-norm of r: 1.05006227171399\n",
      "Iter of  3/ 8: inf-norm of r: 0.20669054464563383\n",
      "Iter of  4/ 8: inf-norm of r: 0.0685145362587323\n",
      "Iter of  5/ 8: inf-norm of r: 0.013104517253059111\n",
      "Iter of  6/ 8: inf-norm of r: 0.0017842838819626997\n",
      "Iter of  7/ 8: inf-norm of r: 1.3200608821123345\n",
      "Iter of  8/ 8: inf-norm of r: 0.0003580280747882969\n",
      "         Final inf-norm of r: 0.00037457994775650207\n",
      "    x: [   -5.64866393   153.38773204  -873.60128993  1378.10751732   335.71392672 -1242.26504186 -1156.48123908\n",
      "  1453.93314816]\n",
      "    error norm: 0.0003745799477314904\n"
     ]
    }
   ],
   "source": [
    "import scipy as sp\n",
    "x,_ = ConjugateGradient(sp.linalg.hilbert(4), np.ones(4), True)\n",
    "x,_ = ConjugateGradient(sp.linalg.hilbert(8), np.ones(8), True)"
   ]
  },
  {
   "cell_type": "markdown",
   "metadata": {},
   "source": [
    "4. 使用共轭梯度法求解(2.45, 如下)的稀疏问题.(a)n=6, (b)n=12.\n",
    "$$\n",
    "A=\n",
    "\\begin{bmatrix}\n",
    " 3&-1& 0& 0& 0&\\frac12\\\\\n",
    "-1& 3&-1& 0&\\frac12& 0\\\\\n",
    " 0&-1& 3&-1& 0& 0\\\\\n",
    " 0& 0&-1& 3&-1& 0\\\\\n",
    " 0&\\frac12& 0&-1& 3&-1\\\\\n",
    "\\frac12& 0& 0& 0&-1& 3\\\\\n",
    "\\end{bmatrix}\n",
    "$$"
   ]
  },
  {
   "cell_type": "code",
   "execution_count": 80,
   "metadata": {},
   "outputs": [
    {
     "name": "stdout",
     "output_type": "stream",
     "text": [
      "[[ 3.  -1.   0.   0.   0.   0.5]\n",
      " [-1.   3.  -1.   0.   0.5  0. ]\n",
      " [ 0.  -1.   3.  -1.   0.   0. ]\n",
      " [ 0.   0.  -1.   3.  -1.   0. ]\n",
      " [ 0.   0.5  0.  -1.   3.  -1. ]\n",
      " [ 0.5  0.   0.   0.  -1.   3. ]]\n",
      "[2.5 1.5 1.  1.  1.5 2.5]\n",
      "Conjugate Gradient Method with n= 6\n",
      "Iter of  1/ 6: inf-norm of r: 2.5\n",
      "Iter of  2/ 6: inf-norm of r: 0.7764705882352941\n",
      "Iter of  3/ 6: inf-norm of r: 0.4122965641952984\n",
      "Iter of  4/ 6: inf-norm of r: 1.6653345369377348e-16\n",
      "Iter of  5/ 6: inf-norm of r: 4.777599081378746e-17\n",
      "Iter of  6/ 6: inf-norm of r: 1.503559181920928e-17\n",
      "         Final inf-norm of r: 9.617992879911003e-19\n",
      "    x: [1. 1. 1. 1. 1. 1.]\n",
      "    error norm: 8.881784197001252e-16\n",
      "[[ 3.  -1.   0.   0.   0.   0.   0.   0.   0.   0.   0.   0.5]\n",
      " [-1.   3.  -1.   0.   0.   0.   0.   0.   0.   0.   0.5  0. ]\n",
      " [ 0.  -1.   3.  -1.   0.   0.   0.   0.   0.   0.5  0.   0. ]\n",
      " [ 0.   0.  -1.   3.  -1.   0.   0.   0.   0.5  0.   0.   0. ]\n",
      " [ 0.   0.   0.  -1.   3.  -1.   0.   0.5  0.   0.   0.   0. ]\n",
      " [ 0.   0.   0.   0.  -1.   3.  -1.   0.   0.   0.   0.   0. ]\n",
      " [ 0.   0.   0.   0.   0.  -1.   3.  -1.   0.   0.   0.   0. ]\n",
      " [ 0.   0.   0.   0.   0.5  0.  -1.   3.  -1.   0.   0.   0. ]\n",
      " [ 0.   0.   0.   0.5  0.   0.   0.  -1.   3.  -1.   0.   0. ]\n",
      " [ 0.   0.   0.5  0.   0.   0.   0.   0.  -1.   3.  -1.   0. ]\n",
      " [ 0.   0.5  0.   0.   0.   0.   0.   0.   0.  -1.   3.  -1. ]\n",
      " [ 0.5  0.   0.   0.   0.   0.   0.   0.   0.   0.  -1.   3. ]]\n",
      "[2.5 1.5 1.5 1.5 1.5 1.  1.  1.5 1.5 1.5 1.5 2.5]\n",
      "Conjugate Gradient Method with n= 12\n",
      "Iter of  1/12: inf-norm of r: 2.5\n",
      "Iter of  2/12: inf-norm of r: 1.2549800796812747\n",
      "Iter of  3/12: inf-norm of r: 0.4215160489874329\n",
      "Iter of  4/12: inf-norm of r: 0.2062828830031958\n",
      "Iter of  5/12: inf-norm of r: 0.0488493734633388\n",
      "Iter of  6/12: inf-norm of r: 0.010640212351240415\n",
      "Iter of  7/12: inf-norm of r: 1.0408340855860843e-17\n",
      "Iter of  8/12: inf-norm of r: 4.66965838477585e-18\n",
      "Iter of  9/12: inf-norm of r: 1.1791689028418217e-18\n",
      "Iter of 10/12: inf-norm of r: 3.30285895206889e-19\n",
      "Iter of 11/12: inf-norm of r: 1.0579381890983385e-19\n",
      "Iter of 12/12: inf-norm of r: 4.719403507264653e-20\n",
      "         Final inf-norm of r: 2.8154105417098113e-20\n",
      "    x: [1. 1. 1. 1. 1. 1. 1. 1. 1. 1. 1. 1.]\n",
      "    error norm: 8.881784197001252e-16\n"
     ]
    }
   ],
   "source": [
    "def Solution4(n, printOrNot=True, tol=0.):\n",
    "    A = sp.sparse.lil_matrix((n, n))\n",
    "    A.setdiag(3, k=0)\n",
    "    A.setdiag(-1, k=1)\n",
    "    A.setdiag(-1, k=-1)\n",
    "    for i in range(n//2-1):\n",
    "        A[n-1-i, i] = 0.5\n",
    "        A[i, n-1-i] = 0.5\n",
    "    if printOrNot:\n",
    "        print(A.toarray())\n",
    "    b = np.full((n,), 1.5)\n",
    "    b[0] = 2.5\n",
    "    b[-1] = 2.5\n",
    "    b[n//2-1] = 1.\n",
    "    b[n//2] = 1.\n",
    "    if printOrNot:\n",
    "        print(b)\n",
    "    x,_ = ConjugateGradient(A, b, True, printOrNot, tol)\n",
    "\n",
    "Solution4(6)\n",
    "Solution4(12)"
   ]
  },
  {
   "cell_type": "markdown",
   "metadata": {},
   "source": [
    "5. 使用共轭梯度法求解(2.45)，n=100，1000以及10 000. 报告最后余项的规模，以及所需的迭代步数."
   ]
  },
  {
   "cell_type": "code",
   "execution_count": 64,
   "metadata": {},
   "outputs": [
    {
     "name": "stdout",
     "output_type": "stream",
     "text": [
      "Conjugate Gradient Method with n= 100\n",
      "         Final inf-norm of r: 1.4626743255412333e-50\n",
      "    error norm: 1.7763568394002505e-15\n",
      "Conjugate Gradient Method with n= 10000\n",
      "Break on iter of 33\n",
      "         Final inf-norm of r: 7.23816429635465e-16\n",
      "    error norm: 1.5543122344752192e-15\n"
     ]
    }
   ],
   "source": [
    "Solution4(100, False)\n",
    "Solution4(10000, False, 1e-15)"
   ]
  },
  {
   "cell_type": "markdown",
   "metadata": {},
   "source": [
    "6. 令 $A$ 是 $n\\times n$ 矩阵，n=1000,元素 $A(i,i)=i, A(i,i+1)=A(i+1,i)=1/2,A(i,i+2)=A(i+2,i)=1/2$.(a)使用 ***spy(A)***，打印非零结构.(b)令 $x_e$,是n个1组成的向量.令 $b=Ax_e$，并使用没有预条件子的共轭梯度法和雅可比预条件子，以及高斯-塞德尔预条件子求解. 在图中比较三种方法相对于步数的运行结果误差."
   ]
  },
  {
   "cell_type": "code",
   "execution_count": 84,
   "metadata": {},
   "outputs": [
    {
     "name": "stdout",
     "output_type": "stream",
     "text": [
      "[[ 1.   0.5  0.5  0.   0.   0.   0.   0.   0.   0. ]\n",
      " [ 0.5  2.   0.5  0.5  0.   0.   0.   0.   0.   0. ]\n",
      " [ 0.5  0.5  3.   0.5  0.5  0.   0.   0.   0.   0. ]\n",
      " [ 0.   0.5  0.5  4.   0.5  0.5  0.   0.   0.   0. ]\n",
      " [ 0.   0.   0.5  0.5  5.   0.5  0.5  0.   0.   0. ]\n",
      " [ 0.   0.   0.   0.5  0.5  6.   0.5  0.5  0.   0. ]\n",
      " [ 0.   0.   0.   0.   0.5  0.5  7.   0.5  0.5  0. ]\n",
      " [ 0.   0.   0.   0.   0.   0.5  0.5  8.   0.5  0.5]\n",
      " [ 0.   0.   0.   0.   0.   0.   0.5  0.5  9.   0.5]\n",
      " [ 0.   0.   0.   0.   0.   0.   0.   0.5  0.5 10. ]]\n",
      "Conjugate Gradient Method with n= 1000\n",
      "Break on iter of 339\n",
      "         Final inf-norm of r: 8.831602396721215e-21\n",
      "    error norm: 2.1600499167107046e-12\n"
     ]
    }
   ],
   "source": [
    "n = 1000\n",
    "A = sp.sparse.diags(np.arange(1, 1001), format='lil')\n",
    "A.setdiag(0.5, k=1)\n",
    "A.setdiag(0.5, k=-1)\n",
    "A.setdiag(0.5, k=2)\n",
    "A.setdiag(0.5, k=-2)\n",
    "print(A[:10, :10].toarray())\n",
    "b = A@np.ones(n)\n",
    "_, err_CG = ConjugateGradient(A, b, check=True, printOrNot=False, tolerance=1e-20)"
   ]
  },
  {
   "cell_type": "code",
   "execution_count": 85,
   "metadata": {},
   "outputs": [
    {
     "name": "stdout",
     "output_type": "stream",
     "text": [
      "Conjugate Gradient Method(Jacobi precond) with n=1000\n",
      "Break on iter of 21\n",
      "         Final inf-norm of r: 4.5388239690297984e-21\n",
      "    error norm: 4.547473508864641e-13\n"
     ]
    }
   ],
   "source": [
    "def PreconditionerJacobi(A, b, check=False, printOrNot=True, tolerance=0.):\n",
    "    n = A.shape[0]\n",
    "    print(f\"Conjugate Gradient Method(Jacobi precond) with n={n}\")\n",
    "    x = np.zeros(n)\n",
    "    r = b.copy()\n",
    "    MInverse = sp.sparse.diags(1./A.diagonal(), format='lil') # Inversion of D\n",
    "    z = MInverse@r\n",
    "    d = z.copy()\n",
    "\n",
    "    errors = []\n",
    "    for i in range(n):\n",
    "        nrm = np.linalg.norm(r, np.inf)\n",
    "        errors.append(nrm)\n",
    "        if printOrNot:\n",
    "            print(f\"Iter of {i+1:2}/{n:2}: inf-norm of r: {nrm}\")\n",
    "        if  nrm <= tolerance:\n",
    "            print(\"Break on iter of\", i+1)\n",
    "            break\n",
    "        rz = r@z\n",
    "        alpha = rz/(d@A@d)\n",
    "        x = x+alpha*d\n",
    "        r = r-alpha*(A@d)\n",
    "        z = MInverse@r\n",
    "        beta = r@z/rz\n",
    "        d = z+beta*d\n",
    "    print(f\"         Final inf-norm of r: {np.linalg.norm(r, np.inf)}\")\n",
    "    if check:\n",
    "        if printOrNot:\n",
    "            print(\"    x:\", x)\n",
    "        print(\"    error norm:\", np.linalg.norm(A@x-b, np.inf))\n",
    "    return (x, errors)\n",
    "\n",
    "_, err_Jacobi = PreconditionerJacobi(A, b, check=True, printOrNot=False, tolerance=1e-20)"
   ]
  },
  {
   "cell_type": "code",
   "execution_count": 86,
   "metadata": {},
   "outputs": [
    {
     "name": "stdout",
     "output_type": "stream",
     "text": [
      "Conjugate Gradient Method(Gauss-Seidel precond) with n=1000\n",
      "Break on iter of 12\n",
      "         Final inf-norm of r: 5.23607429135114e-22\n",
      "    error norm: 4.547473508864641e-13\n"
     ]
    }
   ],
   "source": [
    "def PreconditionerGS(A, b, check=False, printOrNot=True, tolerance=0.):\n",
    "    n = A.shape[0]\n",
    "    print(f\"Conjugate Gradient Method(Gauss-Seidel precond) with n={n}\")\n",
    "    x = np.zeros(n)\n",
    "    r = b.copy()\n",
    "\n",
    "    U = sp.sparse.triu(A, k=1, format='lil')\n",
    "    L = sp.sparse.tril(A, k=-1, format='lil')\n",
    "    diag = A.diagonal()\n",
    "    D = sp.sparse.diags(diag, format='lil')\n",
    "    DInverse = sp.sparse.diags(1/diag, format='lil')\n",
    "    MLeft = sp.sparse.diags(np.ones(n), format='lil')+L@DInverse\n",
    "    MRight = D+U\n",
    "\n",
    "    # Equal to z = MInverse@r\n",
    "    # M(=MLeft*MRight)'s inverse is not easy to calculate, so backsubstitution adopted.\n",
    "    temp = sp.sparse.linalg.spsolve_triangular(MLeft, r, lower=True)\n",
    "    z = sp.sparse.linalg.spsolve_triangular(MRight, temp, lower=False)\n",
    "\n",
    "    d = z.copy()\n",
    "\n",
    "    errors = []\n",
    "    for i in range(n):\n",
    "        nrm = np.linalg.norm(r, np.inf)\n",
    "        errors.append(nrm)\n",
    "        if printOrNot:\n",
    "            print(f\"Iter of {i+1:2}/{n:2}: inf-norm of r: {nrm}\")\n",
    "        if  nrm <= tolerance:\n",
    "            print(\"Break on iter of\", i+1)\n",
    "            break\n",
    "        rz = r@z\n",
    "        alpha = rz/(d@A@d)\n",
    "        x = x+alpha*d\n",
    "        r = r-alpha*(A@d)\n",
    "\n",
    "        # Equal to z = MInverse@r\n",
    "        temp = sp.sparse.linalg.spsolve_triangular(MLeft, r, lower=True)\n",
    "        z = sp.sparse.linalg.spsolve_triangular(MRight, temp, lower=False)\n",
    "\n",
    "        beta = r@z/rz\n",
    "        d = z+beta*d\n",
    "    print(f\"         Final inf-norm of r: {np.linalg.norm(r, np.inf)}\")\n",
    "    if check:\n",
    "        if printOrNot:\n",
    "            print(\"    x:\", x)\n",
    "        print(\"    error norm:\", np.linalg.norm(A@x-b, np.inf))\n",
    "    return (x, errors)\n",
    "\n",
    "_, err_GS = PreconditionerGS(A, b, check=True, printOrNot=False, tolerance=1e-20)"
   ]
  },
  {
   "cell_type": "code",
   "execution_count": 93,
   "metadata": {},
   "outputs": [
    {
     "data": {
      "image/png": "[encoded data removed]",
      "text/plain": [
       "<Figure size 1200x500 with 1 Axes>"
      ]
     },
     "metadata": {},
     "output_type": "display_data"
    }
   ],
   "source": [
    "import matplotlib.pyplot as plt\n",
    "fig, ax = plt.subplots(figsize=(12, 5))\n",
    "ax.loglog(range(300), err_CG[:300], label='No preconditioner')\n",
    "ax.loglog(range(300), np.hstack((err_Jacobi, np.full(300-len(err_Jacobi), err_Jacobi[-1]))), label='Jacobi')\n",
    "ax.loglog(range(300), np.hstack((err_GS, np.full(300-len(err_GS), err_GS[-1]))), label='Gauss-Seidel')\n",
    "_ = ax.legend()"
   ]
  },
  {
   "cell_type": "markdown",
   "metadata": {},
   "source": [
    "7. 令n=1000.使用编程问题6中的 $n\\times n$ 矩阵A,并加上非零元素 $A(i,2i)=A(2i,i)=1/2,1\\leqslant i\\leqslant n/2$.\n",
    "完成问题6中的步骤(a)和(b)."
   ]
  },
  {
   "cell_type": "markdown",
   "metadata": {},
   "source": [
    "8. 令n=500,令A是 $n\\times n$ 矩阵，对于所有i,元素 $A(i,i)=2,A(i,i+2)=A(i+2,i)=1/2，A(i,i+4)=A(i+4,i)=1/2$, 并且 $A(500,i)=A(i,500)=-0.1, 1\\leqslant i\\leqslant 495$. 完成问题6中的(a)和(b)."
   ]
  },
  {
   "cell_type": "markdown",
   "metadata": {},
   "source": [
    "9. 令A为编程问题8中的矩阵，但是对角线元素替换为 $A(i,i)=\\sqrt[3]i$. 完成问题8的(a)和(b)部分"
   ]
  },
  {
   "cell_type": "markdown",
   "metadata": {},
   "source": [
    "10. 令C是 $195\\times 195$ 矩阵块，其中对于所有的 $i, C(i,i)=2, C(i,i+3)=C(i+3,i)=0.1, C(i,i+39)=C(i+39,i)=1/2, C(i,i+42)=C(i+42,i)=1/2$.定义A是 $n\\times n$ 矩阵 $n=780$, 矩阵的对角线由4个对角矩阵块C组成，并在上三角和下三角矩阵中放置矩阵块 $\\frac12 C$.完成问题6的(a)和(b)步骤，并求解 $Ax=b$."
   ]
  },
  {
   "cell_type": "code",
   "execution_count": null,
   "metadata": {},
   "outputs": [],
   "source": []
  }
 ],
 "metadata": {
  "kernelspec": {
   "display_name": "Python 3",
   "language": "python",
   "name": "python3"
  },
  "language_info": {
   "codemirror_mode": {
    "name": "ipython",
    "version": 3
   },
   "file_extension": ".py",
   "mimetype": "text/x-python",
   "name": "python",
   "nbconvert_exporter": "python",
   "pygments_lexer": "ipython3",
   "version": "3.12.2"
  }
 },
 "nbformat": 4,
 "nbformat_minor": 2
}
