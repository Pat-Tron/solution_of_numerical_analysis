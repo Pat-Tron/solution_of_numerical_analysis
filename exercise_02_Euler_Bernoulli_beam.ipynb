{
 "cells": [
  {
   "cell_type": "code",
   "execution_count": 114,
   "metadata": {},
   "outputs": [],
   "source": [
    "import numpy as np\n",
    "from scipy import sparse\n",
    "from scipy.sparse import linalg as sparse_linalg"
   ]
  },
  {
   "cell_type": "markdown",
   "metadata": {},
   "source": [
    "#### 跳水板没有负载时，及 $f(x)=-480wdg$ 为常数时，有\n",
    "$$\n",
    "\\begin{aligned}\n",
    "EIy''''&=f(x)=f \\\\\n",
    "y'''&=\\frac{f}{EI}x+C_1 \\\\\n",
    "y''&=\\frac{f}{2EI}x^2+C_1x+C_2 \\\\\n",
    "y'&=\\frac{f}{6EI}x^3+\\frac{C_1}{2}x^2+C_2x+C_3 \\\\\n",
    "y&=\\frac{f}{24EI}x^4+\\frac{C_1}{6}x^3+\\frac{C_2}{2}x^2+C_3x+C_4 \\\\ \\\\\n",
    "Because \\; y(0)=y'(0)&=y''(L)=y'''(L)=0\\\\\n",
    "C_4=C_3&=0 \\\\\n",
    "C_1&=-\\frac{fL}{EI} \\\\\n",
    "C_2&=-\\frac{fL^2}{2EI}-C_1L=\\frac{fL^2}{2EI} \\\\ \\\\\n",
    "Then \\\\\n",
    "y&=\\frac{f}{24EI}x^4-\\frac{fL}{6EI}x^3+\\frac{fL^2}{4EI}x^2 \\\\\n",
    " &=\\frac{f}{24EI}x^2(x^2-4Lx+6L^2)\n",
    "\\end{aligned}\n",
    "$$"
   ]
  },
  {
   "cell_type": "code",
   "execution_count": 33,
   "metadata": {},
   "outputs": [
    {
     "name": "stdout",
     "output_type": "stream",
     "text": [
      "-0.009659076923076925\n"
     ]
    }
   ],
   "source": [
    "# 检查单位匹配\n",
    "Length = 2 # meter\n",
    "w = 0.3 # meter\n",
    "d = 0.03 # meter\n",
    "E = 1.3e+10 #pascal or N/m^2\n",
    "I = w*d**3/12\n",
    "rho = 480 # kg/m^3\n",
    "f = -rho*w*d*9.81\n",
    "y = lambda x: f/(24*E*I)*x**2*(x**2-4*Length*x+6*Length**2)\n",
    "# 计算末端的偏移\n",
    "print(y(2))"
   ]
  },
  {
   "cell_type": "code",
   "execution_count": 58,
   "metadata": {},
   "outputs": [],
   "source": [
    "# 9毫米偏移，看起来单位没什么问题。"
   ]
  },
  {
   "cell_type": "code",
   "execution_count": 107,
   "metadata": {},
   "outputs": [
    {
     "name": "stdout",
     "output_type": "stream",
     "text": [
      "P:\n",
      " [[0. 1. 0.]\n",
      " [0. 0. 1.]\n",
      " [1. 0. 0.]]\n",
      "L:\n",
      " [[ 1.    0.    0.  ]\n",
      " [ 0.25  1.    0.  ]\n",
      " [ 0.5  -0.5   1.  ]]\n",
      "U:\n",
      " [[ 4.  4. -4.]\n",
      " [ 0.  2.  2.]\n",
      " [ 0.  0.  8.]]\n",
      "error:\n",
      " [[0. 0. 0.]\n",
      " [0. 0. 0.]\n",
      " [0. 0. 0.]]\n",
      "x:\n",
      " [-1.  2.  1.]\n",
      "error:  [0. 0. 0.]\n",
      "P:\n",
      "   (0, 0)\t1.0\n",
      "  (1, 1)\t1.0\n",
      "  (2, 2)\t1.0\n",
      "  (3, 3)\t1.0\n",
      "  (4, 4)\t1.0\n",
      "  (5, 5)\t1.0\n",
      "  (6, 6)\t1.0\n",
      "  (7, 7)\t1.0\n",
      "  (8, 8)\t1.0\n",
      "  (9, 9)\t1.0\n",
      "L:\n",
      "   (0, 0)\t1.0\n",
      "  (1, 0)\t-0.25\n",
      "  (1, 1)\t1.0\n",
      "  (2, 0)\t0.0625\n",
      "  (2, 1)\t-0.9166666666666666\n",
      "  (2, 2)\t1.0\n",
      "  (3, 1)\t0.26666666666666666\n",
      "  (3, 2)\t-1.12\n",
      "  (3, 3)\t1.0\n",
      "  (4, 2)\t0.36\n",
      "  (4, 3)\t-1.2777777777777781\n",
      "  (4, 4)\t1.0\n",
      "  (5, 3)\t0.44444444444444453\n",
      "  (5, 4)\t-1.3877551020408172\n",
      "  (5, 5)\t1.0\n",
      "  (6, 4)\t0.5102040816326534\n",
      "  (6, 5)\t-1.4687500000000016\n",
      "  (6, 6)\t1.0\n",
      "  (7, 5)\t0.5625000000000008\n",
      "  (7, 6)\t-1.5308641975308663\n",
      "  (7, 7)\t1.0\n",
      "  (8, 6)\t0.5693536673928842\n",
      "  (8, 7)\t-1.3364705882352959\n",
      "  (8, 8)\t1.0\n",
      "  (9, 6)\t-0.42701525054466316\n",
      "  (9, 7)\t2.9223529411764764\n",
      "  (9, 8)\t-4.190476190476192\n",
      "  (9, 9)\t1.0\n",
      "U:\n",
      "   (0, 0)\t16.0\n",
      "  (0, 1)\t-9.0\n",
      "  (0, 2)\t2.6666666666666665\n",
      "  (0, 3)\t-0.25\n",
      "  (1, 1)\t3.75\n",
      "  (1, 2)\t-3.3333333333333335\n",
      "  (1, 3)\t0.9375\n",
      "  (2, 2)\t2.7777777777777777\n",
      "  (2, 3)\t-3.125\n",
      "  (2, 4)\t1.0\n",
      "  (3, 3)\t2.2499999999999996\n",
      "  (3, 4)\t-2.88\n",
      "  (3, 5)\t1.0\n",
      "  (4, 4)\t1.9599999999999986\n",
      "  (4, 5)\t-2.722222222222222\n",
      "  (4, 6)\t1.0\n",
      "  (5, 5)\t1.7777777777777755\n",
      "  (5, 6)\t-2.612244897959183\n",
      "  (5, 7)\t1.0\n",
      "  (6, 6)\t1.6530612244897926\n",
      "  (6, 7)\t-2.5312499999999982\n",
      "  (6, 8)\t1.0\n",
      "  (7, 7)\t1.5624999999999964\n",
      "  (7, 8)\t-2.4691358024691334\n",
      "  (7, 9)\t1.0\n",
      "  (8, 8)\t0.36601307189542265\n",
      "  (8, 9)\t-0.31058823529411583\n",
      "  (9, 9)\t0.011428571428572898\n",
      "x:\n",
      " [-0.00018 -0.00067 -0.00142 -0.00235 -0.00342 -0.00459 -0.00582 -0.00709 -0.00837 -0.00966]\n"
     ]
    }
   ],
   "source": [
    "def MakeA(n: int, printOrNot=False, sparseOrNot=False):\n",
    "    if n < 5:\n",
    "        print(\"n is too small.\")\n",
    "        return None\n",
    "\n",
    "    if sparseOrNot:\n",
    "        A = sparse.lil_matrix((n, n))\n",
    "    else:\n",
    "        A = np.zeros(n*n).reshape(n, n)\n",
    "\n",
    "    A[0, :4] = [16., -9., 8/3, -0.25]\n",
    "    A[1, :4] = [-4.,  6., -4.,    1.]\n",
    "    A[-2, -4:] = [ 16/17, -60/17, 72/17, -28/17]\n",
    "    A[-1, -4:] = [-12/17, 96/17, -156/17, 72/17]\n",
    "    for row in range(2, n-2):\n",
    "        A[row, row-2:row+3] = [1., -4., 6., -4., 1.]\n",
    "    \n",
    "    if printOrNot:\n",
    "        if not sparseOrNot:\n",
    "            np.set_printoptions(precision=5, linewidth=120)\n",
    "        print('A:\\n', A)\n",
    "    return A\n",
    "\n",
    "def PA_LU_Factorization(A_, printOrNot=False, check=False):\n",
    "    order = A_.shape[0]\n",
    "\n",
    "    # Upper triangular matrix\n",
    "    U = A_.copy()\n",
    "    # Lower triangular matrix\n",
    "    L = np.eye(order)\n",
    "    # Permutation matrix\n",
    "    P = np.eye(order)\n",
    "    if type(A_) is sparse._lil.lil_matrix:\n",
    "        L = sparse.lil_matrix(L)\n",
    "        P = sparse.lil_matrix(P)\n",
    "\n",
    "    # Elimination\n",
    "    for col in range(order):\n",
    "        # A matrix with pivot equals to 0 would be SINGULAR.\n",
    "        if np.abs(A_[col, col]) < 0.00000001:\n",
    "            print(\"Zero pivot encounterd. i=j=:\", col)\n",
    "            return None\n",
    "        \n",
    "        # Let pivot be the max element in the column.\n",
    "        rowToSwap = np.argmax(U[col:, col])+col\n",
    "        if rowToSwap != col:\n",
    "            U[[col, rowToSwap], :] = U[[rowToSwap, col], :]\n",
    "            P[[col, rowToSwap], :] = P[[rowToSwap, col], :]\n",
    "\n",
    "        for row in range(col+1, order):\n",
    "            mult = U[row, col]/U[col, col]\n",
    "            U[row, col] = mult\n",
    "            for k in range(col+1, order):\n",
    "                U[row, k] -= mult*U[col, k]\n",
    "    \n",
    "    # Set L and clear U\n",
    "    for row in range(1, order):\n",
    "        for col in range(row):\n",
    "            L[row, col] = U[row, col]\n",
    "            U[row, col] = 0.\n",
    "\n",
    "    if printOrNot:\n",
    "        print('P:\\n', P)\n",
    "        print('L:\\n', L)\n",
    "        print('U:\\n', U)\n",
    "\n",
    "    if check:\n",
    "        print('error:\\n', np.abs(A_-np.linalg.inv(P)@L@U))\n",
    "\n",
    "    return (P, L, U)\n",
    "\n",
    "def TwoStepBackSubstitution(P, L, U, b_, printOrNot=False, check=False):\n",
    "    b = b_.copy()\n",
    "    order = P.shape[0]\n",
    "\n",
    "    # PAx=Pb\n",
    "    # LUx=Pb\n",
    "    # Let Lc=Pb, then evaluate c\n",
    "    # Let Ux=c, then evaluate x\n",
    "\n",
    "    # Solve Lc=Pb\n",
    "    b = P@b\n",
    "    c = np.zeros(order)\n",
    "    for row in range(order):\n",
    "        for col in range(row):\n",
    "            b[row] -= L[row, col]*c[col]\n",
    "        c[row] = b[row]\n",
    "\n",
    "    # Solve Ux=c\n",
    "    x = np.zeros(order)\n",
    "    for row in range(order)[::-1]:\n",
    "        for col in range(row+1, order):\n",
    "            c[row] -= U[row, col]*x[col]\n",
    "        x[row] = c[row]/U[row, row]\n",
    "    \n",
    "    if printOrNot:\n",
    "        print('x:\\n', x)\n",
    "\n",
    "    if check:\n",
    "        print('error: ', np.abs(P@b_-L@U@x))\n",
    "    return x\n",
    "\n",
    "# Example 2.16\n",
    "testM = np.array([[2.,1,5], [4,4,-4], [1,3,1]])\n",
    "P, L, U = PA_LU_Factorization(testM, True, True)\n",
    "y = TwoStepBackSubstitution(P, L, U, np.array([5.,0,6]), True, True)\n",
    "\n",
    "# Sparse matrix test\n",
    "n = 10\n",
    "A = MakeA(n, sparseOrNot=True)\n",
    "P,L,U = PA_LU_Factorization(A, printOrNot=True)\n",
    "b = np.ones(n)*(f*(Length/n)**4/E/I)\n",
    "y = TwoStepBackSubstitution(P, L, U, b, printOrNot=True)"
   ]
  },
  {
   "cell_type": "markdown",
   "metadata": {},
   "source": [
    "1. 写出定义(2.34)中结构矩阵A的MATLAB程序。然后，使用MATLAB的\\命令或者自己设计的代码，求解系统，得到偏移 $y_i$，使用$n=10$作为网格大小.\n"
   ]
  },
  {
   "cell_type": "code",
   "execution_count": 108,
   "metadata": {},
   "outputs": [
    {
     "name": "stdout",
     "output_type": "stream",
     "text": [
      "A:\n",
      " [[16.      -9.       2.66667 -0.25     0.       0.       0.       0.       0.       0.     ]\n",
      " [-4.       6.      -4.       1.       0.       0.       0.       0.       0.       0.     ]\n",
      " [ 1.      -4.       6.      -4.       1.       0.       0.       0.       0.       0.     ]\n",
      " [ 0.       1.      -4.       6.      -4.       1.       0.       0.       0.       0.     ]\n",
      " [ 0.       0.       1.      -4.       6.      -4.       1.       0.       0.       0.     ]\n",
      " [ 0.       0.       0.       1.      -4.       6.      -4.       1.       0.       0.     ]\n",
      " [ 0.       0.       0.       0.       1.      -4.       6.      -4.       1.       0.     ]\n",
      " [ 0.       0.       0.       0.       0.       1.      -4.       6.      -4.       1.     ]\n",
      " [ 0.       0.       0.       0.       0.       0.       0.94118 -3.52941  4.23529 -1.64706]\n",
      " [ 0.       0.       0.       0.       0.       0.      -0.70588  5.64706 -9.17647  4.23529]]\n",
      "x:\n",
      " [-0.00018 -0.00067 -0.00142 -0.00235 -0.00342 -0.00459 -0.00582 -0.00709 -0.00837 -0.00966]\n"
     ]
    }
   ],
   "source": [
    "n = 10\n",
    "A = MakeA(n, True)\n",
    "b = np.ones(n)*(f*(Length/n)**4/E/I)\n",
    "P,L,U = PA_LU_Factorization(A)\n",
    "y = TwoStepBackSubstitution(P, L, U, b, True)"
   ]
  },
  {
   "cell_type": "markdown",
   "metadata": {},
   "source": [
    "2. 同时画出步骤1中的解和正确解，$y(x)=(f/24EI)x^2(x^2-4Lx+6L^2)$，其中f=f(x)是上面定义的常数.在横梁末端检查误差，此时 $x=Lm$，在这种简单情况下，导数近似是正确的，因而你的误差接近机器舍入的结果."
   ]
  },
  {
   "cell_type": "code",
   "execution_count": 57,
   "metadata": {},
   "outputs": [
    {
     "name": "stdout",
     "output_type": "stream",
     "text": [
      "Error on end: 2.0122792321330962e-15\n"
     ]
    },
    {
     "data": {
      "image/png": "[encoded data removed]",
      "text/plain": [
       "<Figure size 1500x600 with 1 Axes>"
      ]
     },
     "metadata": {},
     "output_type": "display_data"
    }
   ],
   "source": [
    "X1 = np.linspace(0, 2, 11)\n",
    "Y1 = np.insert(y, 0, 0)\n",
    "\n",
    "X2 = np.linspace(0, 2, 201)\n",
    "yWithConstLoad = lambda x: f/(24*E*I)*x**2*(x**2-4*Length*x+6*Length**2)\n",
    "Y2 = yWithConstLoad(X2)\n",
    "print('Error on end:', np.abs(Y1[-1]-Y2[-1]))\n",
    "\n",
    "import matplotlib.pyplot as plt\n",
    "plt.figure(figsize=(15, 6))\n",
    "line1, = plt.plot(X1, Y1, color='b', marker='o')\n",
    "line2, = plt.plot(X2, Y2, color='r')\n",
    "plt.legend((line1, line2), ['Discretized', 'Analytical'])\n",
    "axes = plt.gca()\n",
    "axes.grid()\n",
    "plt.show()"
   ]
  },
  {
   "cell_type": "markdown",
   "metadata": {},
   "source": [
    "3. 返回步骤1中的计算，对于 $n=10\\cdot 2^k$，其中 $k=1,\\dots,11$ .对于每个n在$x=L$时的误差制表，对于哪一个n这个误差最小?为什么这个误差在某一点后随着n增加?你可以再做一张关于A的条件数的表，该条件数对应一个关于n的函数，并有助于对最后一个问题的回答. 对于一个大的k实施这个步骤，你可能需要让MATLAB把矩阵A保存为一个稀疏矩阵以避免完全消耗内存，使用命令A=sparse(n,n)初始化A，就可以得到稀疏矩阵，其他操作和前面一样，我们将在下一节中更加详细地讨论稀疏矩阵.\n"
   ]
  },
  {
   "cell_type": "code",
   "execution_count": 120,
   "metadata": {},
   "outputs": [
    {
     "name": "stdout",
     "output_type": "stream",
     "text": [
      "k: 1\n",
      "    spsolve...\n",
      "    Calculate condition number...\n",
      "k: 2\n",
      "    spsolve...\n",
      "    Calculate condition number...\n",
      "k: 3\n",
      "    spsolve...\n",
      "    Calculate condition number...\n",
      "k: 4\n",
      "    spsolve...\n",
      "    Calculate condition number...\n",
      "k: 5\n",
      "    spsolve...\n",
      "    Calculate condition number...\n",
      "k: 6\n",
      "    spsolve...\n",
      "    Calculate condition number...\n"
     ]
    },
    {
     "name": "stderr",
     "output_type": "stream",
     "text": [
      "C:\\Users\\13988\\AppData\\Local\\Temp\\ipykernel_11176\\2252788294.py:12: SparseEfficiencyWarning: spsolve requires A be CSC or CSR matrix format\n",
      "  y = sparse_linalg.spsolve(A, b)\n",
      "c:\\Users\\13988\\AppData\\Local\\Programs\\Python\\Python312\\Lib\\site-packages\\scipy\\sparse\\linalg\\_matfuncs.py:76: SparseEfficiencyWarning: spsolve requires A be CSC or CSR matrix format\n",
      "  Ainv = spsolve(A, I)\n",
      "c:\\Users\\13988\\AppData\\Local\\Programs\\Python\\Python312\\Lib\\site-packages\\scipy\\sparse\\linalg\\_matfuncs.py:76: SparseEfficiencyWarning: spsolve is more efficient when sparse b is in the CSC matrix format\n",
      "  Ainv = spsolve(A, I)\n"
     ]
    },
    {
     "name": "stdout",
     "output_type": "stream",
     "text": [
      "k: 7\n",
      "    spsolve...\n",
      "    Calculate condition number...\n",
      "k: 8\n",
      "    spsolve...\n",
      "    Calculate condition number...\n",
      "k: 9\n",
      "    spsolve...\n",
      "    Calculate condition number...\n",
      "k: 10\n",
      "    spsolve...\n",
      "    Calculate condition number...\n",
      "k: 11\n",
      "    spsolve...\n",
      "    Calculate condition number...\n",
      "[558333.3333340492, 8933333.333328208, 142933333.3040416, 2286933336.605055, 36590932221.55964, 585454968794.5847, 9367285639550.219, 149871870982524.78, 2398118591913163.5, 3.8168156878572776e+16, 6.006570850054981e+17]\n"
     ]
    }
   ],
   "source": [
    "# PA_LU_Factorization is quite slow, so we change to use \n",
    "Y = []\n",
    "cond = []\n",
    "\n",
    "for k in range(1, 12):\n",
    "    print(f'k: {k}')\n",
    "    n = 10*2**k\n",
    "    A = MakeA(n, sparseOrNot=True)\n",
    "    b = np.ones(n)*(f*(Length/n)**4/E/I)\n",
    "\n",
    "    print('    spsolve...')\n",
    "    y = sparse_linalg.spsolve(A, b)\n",
    "    Y.append(y[-1])\n",
    "\n",
    "    print('    Calculate condition number...')\n",
    "    normOfA = sparse_linalg.norm(A, np.inf)\n",
    "    normOfAInverse = sparse_linalg.norm(sparse_linalg.inv(A), np.inf)\n",
    "    cond.append(normOfA*normOfAInverse)\n",
    "\n",
    "print(cond)\n",
    "\n",
    "# TODO\n",
    "# SparseEfficiencyWarning: spsolve requires A be CSC or CSR matrix format\n",
    "#   y = sparse_linalg.spsolve(A, b)\n",
    "# SparseEfficiencyWarning: spsolve requires A be CSC or CSR matrix format\n",
    "#   Ainv = spsolve(A, I)\n",
    "# SparseEfficiencyWarning: spsolve is more efficient when sparse b is in the CSC matrix format\n",
    "#   Ainv = spsolve(A, I)"
   ]
  },
  {
   "cell_type": "code",
   "execution_count": 132,
   "metadata": {},
   "outputs": [
    {
     "name": "stdout",
     "output_type": "stream",
     "text": [
      "[1.23842e-14 5.53377e-15 1.97946e-12 1.38184e-11 2.93480e-10 5.85054e-10 6.91512e-09 2.95937e-07 3.83399e-07\n",
      " 5.04039e-05 2.08271e-04]\n"
     ]
    },
    {
     "data": {
      "image/png": "[encoded data removed]",
      "text/plain": [
       "<Figure size 1500x600 with 2 Axes>"
      ]
     },
     "metadata": {},
     "output_type": "display_data"
    }
   ],
   "source": [
    "fig, axLeft = plt.subplots(figsize=(15, 6))\n",
    "X = range(1, 12)\n",
    "standardShift = -0.009659076923076925\n",
    "error = np.abs(np.array(Y)-standardShift)\n",
    "print(error)\n",
    "# 在n=10*2**2=40时，误差最小\n",
    "\n",
    "axLeft.plot(X, error, color='b', marker='o')\n",
    "axLeft.set_ylabel('error', labelpad=20, rotation='horizontal')\n",
    "\n",
    "axRight = axLeft.twinx()\n",
    "axRight.plot(X, cond, color='r', marker='o')\n",
    "axRight.set_ylabel('cond', labelpad=20, rotation='horizontal')\n",
    "\n",
    "fig.legend((line1, line2), ['y[-1]', 'cond'])\n",
    "axes = plt.gca()\n",
    "axes.grid()\n",
    "plt.show()\n"
   ]
  },
  {
   "cell_type": "code",
   "execution_count": 133,
   "metadata": {},
   "outputs": [],
   "source": [
    "# 条件数的急剧增加导致微分方程的离散化技术失效？"
   ]
  },
  {
   "cell_type": "markdown",
   "metadata": {},
   "source": [
    "4. 对横梁加上正弦压力，这意味着给受力项加上一个形如 $s(x)=pg\\sin{\\frac{\\pi}{L}x}$ 的函数。证明解\n",
    "$$\n",
    "y(x)=\\frac{f}{24EI}x^2(x^2-4Lx+6L^2)-\\frac{pgL}{EI\\pi}(\\frac{L^3}{\\pi^3}\\sin\\frac{\\pi}{L}x-\\frac{x^3}{6}+\\frac{L}{2}x^2-\\frac{L^2}{\\pi^2}x)\n",
    "$$\n",
    "$\\quad$ 满足欧拉-伯努利横梁方程以及钳制-自由边界条件."
   ]
  },
  {
   "cell_type": "markdown",
   "metadata": {},
   "source": [
    "$$\n",
    "\\begin{aligned}\n",
    "Let \\; z(x)&=\\frac{f}{24EI}x^2(x^2-4Lx+6L^2) \\\\\\\\\n",
    "y(0)&=0 \\\\\\\\\n",
    "y'&=z'-\\frac{pgL}{EI\\pi}(\\frac{L^2}{\\pi^2}\\cos{\\frac\\pi Lx}-\\frac{x^2}{2}+Lx-\\frac{L^2}{\\pi^2}) \\\\\n",
    "y'(0)&=z'(0)-\\frac{pgL}{EI\\pi}(\\frac{L^2}{\\pi^2}-\\frac{L^2}{\\pi^2})=0 \\\\\\\\\n",
    "y''&=z''-\\frac{pgL}{EI\\pi}(-\\frac{L}{\\pi}\\sin{\\frac\\pi Lx}-x+L) \\\\\n",
    "y''(L)&=z''(L)-\\frac{pgL}{EI\\pi}(-L+L)=0 \\\\\\\\\n",
    "y'''&=z'''-\\frac{pgL}{EI\\pi}(-\\cos{\\frac\\pi Lx}-1) \\\\\n",
    "y'''(L)&=z'''(L)-0=0 \\\\\n",
    "\\end{aligned}\n",
    "$$"
   ]
  },
  {
   "cell_type": "markdown",
   "metadata": {},
   "source": [
    "5. 重新运行第3步中对于正弦负载的计算. (确保包含了横臂自身的重量.) 设 $p=100kg/m$，同时画出你的计算结果和正确的解. 回答步骤3中的问题，并回答下面的问题: 在x=L点的误差和前面生成的$h^2$是否成比例? 你可以在log-log图上画出误差与h，来探求该问题. 条件数起作用了吗?"
   ]
  },
  {
   "cell_type": "markdown",
   "metadata": {},
   "source": [
    "6. 现在移除正弦负载并在横梁上加上70kg跳水员，在横梁的最后20cm保持平衡. 你必须对 $f(x_i)$ 在单位长度加上力一g乘上 $70/0.2kg/m，1.8\\leqslant z\\leqslant 2$, 使用步骤5中找到的最优的n值，并再次求解问题. 画出图并找出跳水板在自由端的偏斜度."
   ]
  },
  {
   "cell_type": "markdown",
   "metadata": {},
   "source": [
    "7. 如果我们把跳水板的自由端也固定，就得到钳制-钳制横梁，两端的边界条件相同 $y(0)=y'(0)=y'(L)=0$. 它用于对下陷结构，例如桥梁，进行建模, 从有微小差异的均匀步长格点开始 $0=x_0<x_1<\\dots<x_n><x_{n+1}$，其中 $h=x_i-x_{i-1}, i=1, \\dots ,n$，找出具有n个方程n个未知变量的系统，用于确定 $y_1, \\dots y_n$. (这和钳制-自由版本的模型类似，除了系数矩阵A的最后两行应该是前两行的反转. )对于正弦负载进行求解，并对于横梁中心 $x=L/2$ 回答步骤5中的问题。在正弦负载下的钳制-钳制横梁的精确解是\n",
    "$$\n",
    "y(x)=\\frac{f}{24EI}x^2(L-x)^2-\\frac{pgL}{\\pi^4EI}(L^3\\sin\\frac{\\pi}{L}x+\\pi x(x-L))\n",
    "$$\n"
   ]
  },
  {
   "cell_type": "markdown",
   "metadata": {},
   "source": [
    "8. 更多探索的想法:如果跳水板的宽度加倍，跳水板的偏移该如何变化? 如果跳水板的厚度加倍这种变化会更多还是更少? (两个板的质量相同.)如果横截面是圆形或者环形，但是面积和矩形截面相同，最大偏移量会如何变化?( 面积惯性模量对于半径为r的圆形截面是 $I=\\pi r^4/4$，对于内半径为 $r_1$ 外半径为 $r_2$ 的环形截面的面积惯性模量是 $I=π(r_2^4-r_1^4)/4$.) 找出对于I横梁的面积惯性模量. 不同材质的杨氏模量已知并已经被制表，例如，钢材的密度是 $7850kg/m^3$ ，它对应的杨氏模量大约是 $2X10^{11}$ 帕斯卡.   欧拉-伯努利是一个相对简单、经典的模型，更多最近的模型考虑更加奇异的扭曲，例如Timoshenko 横梁，其中横梁的截面与横梁的主轴可能不垂直."
   ]
  }
 ],
 "metadata": {
  "kernelspec": {
   "display_name": "Python 3",
   "language": "python",
   "name": "python3"
  },
  "language_info": {
   "codemirror_mode": {
    "name": "ipython",
    "version": 3
   },
   "file_extension": ".py",
   "mimetype": "text/x-python",
   "name": "python",
   "nbconvert_exporter": "python",
   "pygments_lexer": "ipython3",
   "version": "3.12.2"
  }
 },
 "nbformat": 4,
 "nbformat_minor": 2
}
