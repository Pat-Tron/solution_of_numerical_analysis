{
 "cells": [
  {
   "cell_type": "code",
   "execution_count": 1,
   "metadata": {},
   "outputs": [],
   "source": [
    "import numpy as np\n",
    "import matplotlib.pyplot as plt\n",
    "\n",
    "np.set_printoptions(linewidth=140)"
   ]
  },
  {
   "cell_type": "markdown",
   "metadata": {},
   "source": [
    "1. 使用下面的世界人口图估计1980年的人口，使用\n",
    "    - (a)从1970年到1990年估计的直线\n",
    "    - (b)由1960年1970年和1990年估计得到的抛物线和\n",
    "    - (c)由所有4个点得到的三次样条.与1980年的估计值4,452,584,592进行比较.\n",
    "\n",
    "    | 年 | 人口 |\n",
    "    | --- | --- |\n",
    "    | 1960 | 3,039,585,530 |\n",
    "    | 1970 | 3,707,475,887 |\n",
    "    | 1990 | 5,281,653,820 |\n",
    "    | 2000 | 6,079,603,571 |"
   ]
  },
  {
   "cell_type": "code",
   "execution_count": 15,
   "metadata": {},
   "outputs": [],
   "source": [
    "def Newton(samples):\n",
    "    n = len(samples)\n",
    "    # Newton difference quotient lower triangle matrix.\n",
    "    f = np.zeros((n, n), dtype=np.float64)\n",
    "\n",
    "    for i in range(n):\n",
    "        f[i, 0] = samples[i][1]\n",
    "\n",
    "    for col in range(1, n):\n",
    "        for row in range(col, n):\n",
    "            f[row, col] = (f[row, col-1]-f[row-1, col-1]) / (samples[row][0]-samples[row-col][0])\n",
    "    print(f)\n",
    "\n",
    "    def p(x):\n",
    "        r = 0.\n",
    "        factor = 1.\n",
    "        for i in range(n):\n",
    "            r += f[i, i] * factor\n",
    "            factor *= x - samples[i][0]\n",
    "        return r\n",
    "\n",
    "    return p"
   ]
  },
  {
   "cell_type": "code",
   "execution_count": 25,
   "metadata": {},
   "outputs": [
    {
     "name": "stdout",
     "output_type": "stream",
     "text": [
      "[[3.70747589e+09 0.00000000e+00]\n",
      " [5.28165382e+09 7.87088967e+07]]\n",
      "4494564853.5\n",
      "41980261.5\n"
     ]
    }
   ],
   "source": [
    "fa = Newton([(1970, 3707475887), (1990, 5281653820)])\n",
    "print(fa(1980))\n",
    "print(np.abs(fa(1980) - 4452584592))"
   ]
  },
  {
   "cell_type": "code",
   "execution_count": 26,
   "metadata": {},
   "outputs": [
    {
     "name": "stdout",
     "output_type": "stream",
     "text": [
      "[[3.03958553e+09 0.00000000e+00 0.00000000e+00]\n",
      " [3.70747589e+09 6.67890357e+07 0.00000000e+00]\n",
      " [5.28165382e+09 7.87088967e+07 3.97328698e+05]]\n",
      "4454831983.666667\n",
      "2247391.6666669846\n"
     ]
    }
   ],
   "source": [
    "fb = Newton([(1960, 3039585530), (1970, 3707475887), (1990, 5281653820)])\n",
    "print(fb(1980))\n",
    "print(np.abs(fb(1980) - 4452584592))"
   ]
  },
  {
   "cell_type": "code",
   "execution_count": 24,
   "metadata": {},
   "outputs": [
    {
     "name": "stdout",
     "output_type": "stream",
     "text": [
      "[[ 3.03958553e+09  0.00000000e+00  0.00000000e+00  0.00000000e+00]\n",
      " [ 3.70747589e+09  6.67890357e+07  0.00000000e+00  0.00000000e+00]\n",
      " [ 5.28165382e+09  7.87088967e+07  3.97328698e+05  0.00000000e+00]\n",
      " [ 6.07960357e+09  7.97949751e+07  3.62026150e+04 -9.02815208e+03]]\n",
      "4472888287.833334\n",
      "20303695.83333397\n"
     ]
    }
   ],
   "source": [
    "fc = Newton([(1960, 3039585530), (1970, 3707475887), (1990, 5281653820), (2000, 6079603571)])\n",
    "print(fc(1980))\n",
    "print(np.abs(fc(1980) - 4452584592))"
   ]
  },
  {
   "cell_type": "markdown",
   "metadata": {},
   "source": [
    "2. 写出程序3.2的`MATLAB`函数的另一个版本，其输人的x和y是长度相同的向量，而输出为画出的插值多项式. 以这种方程，输人的点可以比鼠标点选更精确，通过重现图3.2检查你的程序."
   ]
  },
  {
   "cell_type": "code",
   "execution_count": null,
   "metadata": {},
   "outputs": [],
   "source": [
    "# 从3.1开始就不强求做完习题了，找工作优先。"
   ]
  },
  {
   "cell_type": "markdown",
   "metadata": {},
   "source": [
    "3. 写出`MATLAB`函数`polyinterp.m`，其输人为一组插值点(z，y)和另一个工，输出为为，为对应插值多项式在工 的取值.文件的第一行为`function y0=polyinterp(x,y,x0)`,其中x和y是输人的数据点向量，你的函数可以调用程序3.1中的`newtdd`以及第0章中的`nest`，这和程序3.2的结构相似，但是没有图形，证实你的函数可以工作."
   ]
  },
  {
   "cell_type": "markdown",
   "metadata": {},
   "source": [
    "4. 对程序3.3中`sin1`计算器键重新建模构造`cos1`，cosine函数计算键遵循相同原则: 首先确定cosine函数的基础域."
   ]
  },
  {
   "cell_type": "markdown",
   "metadata": {},
   "source": [
    "5. \n",
    "    - (a)对于 sin和cos的求和公式证明 $tan(x/2-z)=1/tan$,\n",
    "    - (b)证明[0，x/4]可用于 tanz 的基础城\n",
    "    - (c)设计tangent键，遵循程序3.3的规则，在基础域中使用3阶的插值多项式.\n",
    "    - (d)由经验计算tangem:键在区间 $[0，x/4]$ 的最大误差."
   ]
  }
 ],
 "metadata": {
  "kernelspec": {
   "display_name": "Python 3",
   "language": "python",
   "name": "python3"
  },
  "language_info": {
   "codemirror_mode": {
    "name": "ipython",
    "version": 3
   },
   "file_extension": ".py",
   "mimetype": "text/x-python",
   "name": "python",
   "nbconvert_exporter": "python",
   "pygments_lexer": "ipython3",
   "version": "3.12.1"
  }
 },
 "nbformat": 4,
 "nbformat_minor": 2
}
